{
 "cells": [
  {
   "cell_type": "code",
   "execution_count": 1,
   "metadata": {},
   "outputs": [],
   "source": [
    "import sys; sys.path.insert(0, '../notebooks/')\n",
    "import tohu\n",
    "from tohu.generators import BaseGenerator, HashDigest, Integer, SelectOne\n",
    "from tohu.custom_generator import logger, CustomGenerator, CustomGeneratorMeta\n",
    "from tohu.debugging import DummyGenerator\n",
    "from utils import print_generated_sequence\n",
    "tohu.logger.setLevel('DEBUG')\n",
    "tohu.debugging.logger.setLevel('DEBUG')"
   ]
  },
  {
   "cell_type": "code",
   "execution_count": 2,
   "metadata": {},
   "outputs": [],
   "source": [
    "#g = DummyGenerator(name='quux')\n",
    "g = HashDigest(length=6)"
   ]
  },
  {
   "cell_type": "code",
   "execution_count": 3,
   "metadata": {},
   "outputs": [],
   "source": [
    "h1 = g.clone()\n",
    "h2 = g.clone()"
   ]
  },
  {
   "cell_type": "code",
   "execution_count": 4,
   "metadata": {},
   "outputs": [
    {
     "name": "stdout",
     "output_type": "stream",
     "text": [
      "<tohu.generators.HashDigest object at 0x1100617f0>\n",
      "<ClonedGenerator: id=4563043552, parent=<tohu.generators.HashDigest object at 0x1100617f0> >\n",
      "<ClonedGenerator: id=4563046016, parent=<tohu.generators.HashDigest object at 0x1100617f0> >\n"
     ]
    }
   ],
   "source": [
    "print(g)\n",
    "print(h1)\n",
    "print(h2)"
   ]
  },
  {
   "cell_type": "code",
   "execution_count": 5,
   "metadata": {},
   "outputs": [
    {
     "data": {
      "text/plain": [
       "[<ClonedGenerator: id=4563043552, parent=<tohu.generators.HashDigest object at 0x1100617f0> >,\n",
       " <ClonedGenerator: id=4563046016, parent=<tohu.generators.HashDigest object at 0x1100617f0> >]"
      ]
     },
     "execution_count": 5,
     "metadata": {},
     "output_type": "execute_result"
    }
   ],
   "source": [
    "g._clones"
   ]
  },
  {
   "cell_type": "code",
   "execution_count": 6,
   "metadata": {},
   "outputs": [
    {
     "name": "stderr",
     "output_type": "stream",
     "text": [
      "2018-08-31 01:53:20 DEBUG  Resetting cloned generator <ClonedGenerator: id=4563043552, parent=<tohu.generators.HashDigest object at 0x1100617f0> > (seed=12345)\n",
      "2018-08-31 01:53:20 DEBUG  Resetting cloned generator <ClonedGenerator: id=4563046016, parent=<tohu.generators.HashDigest object at 0x1100617f0> > (seed=12345)\n",
      "2018-08-31 01:53:20 DEBUG  Resetting cloned generator <ClonedGenerator: id=4563043552, parent=<tohu.generators.HashDigest object at 0x1100617f0> > (seed=12345)\n",
      "2018-08-31 01:53:20 DEBUG  Resetting cloned generator <ClonedGenerator: id=4563046016, parent=<tohu.generators.HashDigest object at 0x1100617f0> > (seed=12345)\n"
     ]
    }
   ],
   "source": [
    "g.reset(seed=12345)"
   ]
  },
  {
   "cell_type": "code",
   "execution_count": 7,
   "metadata": {},
   "outputs": [
    {
     "name": "stdout",
     "output_type": "stream",
     "text": [
      "Generated sequence: 924A90, 03AAD6, A3A0E2, 9AE4B9, 76E73D, 2F33A4\n",
      "Generated sequence: 924A90, 03AAD6, A3A0E2, 9AE4B9, 76E73D, 2F33A4\n",
      "Generated sequence: 924A90, 03AAD6, A3A0E2, 9AE4B9, 76E73D, 2F33A4\n"
     ]
    }
   ],
   "source": [
    "print_generated_sequence(g, num=6)\n",
    "print_generated_sequence(h1, num=6)\n",
    "print_generated_sequence(h2, num=6)"
   ]
  },
  {
   "cell_type": "markdown",
   "metadata": {},
   "source": [
    "- - -"
   ]
  },
  {
   "cell_type": "code",
   "execution_count": 8,
   "metadata": {},
   "outputs": [
    {
     "name": "stderr",
     "output_type": "stream",
     "text": [
      "DEBUG  [DDD]\n",
      "DEBUG  CustomGeneratorMeta.__new__\n",
      "DEBUG     - metacls=<class 'tohu.custom_generator.CustomGeneratorMeta'>\n",
      "DEBUG     - cg_name=QuuxGenerator\n",
      "DEBUG     - bases=(<class 'tohu.custom_generator.CustomGenerator'>,)\n",
      "DEBUG     - clsdict={'__module__': '__main__', '__qualname__': 'QuuxGenerator', 'aa': <tohu.generators.HashDigest object at 0x11d66b390>, 'bb': <ClonedGenerator: id=4788237648, parent=<tohu.generators.HashDigest object at 0x11d66b390> >, 'cc': <ClonedGenerator: id=4788237984, parent=<tohu.generators.HashDigest object at 0x11d66b390> >, 'dd': <ClonedGenerator: id=4788238544, parent=<tohu.generators.HashDigest object at 0x11d66b390> >, 'ee': <tohu.generators.HashDigest object at 0x11d66b390>, 'ff': <ClonedGenerator: id=4788238544, parent=<tohu.generators.HashDigest object at 0x11d66b390> >}\n",
      "DEBUG     - new_obj=<class '__main__.QuuxGenerator'>\n",
      "DEBUG  Using item class name 'Quux' (derived from custom generator name)\n"
     ]
    }
   ],
   "source": [
    "class QuuxGenerator(CustomGenerator):\n",
    "#class QuuxGenerator(BaseGenerator, metaclass=CustomGeneratorMeta):\n",
    "    aa = HashDigest(length=8)\n",
    "    #aa = DummyGenerator('quux')\n",
    "    bb = aa.clone()\n",
    "    cc = aa.clone()\n",
    "    dd = bb.clone()\n",
    "    ee = aa\n",
    "    ff = dd"
   ]
  },
  {
   "cell_type": "code",
   "execution_count": 9,
   "metadata": {},
   "outputs": [
    {
     "name": "stderr",
     "output_type": "stream",
     "text": [
      "DEBUG  [FFF]\n",
      "DEBUG  cls_dict:\n",
      "DEBUG     __module__: __main__\n",
      "DEBUG     aa: <tohu.generators.HashDigest object at 0x11d66b390>\n",
      "DEBUG     bb: <ClonedGenerator: id=4788237648, parent=<tohu.generators.HashDigest object at 0x11d66b390> >\n",
      "DEBUG     cc: <ClonedGenerator: id=4788237984, parent=<tohu.generators.HashDigest object at 0x11d66b390> >\n",
      "DEBUG     dd: <ClonedGenerator: id=4788238544, parent=<tohu.generators.HashDigest object at 0x11d66b390> >\n",
      "DEBUG     ee: <tohu.generators.HashDigest object at 0x11d66b390>\n",
      "DEBUG     ff: <ClonedGenerator: id=4788238544, parent=<tohu.generators.HashDigest object at 0x11d66b390> >\n",
      "DEBUG     __doc__: None\n",
      "DEBUG     __init__: <function attach_new_init_method.<locals>.new_init at 0x11d7122f0>\n",
      "DEBUG     reset: <function attach_new_reset_method.<locals>.new_reset at 0x11d712598>\n",
      "DEBUG     clone: <function attach_make_clone_method.<locals>.make_clone at 0x11d7120d0>\n",
      "DEBUG     __tohu_items_name__: Quux\n",
      "DEBUG     __next__: <function attach_new_next_method.<locals>.new_next at 0x11d7121e0>\n",
      "DEBUG     _spawn: <function attach_new_spawn_method.<locals>.new_spawn at 0x11d712620>\n",
      "DEBUG  obj_dict:\n",
      "DEBUG     _clones: []\n",
      "DEBUG  Found 6 field generator template(s):\n",
      "DEBUG     aa: <tohu.generators.HashDigest object at 0x11d66b390>\n",
      "DEBUG     bb: <ClonedGenerator: id=4788237648, parent=<tohu.generators.HashDigest object at 0x11d66b390> >\n",
      "DEBUG     cc: <ClonedGenerator: id=4788237984, parent=<tohu.generators.HashDigest object at 0x11d66b390> >\n",
      "DEBUG     dd: <ClonedGenerator: id=4788238544, parent=<tohu.generators.HashDigest object at 0x11d66b390> >\n",
      "DEBUG     ee: <tohu.generators.HashDigest object at 0x11d66b390>\n",
      "DEBUG     ff: <ClonedGenerator: id=4788238544, parent=<tohu.generators.HashDigest object at 0x11d66b390> >\n",
      "DEBUG  Spawning field generator templates...\n",
      "DEBUG  Reattaching cloned generator <ClonedGenerator: id=4788237648, parent=<tohu.generators.HashDigest object at 0x11d66b390> > to new parent <tohu.generators.HashDigest object at 0x11d72fb38>\n",
      "DEBUG  Reattaching cloned generator <ClonedGenerator: id=4788237984, parent=<tohu.generators.HashDigest object at 0x11d66b390> > to new parent <tohu.generators.HashDigest object at 0x11d72fb38>\n",
      "DEBUG  Reattaching cloned generator <ClonedGenerator: id=4788238544, parent=<tohu.generators.HashDigest object at 0x11d66b390> > to new parent <tohu.generators.HashDigest object at 0x11d72fb38>\n",
      "DEBUG  Cloning generator ee=<tohu.generators.HashDigest object at 0x11d66b390> because it is an alias for an existing generator\n",
      "DEBUG  Reattaching cloned generator <ClonedGenerator: id=4788291008, parent=<tohu.generators.HashDigest object at 0x11d66b390> > to new parent <tohu.generators.HashDigest object at 0x11d72fb38>\n",
      "DEBUG  Reattaching cloned generator <ClonedGenerator: id=4788238544, parent=<tohu.generators.HashDigest object at 0x11d66b390> > to new parent <tohu.generators.HashDigest object at 0x11d72fb38>\n",
      "DEBUG  Field generators attached to custom generator:\n",
      "DEBUG     aa: <tohu.generators.HashDigest object at 0x11d72fb38>\n",
      "DEBUG     bb: <ClonedGenerator: id=4788236640, parent=<tohu.generators.HashDigest object at 0x11d72fb38> >\n",
      "DEBUG     cc: <ClonedGenerator: id=4788290392, parent=<tohu.generators.HashDigest object at 0x11d72fb38> >\n",
      "DEBUG     dd: <ClonedGenerator: id=4788290728, parent=<tohu.generators.HashDigest object at 0x11d72fb38> >\n",
      "DEBUG     ee: <ClonedGenerator: id=4788291512, parent=<tohu.generators.HashDigest object at 0x11d72fb38> >\n",
      "DEBUG     ff: <ClonedGenerator: id=4788291736, parent=<tohu.generators.HashDigest object at 0x11d72fb38> >\n",
      "DEBUG  [FFF]\n",
      "DEBUG  cls_dict:\n",
      "DEBUG     __module__: __main__\n",
      "DEBUG     aa: <tohu.generators.HashDigest object at 0x11d66b390>\n",
      "DEBUG     bb: <ClonedGenerator: id=4788237648, parent=<tohu.generators.HashDigest object at 0x11d66b390> >\n",
      "DEBUG     cc: <ClonedGenerator: id=4788237984, parent=<tohu.generators.HashDigest object at 0x11d66b390> >\n",
      "DEBUG     dd: <ClonedGenerator: id=4788238544, parent=<tohu.generators.HashDigest object at 0x11d66b390> >\n",
      "DEBUG     ee: <tohu.generators.HashDigest object at 0x11d66b390>\n",
      "DEBUG     ff: <ClonedGenerator: id=4788238544, parent=<tohu.generators.HashDigest object at 0x11d66b390> >\n",
      "DEBUG     __doc__: None\n",
      "DEBUG     __init__: <function attach_new_init_method.<locals>.new_init at 0x11d7122f0>\n",
      "DEBUG     reset: <function attach_new_reset_method.<locals>.new_reset at 0x11d712598>\n",
      "DEBUG     clone: <function attach_make_clone_method.<locals>.make_clone at 0x11d7120d0>\n",
      "DEBUG     __tohu_items_name__: Quux\n",
      "DEBUG     __next__: <function attach_new_next_method.<locals>.new_next at 0x11d7121e0>\n",
      "DEBUG     _spawn: <function attach_new_spawn_method.<locals>.new_spawn at 0x11d712620>\n",
      "DEBUG     item_cls: <class 'tohu.custom_generator.Quux'>\n",
      "DEBUG  obj_dict:\n",
      "DEBUG     _clones: []\n",
      "DEBUG     field_gens: {'aa': <tohu.generators.HashDigest object at 0x11d72fb38>, 'bb': <ClonedGenerator: id=4788236640, parent=<tohu.generators.HashDigest object at 0x11d72fb38> >, 'cc': <ClonedGenerator: id=4788290392, parent=<tohu.generators.HashDigest object at 0x11d72fb38> >, 'dd': <ClonedGenerator: id=4788290728, parent=<tohu.generators.HashDigest object at 0x11d72fb38> >, 'ee': <ClonedGenerator: id=4788291512, parent=<tohu.generators.HashDigest object at 0x11d72fb38> >, 'ff': <ClonedGenerator: id=4788291736, parent=<tohu.generators.HashDigest object at 0x11d72fb38> >}\n",
      "DEBUG     seed_generator: <tohu.generators.SeedGenerator object at 0x11d6789e8>\n",
      "DEBUG  Found 6 field generator template(s):\n",
      "DEBUG     aa: <tohu.generators.HashDigest object at 0x11d66b390>\n",
      "DEBUG     bb: <ClonedGenerator: id=4788237648, parent=<tohu.generators.HashDigest object at 0x11d66b390> >\n",
      "DEBUG     cc: <ClonedGenerator: id=4788237984, parent=<tohu.generators.HashDigest object at 0x11d66b390> >\n",
      "DEBUG     dd: <ClonedGenerator: id=4788238544, parent=<tohu.generators.HashDigest object at 0x11d66b390> >\n",
      "DEBUG     ee: <tohu.generators.HashDigest object at 0x11d66b390>\n",
      "DEBUG     ff: <ClonedGenerator: id=4788238544, parent=<tohu.generators.HashDigest object at 0x11d66b390> >\n",
      "DEBUG  Spawning field generator templates...\n",
      "DEBUG  Reattaching cloned generator <ClonedGenerator: id=4788237648, parent=<tohu.generators.HashDigest object at 0x11d66b390> > to new parent <tohu.generators.HashDigest object at 0x11d678f28>\n",
      "DEBUG  Reattaching cloned generator <ClonedGenerator: id=4788237984, parent=<tohu.generators.HashDigest object at 0x11d66b390> > to new parent <tohu.generators.HashDigest object at 0x11d678f28>\n",
      "DEBUG  Reattaching cloned generator <ClonedGenerator: id=4788238544, parent=<tohu.generators.HashDigest object at 0x11d66b390> > to new parent <tohu.generators.HashDigest object at 0x11d678f28>\n",
      "DEBUG  Cloning generator ee=<tohu.generators.HashDigest object at 0x11d66b390> because it is an alias for an existing generator\n",
      "DEBUG  Reattaching cloned generator <ClonedGenerator: id=4789000680, parent=<tohu.generators.HashDigest object at 0x11d66b390> > to new parent <tohu.generators.HashDigest object at 0x11d678f28>\n",
      "DEBUG  Reattaching cloned generator <ClonedGenerator: id=4788238544, parent=<tohu.generators.HashDigest object at 0x11d66b390> > to new parent <tohu.generators.HashDigest object at 0x11d678f28>\n",
      "DEBUG  Field generators attached to custom generator:\n",
      "DEBUG     aa: <tohu.generators.HashDigest object at 0x11d678f28>\n",
      "DEBUG     bb: <ClonedGenerator: id=4788999896, parent=<tohu.generators.HashDigest object at 0x11d678f28> >\n",
      "DEBUG     cc: <ClonedGenerator: id=4789000176, parent=<tohu.generators.HashDigest object at 0x11d678f28> >\n",
      "DEBUG     dd: <ClonedGenerator: id=4789000344, parent=<tohu.generators.HashDigest object at 0x11d678f28> >\n",
      "DEBUG     ee: <ClonedGenerator: id=4789001016, parent=<tohu.generators.HashDigest object at 0x11d678f28> >\n",
      "DEBUG     ff: <ClonedGenerator: id=4788290952, parent=<tohu.generators.HashDigest object at 0x11d678f28> >\n"
     ]
    }
   ],
   "source": [
    "g = QuuxGenerator()"
   ]
  },
  {
   "cell_type": "code",
   "execution_count": 10,
   "metadata": {},
   "outputs": [
    {
     "name": "stderr",
     "output_type": "stream",
     "text": [
      "DEBUG  [EEE] Inside automatically generated reset() method for <__main__.QuuxGenerator object at 0x11d72f7b8> (seed=12345)\n",
      "DEBUG  Resetting field generator aa=<tohu.generators.HashDigest object at 0x11d678f28> with seed=831769172\n",
      "2018-08-31 01:53:20 DEBUG  Resetting cloned generator <ClonedGenerator: id=4788999896, parent=<tohu.generators.HashDigest object at 0x11d678f28> > (seed=831769172)\n",
      "2018-08-31 01:53:20 DEBUG  Resetting cloned generator <ClonedGenerator: id=4789000176, parent=<tohu.generators.HashDigest object at 0x11d678f28> > (seed=831769172)\n",
      "2018-08-31 01:53:20 DEBUG  Resetting cloned generator <ClonedGenerator: id=4789000344, parent=<tohu.generators.HashDigest object at 0x11d678f28> > (seed=831769172)\n",
      "2018-08-31 01:53:20 DEBUG  Resetting cloned generator <ClonedGenerator: id=4789001016, parent=<tohu.generators.HashDigest object at 0x11d678f28> > (seed=831769172)\n",
      "2018-08-31 01:53:20 DEBUG  Resetting cloned generator <ClonedGenerator: id=4788290952, parent=<tohu.generators.HashDigest object at 0x11d678f28> > (seed=831769172)\n",
      "2018-08-31 01:53:20 DEBUG  Resetting cloned generator <ClonedGenerator: id=4788999896, parent=<tohu.generators.HashDigest object at 0x11d678f28> > (seed=831769172)\n",
      "2018-08-31 01:53:21 DEBUG  Resetting cloned generator <ClonedGenerator: id=4789000176, parent=<tohu.generators.HashDigest object at 0x11d678f28> > (seed=831769172)\n",
      "2018-08-31 01:53:21 DEBUG  Resetting cloned generator <ClonedGenerator: id=4789000344, parent=<tohu.generators.HashDigest object at 0x11d678f28> > (seed=831769172)\n",
      "2018-08-31 01:53:21 DEBUG  Resetting cloned generator <ClonedGenerator: id=4789001016, parent=<tohu.generators.HashDigest object at 0x11d678f28> > (seed=831769172)\n",
      "2018-08-31 01:53:21 DEBUG  Resetting cloned generator <ClonedGenerator: id=4788290952, parent=<tohu.generators.HashDigest object at 0x11d678f28> > (seed=831769172)\n",
      "DEBUG  Resetting field generator bb=<ClonedGenerator: id=4788999896, parent=<tohu.generators.HashDigest object at 0x11d678f28> > with seed=2430986565\n",
      "2018-08-31 01:53:21 DEBUG  Ignoring reset() on cloned generator <ClonedGenerator: id=4788999896, parent=<tohu.generators.HashDigest object at 0x11d678f28> >\n",
      "DEBUG  Resetting field generator cc=<ClonedGenerator: id=4789000176, parent=<tohu.generators.HashDigest object at 0x11d678f28> > with seed=694443915\n",
      "2018-08-31 01:53:21 DEBUG  Ignoring reset() on cloned generator <ClonedGenerator: id=4789000176, parent=<tohu.generators.HashDigest object at 0x11d678f28> >\n",
      "DEBUG  Resetting field generator dd=<ClonedGenerator: id=4789000344, parent=<tohu.generators.HashDigest object at 0x11d678f28> > with seed=1859447115\n",
      "2018-08-31 01:53:21 DEBUG  Ignoring reset() on cloned generator <ClonedGenerator: id=4789000344, parent=<tohu.generators.HashDigest object at 0x11d678f28> >\n",
      "DEBUG  Resetting field generator ee=<ClonedGenerator: id=4789001016, parent=<tohu.generators.HashDigest object at 0x11d678f28> > with seed=2376066489\n",
      "2018-08-31 01:53:21 DEBUG  Ignoring reset() on cloned generator <ClonedGenerator: id=4789001016, parent=<tohu.generators.HashDigest object at 0x11d678f28> >\n",
      "DEBUG  Resetting field generator ff=<ClonedGenerator: id=4788290952, parent=<tohu.generators.HashDigest object at 0x11d678f28> > with seed=2164385946\n",
      "2018-08-31 01:53:21 DEBUG  Ignoring reset() on cloned generator <ClonedGenerator: id=4788290952, parent=<tohu.generators.HashDigest object at 0x11d678f28> >\n"
     ]
    },
    {
     "data": {
      "text/plain": [
       "<__main__.QuuxGenerator at 0x11d72f7b8>"
      ]
     },
     "execution_count": 10,
     "metadata": {},
     "output_type": "execute_result"
    }
   ],
   "source": [
    "g.reset(seed=12345)"
   ]
  },
  {
   "cell_type": "code",
   "execution_count": 11,
   "metadata": {},
   "outputs": [
    {
     "name": "stdout",
     "output_type": "stream",
     "text": [
      "Generated sequence:\n",
      "Quux(aa='3F6E19FB', bb='3F6E19FB', cc='3F6E19FB', dd='3F6E19FB', ee='3F6E19FB', ff='3F6E19FB')\n",
      "Quux(aa='AC3DB825', bb='AC3DB825', cc='AC3DB825', dd='AC3DB825', ee='AC3DB825', ff='AC3DB825')\n",
      "Quux(aa='9B635FDD', bb='9B635FDD', cc='9B635FDD', dd='9B635FDD', ee='9B635FDD', ff='9B635FDD')\n",
      "Quux(aa='8ED14AC9', bb='8ED14AC9', cc='8ED14AC9', dd='8ED14AC9', ee='8ED14AC9', ff='8ED14AC9')\n",
      "Quux(aa='A8BC6AAA', bb='A8BC6AAA', cc='A8BC6AAA', dd='A8BC6AAA', ee='A8BC6AAA', ff='A8BC6AAA')\n",
      "Quux(aa='C9B8E386', bb='C9B8E386', cc='C9B8E386', dd='C9B8E386', ee='C9B8E386', ff='C9B8E386')\n",
      "Quux(aa='95F21BC6', bb='95F21BC6', cc='95F21BC6', dd='95F21BC6', ee='95F21BC6', ff='95F21BC6')\n",
      "Quux(aa='9DDBC103', bb='9DDBC103', cc='9DDBC103', dd='9DDBC103', ee='9DDBC103', ff='9DDBC103')\n",
      "Quux(aa='F4E03F3F', bb='F4E03F3F', cc='F4E03F3F', dd='F4E03F3F', ee='F4E03F3F', ff='F4E03F3F')\n",
      "Quux(aa='66D7FB75', bb='66D7FB75', cc='66D7FB75', dd='66D7FB75', ee='66D7FB75', ff='66D7FB75')\n"
     ]
    }
   ],
   "source": [
    "print_generated_sequence(g, num=10, sep='\\n')"
   ]
  },
  {
   "cell_type": "code",
   "execution_count": null,
   "metadata": {},
   "outputs": [],
   "source": []
  }
 ],
 "metadata": {
  "kernelspec": {
   "display_name": "Python 3",
   "language": "python",
   "name": "python3"
  },
  "language_info": {
   "codemirror_mode": {
    "name": "ipython",
    "version": 3
   },
   "file_extension": ".py",
   "mimetype": "text/x-python",
   "name": "python",
   "nbconvert_exporter": "python",
   "pygments_lexer": "ipython3",
   "version": "3.7.0"
  }
 },
 "nbformat": 4,
 "nbformat_minor": 2
}
