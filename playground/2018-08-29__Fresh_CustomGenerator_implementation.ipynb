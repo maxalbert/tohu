{
 "cells": [
  {
   "cell_type": "code",
   "execution_count": 1,
   "metadata": {},
   "outputs": [],
   "source": [
    "import tohu\n",
    "from tohu.generators import BaseGenerator\n",
    "from tohu.custom_generator_v2 import logger, CustomGeneratorMetaV2\n",
    "from tohu.debugging import DummyGenerator"
   ]
  },
  {
   "cell_type": "markdown",
   "metadata": {},
   "source": [
    "## Custom generator v2"
   ]
  },
  {
   "cell_type": "code",
   "execution_count": 2,
   "metadata": {},
   "outputs": [
    {
     "name": "stderr",
     "output_type": "stream",
     "text": [
      "DEBUG  [DDD]\n",
      "DEBUG  CustomGeneratorMetaV2.__new__\n",
      "DEBUG     - metacls=<class 'tohu.custom_generator_v2.CustomGeneratorMetaV2'>\n",
      "DEBUG     - cg_name=QuuxGenerator\n",
      "DEBUG     - bases=(<class 'tohu.generators.BaseGenerator'>,)\n",
      "DEBUG     - clsdict={'__module__': '__main__', '__qualname__': 'QuuxGenerator', 'z': 42, 'a': <DummyGenerator: 'DummyA' (id=4594505488)>, '__init__': <function QuuxGenerator.__init__ at 0x111cedf28>}\n",
      "DEBUG     - new_obj=<class '__main__.QuuxGenerator'>\n",
      "DEBUG  Using item class name 'Quux' (derived from custom generator name)\n"
     ]
    }
   ],
   "source": [
    "class QuuxGenerator(BaseGenerator, metaclass=CustomGeneratorMetaV2):\n",
    "    z = 42\n",
    "    a = DummyGenerator('DummyA')\n",
    "    \n",
    "    def __init__(self):\n",
    "        logger.debug(\"[QQQ] Start QuuxGenerator.__init__()\")\n",
    "        self.b = DummyGenerator('DummyB')\n",
    "        self.foo = 23\n",
    "        logger.debug(\"[QQQ] End QuuxGenerator.__init__()\")"
   ]
  },
  {
   "cell_type": "code",
   "execution_count": 3,
   "metadata": {},
   "outputs": [
    {
     "name": "stderr",
     "output_type": "stream",
     "text": [
      "DEBUG  [QQQ] Start QuuxGenerator.__init__()\n",
      "DEBUG  [QQQ] End QuuxGenerator.__init__()\n",
      "DEBUG  [FFF]\n",
      "DEBUG  cls_dict:\n",
      "DEBUG     __module__: __main__\n",
      "DEBUG     z: 42\n",
      "DEBUG     a: <DummyGenerator: 'DummyA' (id=4594505488)>\n",
      "DEBUG     __init__: <function attach_new_init_method.<locals>.new_init at 0x111cf72f0>\n",
      "DEBUG     __doc__: None\n",
      "DEBUG     __tohu_items_name__: Quux\n",
      "DEBUG     reset: <function attach_new_reset_method.<locals>.new_reset at 0x111cf7510>\n",
      "DEBUG     __next__: <function attach_new_next_method.<locals>.new_next at 0x111cf76a8>\n",
      "DEBUG  obj_dict:\n",
      "DEBUG     b: <DummyGenerator: 'DummyB' (id=4367046584)>\n",
      "DEBUG     foo: 23\n",
      "DEBUG  Found 2 field generator template(s):\n",
      "DEBUG     a: <DummyGenerator: 'DummyA' (id=4594505488)>\n",
      "DEBUG     b: <DummyGenerator: 'DummyB' (id=4367046584)>\n",
      "DEBUG  Spawning field generator templates...\n",
      "DEBUG  Field generators attached to custom generator:\n",
      "DEBUG     a: <DummyGenerator: 'DummyA' (spawned from 4594505488)>\n",
      "DEBUG     b: <DummyGenerator: 'DummyB' (spawned from 4367046584)>\n"
     ]
    }
   ],
   "source": [
    "g = QuuxGenerator()"
   ]
  },
  {
   "cell_type": "code",
   "execution_count": 4,
   "metadata": {},
   "outputs": [
    {
     "name": "stderr",
     "output_type": "stream",
     "text": [
      "DEBUG  [EEE] Inside automatically generated reset() method for <__main__.QuuxGenerator object at 0x1044bdbe0> (seed=None)\n"
     ]
    },
    {
     "data": {
      "text/plain": [
       "<__main__.QuuxGenerator at 0x1044bdbe0>"
      ]
     },
     "execution_count": 4,
     "metadata": {},
     "output_type": "execute_result"
    }
   ],
   "source": [
    "g.reset(seed=None)"
   ]
  },
  {
   "cell_type": "code",
   "execution_count": 5,
   "metadata": {},
   "outputs": [
    {
     "name": "stderr",
     "output_type": "stream",
     "text": [
      "DEBUG  [EEE] Inside automatically generated reset() method for <__main__.QuuxGenerator object at 0x1044bdbe0> (seed=12345)\n",
      "DEBUG  Resetting field generator a=<DummyGenerator: 'DummyA' (spawned from 4594505488)> with seed=831769172\n",
      "DEBUG  Resetting field generator b=<DummyGenerator: 'DummyB' (spawned from 4367046584)> with seed=2430986565\n"
     ]
    },
    {
     "data": {
      "text/plain": [
       "<__main__.QuuxGenerator at 0x1044bdbe0>"
      ]
     },
     "execution_count": 5,
     "metadata": {},
     "output_type": "execute_result"
    }
   ],
   "source": [
    "g.reset(seed=12345)"
   ]
  },
  {
   "cell_type": "code",
   "execution_count": 6,
   "metadata": {},
   "outputs": [
    {
     "name": "stderr",
     "output_type": "stream",
     "text": [
      "DEBUG  [EEE] Inside automatically generated reset() method for <__main__.QuuxGenerator object at 0x1044bdbe0> (seed=12345)\n",
      "DEBUG  Resetting field generator a=<DummyGenerator: 'DummyA' (spawned from 4594505488)> with seed=831769172\n",
      "DEBUG  Resetting field generator b=<DummyGenerator: 'DummyB' (spawned from 4367046584)> with seed=2430986565\n"
     ]
    }
   ],
   "source": [
    "items = g.generate(10, seed=12345)"
   ]
  },
  {
   "cell_type": "code",
   "execution_count": 7,
   "metadata": {},
   "outputs": [
    {
     "data": {
      "text/plain": [
       "[Quux(a='<dummy_value: 0>', b='<dummy_value: 0>'),\n",
       " Quux(a='<dummy_value: 1>', b='<dummy_value: 1>'),\n",
       " Quux(a='<dummy_value: 2>', b='<dummy_value: 2>'),\n",
       " Quux(a='<dummy_value: 3>', b='<dummy_value: 3>'),\n",
       " Quux(a='<dummy_value: 4>', b='<dummy_value: 4>'),\n",
       " Quux(a='<dummy_value: 5>', b='<dummy_value: 5>'),\n",
       " Quux(a='<dummy_value: 6>', b='<dummy_value: 6>'),\n",
       " Quux(a='<dummy_value: 7>', b='<dummy_value: 7>'),\n",
       " Quux(a='<dummy_value: 8>', b='<dummy_value: 8>'),\n",
       " Quux(a='<dummy_value: 9>', b='<dummy_value: 9>')]"
      ]
     },
     "execution_count": 7,
     "metadata": {},
     "output_type": "execute_result"
    }
   ],
   "source": [
    "list(items)"
   ]
  },
  {
   "cell_type": "code",
   "execution_count": null,
   "metadata": {},
   "outputs": [],
   "source": []
  }
 ],
 "metadata": {
  "kernelspec": {
   "display_name": "Python 3",
   "language": "python",
   "name": "python3"
  },
  "language_info": {
   "codemirror_mode": {
    "name": "ipython",
    "version": 3
   },
   "file_extension": ".py",
   "mimetype": "text/x-python",
   "name": "python",
   "nbconvert_exporter": "python",
   "pygments_lexer": "ipython3",
   "version": "3.7.0"
  }
 },
 "nbformat": 4,
 "nbformat_minor": 2
}
