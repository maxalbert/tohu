{
 "cells": [
  {
   "cell_type": "code",
   "execution_count": 1,
   "metadata": {},
   "outputs": [],
   "source": [
    "import tohu\n",
    "from tohu.generators import BaseGenerator\n",
    "from tohu.custom_generator_v2 import CustomGeneratorMetaV2\n",
    "tohu.logger.setLevel('DEBUG')"
   ]
  },
  {
   "cell_type": "markdown",
   "metadata": {},
   "source": [
    "## Dummy generator"
   ]
  },
  {
   "cell_type": "code",
   "execution_count": 2,
   "metadata": {},
   "outputs": [],
   "source": [
    "class DummyGenerator(BaseGenerator):\n",
    "    \"\"\"\n",
    "    Dummy generator independent of all existing generators\n",
    "    which we can add to a CustomGenerator v2.\n",
    "    \"\"\"\n",
    "    def __init__(self, name):\n",
    "        self.cnt = 0\n",
    "        self.name = name\n",
    "        \n",
    "    def __repr__(self):\n",
    "        return f\"<DummyGenerator: '{self.name}'>\"\n",
    "\n",
    "    def reset(self, seed=None):\n",
    "        self.cnt = 0\n",
    "    \n",
    "    def __next__(self):\n",
    "        value = self.cnt\n",
    "        self.cnt += 1\n",
    "        return f\"<dummy_value: {value}>\""
   ]
  },
  {
   "cell_type": "code",
   "execution_count": 3,
   "metadata": {},
   "outputs": [],
   "source": [
    "g = DummyGenerator('anonymous')"
   ]
  },
  {
   "cell_type": "code",
   "execution_count": 4,
   "metadata": {},
   "outputs": [
    {
     "data": {
      "text/plain": [
       "['<dummy_value: 0>',\n",
       " '<dummy_value: 1>',\n",
       " '<dummy_value: 2>',\n",
       " '<dummy_value: 3>',\n",
       " '<dummy_value: 4>']"
      ]
     },
     "execution_count": 4,
     "metadata": {},
     "output_type": "execute_result"
    }
   ],
   "source": [
    "list(g.generate(5, seed=12345))"
   ]
  },
  {
   "cell_type": "markdown",
   "metadata": {},
   "source": [
    "## Custom generator v2"
   ]
  },
  {
   "cell_type": "code",
   "execution_count": 5,
   "metadata": {},
   "outputs": [
    {
     "name": "stderr",
     "output_type": "stream",
     "text": [
      "2018-08-29 14:56:11 DEBUG  [DDD]\n",
      "2018-08-29 14:56:11 DEBUG  CustomGeneratorMetaV2.__new__\n",
      "2018-08-29 14:56:11 DEBUG     - metacls=<class 'tohu.custom_generator_v2.CustomGeneratorMetaV2'>\n",
      "2018-08-29 14:56:11 DEBUG     - cg_name=QuuxGenerator\n",
      "2018-08-29 14:56:11 DEBUG     - bases=(<class 'tohu.generators.BaseGenerator'>,)\n",
      "2018-08-29 14:56:11 DEBUG     - clsdict={'__module__': '__main__', '__qualname__': 'QuuxGenerator', 'z': 42, 'a': <DummyGenerator: 'DummyA'>, '__init__': <function QuuxGenerator.__init__ at 0x112a74048>}\n",
      "2018-08-29 14:56:11 DEBUG     - new_obj=<class '__main__.QuuxGenerator'>\n"
     ]
    }
   ],
   "source": [
    "class QuuxGenerator(BaseGenerator, metaclass=CustomGeneratorMetaV2):\n",
    "    z = 42\n",
    "    a = DummyGenerator('DummyA')\n",
    "    \n",
    "    def __init__(self):\n",
    "        tohu.logger.debug(\"[QQQ] Start QuuxGenerator.__init__()\")\n",
    "        self.b = DummyGenerator('DummyB')\n",
    "        self.foo = 23\n",
    "        tohu.logger.debug(\"[QQQ] End QuuxGenerator.__init__()\")"
   ]
  },
  {
   "cell_type": "code",
   "execution_count": 6,
   "metadata": {},
   "outputs": [
    {
     "name": "stderr",
     "output_type": "stream",
     "text": [
      "2018-08-29 14:56:11 DEBUG  [QQQ] Start QuuxGenerator.__init__()\n",
      "2018-08-29 14:56:11 DEBUG  [QQQ] End QuuxGenerator.__init__()\n",
      "2018-08-29 14:56:11 DEBUG  [FFF]\n",
      "2018-08-29 14:56:11 DEBUG  cls_dict:\n",
      "2018-08-29 14:56:11 DEBUG     __module__: __main__\n",
      "2018-08-29 14:56:11 DEBUG     z: 42\n",
      "2018-08-29 14:56:11 DEBUG     a: <DummyGenerator: 'DummyA'>\n",
      "2018-08-29 14:56:11 DEBUG     __init__: <function CustomGeneratorMetaV2.__new__.<locals>.new_init at 0x112a741e0>\n",
      "2018-08-29 14:56:11 DEBUG     __doc__: None\n",
      "2018-08-29 14:56:11 DEBUG     reset: <function CustomGeneratorMetaV2.__new__.<locals>.new_reset at 0x112a742f0>\n",
      "2018-08-29 14:56:11 DEBUG  obj_dict:\n",
      "2018-08-29 14:56:11 DEBUG     b: <DummyGenerator: 'DummyB'>\n",
      "2018-08-29 14:56:11 DEBUG     foo: 23\n",
      "2018-08-29 14:56:11 DEBUG  Found 2 field generator(s):\n",
      "2018-08-29 14:56:11 DEBUG     a: <DummyGenerator: 'DummyA'>\n",
      "2018-08-29 14:56:11 DEBUG     b: <DummyGenerator: 'DummyB'>\n"
     ]
    }
   ],
   "source": [
    "g = QuuxGenerator()"
   ]
  },
  {
   "cell_type": "code",
   "execution_count": 7,
   "metadata": {},
   "outputs": [
    {
     "name": "stderr",
     "output_type": "stream",
     "text": [
      "2018-08-29 14:56:11 DEBUG  [EEE] Inside automatically generated reset() method for <__main__.QuuxGenerator object at 0x10522ab38> (seed=12345)\n",
      "2018-08-29 14:56:11 DEBUG        TODO: reset internal seed generator and call reset() on each child generator\n"
     ]
    }
   ],
   "source": [
    "g.reset(seed=12345)"
   ]
  },
  {
   "cell_type": "code",
   "execution_count": 8,
   "metadata": {},
   "outputs": [
    {
     "data": {
      "text/plain": [
       "<DummyGenerator: 'DummyB'>"
      ]
     },
     "execution_count": 8,
     "metadata": {},
     "output_type": "execute_result"
    }
   ],
   "source": [
    "g.b"
   ]
  },
  {
   "cell_type": "code",
   "execution_count": null,
   "metadata": {},
   "outputs": [],
   "source": []
  }
 ],
 "metadata": {
  "kernelspec": {
   "display_name": "Python 3",
   "language": "python",
   "name": "python3"
  },
  "language_info": {
   "codemirror_mode": {
    "name": "ipython",
    "version": 3
   },
   "file_extension": ".py",
   "mimetype": "text/x-python",
   "name": "python",
   "nbconvert_exporter": "python",
   "pygments_lexer": "ipython3",
   "version": "3.7.0"
  }
 },
 "nbformat": 4,
 "nbformat_minor": 2
}
