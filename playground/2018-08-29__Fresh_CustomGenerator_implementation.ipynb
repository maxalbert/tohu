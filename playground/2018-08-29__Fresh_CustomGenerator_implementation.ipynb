{
 "cells": [
  {
   "cell_type": "code",
   "execution_count": 1,
   "metadata": {},
   "outputs": [],
   "source": [
    "import tohu\n",
    "from tohu.generators import BaseGenerator\n",
    "from tohu.custom_generator_v2 import CustomGeneratorMetaV2\n",
    "tohu.logger.setLevel('DEBUG')"
   ]
  },
  {
   "cell_type": "markdown",
   "metadata": {},
   "source": [
    "## Dummy generator"
   ]
  },
  {
   "cell_type": "code",
   "execution_count": 2,
   "metadata": {},
   "outputs": [],
   "source": [
    "class DummyGenerator(BaseGenerator):\n",
    "    \"\"\"\n",
    "    Dummy generator independent of all existing generators\n",
    "    which we can add to a CustomGenerator v2.\n",
    "    \"\"\"\n",
    "    def __init__(self, name):\n",
    "        self.cnt = 0\n",
    "        self.name = name\n",
    "        \n",
    "    def __repr__(self):\n",
    "        return f\"<DummyGenerator: '{self.name}'>\"\n",
    "\n",
    "    def reset(self, seed=None):\n",
    "        self.cnt = 0\n",
    "    \n",
    "    def __next__(self):\n",
    "        value = self.cnt\n",
    "        self.cnt += 1\n",
    "        return f\"<dummy_value: {value}>\""
   ]
  },
  {
   "cell_type": "code",
   "execution_count": 3,
   "metadata": {},
   "outputs": [],
   "source": [
    "g = DummyGenerator('anonymous')"
   ]
  },
  {
   "cell_type": "code",
   "execution_count": 4,
   "metadata": {},
   "outputs": [
    {
     "data": {
      "text/plain": [
       "['<dummy_value: 0>',\n",
       " '<dummy_value: 1>',\n",
       " '<dummy_value: 2>',\n",
       " '<dummy_value: 3>',\n",
       " '<dummy_value: 4>']"
      ]
     },
     "execution_count": 4,
     "metadata": {},
     "output_type": "execute_result"
    }
   ],
   "source": [
    "list(g.generate(5, seed=12345))"
   ]
  },
  {
   "cell_type": "markdown",
   "metadata": {},
   "source": [
    "## Custom generator v2"
   ]
  },
  {
   "cell_type": "code",
   "execution_count": 5,
   "metadata": {},
   "outputs": [
    {
     "name": "stderr",
     "output_type": "stream",
     "text": [
      "2018-08-29 14:35:08 DEBUG  [DDD]\n",
      "2018-08-29 14:35:08 DEBUG  CustomGeneratorMetaV2.__new__\n",
      "2018-08-29 14:35:08 DEBUG     - metacls=<class 'tohu.custom_generator_v2.CustomGeneratorMetaV2'>\n",
      "2018-08-29 14:35:08 DEBUG     - cg_name=QuuxGenerator\n",
      "2018-08-29 14:35:08 DEBUG     - bases=(<class 'tohu.generators.BaseGenerator'>,)\n",
      "2018-08-29 14:35:08 DEBUG     - clsdict={'__module__': '__main__', '__qualname__': 'QuuxGenerator', 'z': 42, 'a': <DummyGenerator: 'DummyA'>}\n",
      "2018-08-29 14:35:08 DEBUG     - new_obj=<class '__main__.QuuxGenerator'>\n",
      "2018-08-29 14:35:08 DEBUG  [FFF] cls_dict={'__module__': 'tohu.custom_generator_v2', '__new__': <staticmethod object at 0x116fccbe0>, '__doc__': None}\n",
      "2018-08-29 14:35:08 DEBUG  [FFF] inst_dict={'__module__': '__main__', 'z': 42, 'a': <DummyGenerator: 'DummyA'>, '__doc__': None}\n",
      "2018-08-29 14:35:08 DEBUG  Found 1 field generator(s):\n",
      "2018-08-29 14:35:08 DEBUG     - a: <DummyGenerator: 'DummyA'>\n"
     ]
    }
   ],
   "source": [
    "class QuuxGenerator(BaseGenerator, metaclass=CustomGeneratorMetaV2):\n",
    "    z = 42\n",
    "    a = DummyGenerator('DummyA')"
   ]
  },
  {
   "cell_type": "code",
   "execution_count": 6,
   "metadata": {},
   "outputs": [],
   "source": [
    "g = QuuxGenerator()"
   ]
  },
  {
   "cell_type": "code",
   "execution_count": 7,
   "metadata": {},
   "outputs": [
    {
     "name": "stderr",
     "output_type": "stream",
     "text": [
      "2018-08-29 14:35:10 DEBUG  [EEE] Inside automatically generated reset() method for <__main__.QuuxGenerator object at 0x117093550> (seed=12345)\n",
      "2018-08-29 14:35:10 DEBUG        TODO: reset internal seed generator and call reset() on each child generator\n"
     ]
    }
   ],
   "source": [
    "g.reset(seed=12345)"
   ]
  },
  {
   "cell_type": "raw",
   "metadata": {},
   "source": []
  }
 ],
 "metadata": {
  "kernelspec": {
   "display_name": "Python 3",
   "language": "python",
   "name": "python3"
  },
  "language_info": {
   "codemirror_mode": {
    "name": "ipython",
    "version": 3
   },
   "file_extension": ".py",
   "mimetype": "text/x-python",
   "name": "python",
   "nbconvert_exporter": "python",
   "pygments_lexer": "ipython3",
   "version": "3.7.0"
  }
 },
 "nbformat": 4,
 "nbformat_minor": 2
}
