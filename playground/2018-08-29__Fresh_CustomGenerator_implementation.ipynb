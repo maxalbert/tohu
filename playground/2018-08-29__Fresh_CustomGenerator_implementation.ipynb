{
 "cells": [
  {
   "cell_type": "code",
   "execution_count": 1,
   "metadata": {},
   "outputs": [],
   "source": [
    "import tohu\n",
    "from tohu.generators import BaseGenerator\n",
    "from tohu.custom_generator_v2 import logger, CustomGeneratorMetaV2"
   ]
  },
  {
   "cell_type": "markdown",
   "metadata": {},
   "source": [
    "## Dummy generator"
   ]
  },
  {
   "cell_type": "code",
   "execution_count": 2,
   "metadata": {},
   "outputs": [],
   "source": [
    "class DummyGenerator(BaseGenerator):\n",
    "    \"\"\"\n",
    "    Dummy generator independent of all existing generators\n",
    "    which we can add to a CustomGenerator v2.\n",
    "    \"\"\"\n",
    "    def __init__(self, name, spawned_from=None):\n",
    "        self.cnt = 0\n",
    "        self.name = name\n",
    "        self.spawned_from = spawned_from\n",
    "\n",
    "    def __repr__(self):\n",
    "        descr = f' (id={id(self)})' if self.spawned_from is None else f' (spawned from {id(self.spawned_from)})'\n",
    "        return f\"<DummyGenerator: '{self.name}'{descr}>\"\n",
    "\n",
    "    def _spawn(self):\n",
    "        return DummyGenerator(self.name, spawned_from=self)\n",
    "\n",
    "    def reset(self, seed=None):\n",
    "        self.cnt = 0\n",
    "    \n",
    "    def __next__(self):\n",
    "        value = self.cnt\n",
    "        self.cnt += 1\n",
    "        return f\"<dummy_value: {value}>\""
   ]
  },
  {
   "cell_type": "code",
   "execution_count": 3,
   "metadata": {},
   "outputs": [],
   "source": [
    "g = DummyGenerator('anonymous')"
   ]
  },
  {
   "cell_type": "code",
   "execution_count": 4,
   "metadata": {},
   "outputs": [
    {
     "data": {
      "text/plain": [
       "['<dummy_value: 0>',\n",
       " '<dummy_value: 1>',\n",
       " '<dummy_value: 2>',\n",
       " '<dummy_value: 3>',\n",
       " '<dummy_value: 4>']"
      ]
     },
     "execution_count": 4,
     "metadata": {},
     "output_type": "execute_result"
    }
   ],
   "source": [
    "list(g.generate(5, seed=12345))"
   ]
  },
  {
   "cell_type": "markdown",
   "metadata": {},
   "source": [
    "## Custom generator v2"
   ]
  },
  {
   "cell_type": "code",
   "execution_count": 5,
   "metadata": {},
   "outputs": [
    {
     "name": "stderr",
     "output_type": "stream",
     "text": [
      "DEBUG  [DDD]\n",
      "DEBUG  CustomGeneratorMetaV2.__new__\n",
      "DEBUG     - metacls=<class 'tohu.custom_generator_v2.CustomGeneratorMetaV2'>\n",
      "DEBUG     - cg_name=QuuxGenerator\n",
      "DEBUG     - bases=(<class 'tohu.generators.BaseGenerator'>,)\n",
      "DEBUG     - clsdict={'__module__': '__main__', '__qualname__': 'QuuxGenerator', 'z': 42, 'a': <DummyGenerator: 'DummyA' (id=4656568360)>, '__init__': <function QuuxGenerator.__init__ at 0x1158f42f0>}\n",
      "DEBUG     - new_obj=<class '__main__.QuuxGenerator'>\n"
     ]
    }
   ],
   "source": [
    "class QuuxGenerator(BaseGenerator, metaclass=CustomGeneratorMetaV2):\n",
    "    z = 42\n",
    "    a = DummyGenerator('DummyA')\n",
    "    \n",
    "    def __init__(self):\n",
    "        logger.debug(\"[QQQ] Start QuuxGenerator.__init__()\")\n",
    "        self.b = DummyGenerator('DummyB')\n",
    "        self.foo = 23\n",
    "        logger.debug(\"[QQQ] End QuuxGenerator.__init__()\")"
   ]
  },
  {
   "cell_type": "code",
   "execution_count": 6,
   "metadata": {},
   "outputs": [
    {
     "name": "stderr",
     "output_type": "stream",
     "text": [
      "DEBUG  [QQQ] Start QuuxGenerator.__init__()\n",
      "DEBUG  [QQQ] End QuuxGenerator.__init__()\n",
      "DEBUG  [FFF]\n",
      "DEBUG  cls_dict:\n",
      "DEBUG     __module__: __main__\n",
      "DEBUG     z: 42\n",
      "DEBUG     a: <DummyGenerator: 'DummyA' (id=4656568360)>\n",
      "DEBUG     __init__: <function attach_new_init_method.<locals>.new_init at 0x1158f47b8>\n",
      "DEBUG     __doc__: None\n",
      "DEBUG     reset: <function attach_new_reset_method.<locals>.new_reset at 0x1158f41e0>\n",
      "DEBUG  obj_dict:\n",
      "DEBUG     b: <DummyGenerator: 'DummyB' (id=4657330664)>\n",
      "DEBUG     foo: 23\n",
      "DEBUG  Found 2 field generator template(s):\n",
      "DEBUG     a: <DummyGenerator: 'DummyA' (id=4656568360)>\n",
      "DEBUG     b: <DummyGenerator: 'DummyB' (id=4657330664)>\n",
      "DEBUG  Spawning field generator templates...\n",
      "DEBUG  Field generatos attached to custom generator:\n",
      "DEBUG     a: <DummyGenerator: 'DummyA' (spawned from 4656568360)>\n",
      "DEBUG     b: <DummyGenerator: 'DummyB' (spawned from 4657330664)>\n"
     ]
    }
   ],
   "source": [
    "g = QuuxGenerator()"
   ]
  },
  {
   "cell_type": "code",
   "execution_count": 7,
   "metadata": {},
   "outputs": [
    {
     "name": "stderr",
     "output_type": "stream",
     "text": [
      "DEBUG  [EEE] Inside automatically generated reset() method for <__main__.QuuxGenerator object at 0x115993dd8> (seed=None)\n"
     ]
    },
    {
     "data": {
      "text/plain": [
       "<__main__.QuuxGenerator at 0x115993dd8>"
      ]
     },
     "execution_count": 7,
     "metadata": {},
     "output_type": "execute_result"
    }
   ],
   "source": [
    "g.reset(seed=None)"
   ]
  },
  {
   "cell_type": "code",
   "execution_count": 8,
   "metadata": {},
   "outputs": [
    {
     "name": "stderr",
     "output_type": "stream",
     "text": [
      "DEBUG  [EEE] Inside automatically generated reset() method for <__main__.QuuxGenerator object at 0x115993dd8> (seed=12345)\n",
      "DEBUG  Resetting field generator a=<DummyGenerator: 'DummyA' (spawned from 4656568360)> with seed=831769172\n",
      "DEBUG  Resetting field generator b=<DummyGenerator: 'DummyB' (spawned from 4657330664)> with seed=2430986565\n"
     ]
    },
    {
     "data": {
      "text/plain": [
       "<__main__.QuuxGenerator at 0x115993dd8>"
      ]
     },
     "execution_count": 8,
     "metadata": {},
     "output_type": "execute_result"
    }
   ],
   "source": [
    "g.reset(seed=12345)"
   ]
  },
  {
   "cell_type": "code",
   "execution_count": null,
   "metadata": {},
   "outputs": [],
   "source": []
  }
 ],
 "metadata": {
  "kernelspec": {
   "display_name": "Python 3",
   "language": "python",
   "name": "python3"
  },
  "language_info": {
   "codemirror_mode": {
    "name": "ipython",
    "version": 3
   },
   "file_extension": ".py",
   "mimetype": "text/x-python",
   "name": "python",
   "nbconvert_exporter": "python",
   "pygments_lexer": "ipython3",
   "version": "3.7.0"
  }
 },
 "nbformat": 4,
 "nbformat_minor": 2
}
