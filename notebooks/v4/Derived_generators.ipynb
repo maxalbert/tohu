{
 "cells": [
  {
   "cell_type": "code",
   "execution_count": 1,
   "metadata": {},
   "outputs": [],
   "source": [
    "import tohu\n",
    "from tohu.v4.primitive_generators import Integer, SelectOne\n",
    "from tohu.v4.derived_generators import *\n",
    "from tohu.v4.utils import print_generated_sequence, make_dummy_tuples"
   ]
  },
  {
   "cell_type": "code",
   "execution_count": 2,
   "metadata": {},
   "outputs": [
    {
     "name": "stdout",
     "output_type": "stream",
     "text": [
      "Tohu version: v0.5.0+213.g591a6fa.dirty\n"
     ]
    }
   ],
   "source": [
    "print(f'Tohu version: {tohu.__version__}')"
   ]
  },
  {
   "cell_type": "markdown",
   "metadata": {},
   "source": [
    "## Apply"
   ]
  },
  {
   "cell_type": "markdown",
   "metadata": {},
   "source": [
    "`Apply` allows applying a given function to one or multiple input generators."
   ]
  },
  {
   "cell_type": "markdown",
   "metadata": {},
   "source": [
    "### Example: squaring a single integer"
   ]
  },
  {
   "cell_type": "code",
   "execution_count": 3,
   "metadata": {},
   "outputs": [],
   "source": [
    "def square(x):\n",
    "    return x * x"
   ]
  },
  {
   "cell_type": "code",
   "execution_count": 4,
   "metadata": {},
   "outputs": [],
   "source": [
    "g = Integer(0, 9).set_tohu_name('g')\n",
    "h = Apply(square, g).set_tohu_name('h')"
   ]
  },
  {
   "cell_type": "code",
   "execution_count": 5,
   "metadata": {},
   "outputs": [
    {
     "name": "stdout",
     "output_type": "stream",
     "text": [
      "Generated sequence:  6,  0,  4,  5,  3,  4,  9,  6,  2,  5,  1,  6,  4,  8,  2,  9,  8,  2,  5,  1\n",
      "Generated sequence: 36,  0, 16, 25,  9, 16, 81, 36,  4, 25,  1, 36, 16, 64,  4, 81, 64,  4, 25,  1\n"
     ]
    }
   ],
   "source": [
    "g.reset(seed=12345)\n",
    "print_generated_sequence(g, num=20, fmt='2d')\n",
    "print_generated_sequence(h, num=20, fmt='2d')"
   ]
  },
  {
   "cell_type": "markdown",
   "metadata": {},
   "source": [
    "### Example: combining multiple integers"
   ]
  },
  {
   "cell_type": "code",
   "execution_count": 6,
   "metadata": {},
   "outputs": [],
   "source": [
    "g1 = Integer(1, 9)\n",
    "g2 = Integer(1, 9)\n",
    "g3 = Integer(1, 9)"
   ]
  },
  {
   "cell_type": "markdown",
   "metadata": {},
   "source": [
    "Let's define a function which takes three integers as input and apply it to the generators g1, g2, g3 defined above."
   ]
  },
  {
   "cell_type": "code",
   "execution_count": 7,
   "metadata": {},
   "outputs": [],
   "source": [
    "def func(x, y, z):\n",
    "    return x * 100 + y*10 + z"
   ]
  },
  {
   "cell_type": "code",
   "execution_count": 8,
   "metadata": {},
   "outputs": [],
   "source": [
    "h = Apply(func, g1, g2, g3)"
   ]
  },
  {
   "cell_type": "code",
   "execution_count": 9,
   "metadata": {},
   "outputs": [
    {
     "name": "stdout",
     "output_type": "stream",
     "text": [
      "Generated sequence:   6,   1,   6,   6,   7,   2,   9,   3,   3,   6\n",
      "Generated sequence:   5,   5,   8,   7,   3,   7,   3,   4,   9,   2\n",
      "Generated sequence:   3,   7,   8,   8,   4,   6,   6,   6,   5,   9\n",
      "Generated sequence: 653, 157, 688, 678, 734, 276, 936, 346, 395, 629\n"
     ]
    }
   ],
   "source": [
    "g1.reset(seed=11111)\n",
    "g2.reset(seed=22222)\n",
    "g3.reset(seed=33333)\n",
    "print_generated_sequence(g1, num=10, fmt='3d')\n",
    "print_generated_sequence(g2, num=10, fmt='3d')\n",
    "print_generated_sequence(g3, num=10, fmt='3d')\n",
    "print_generated_sequence(h, num=10, fmt='3d')"
   ]
  },
  {
   "cell_type": "markdown",
   "metadata": {},
   "source": [
    "## \"Chained\" Apply"
   ]
  },
  {
   "cell_type": "code",
   "execution_count": 10,
   "metadata": {},
   "outputs": [],
   "source": [
    "def add(x, y):\n",
    "    return x + y"
   ]
  },
  {
   "cell_type": "markdown",
   "metadata": {},
   "source": [
    "### Example 1: chaining explicitly defined generators"
   ]
  },
  {
   "cell_type": "code",
   "execution_count": 11,
   "metadata": {},
   "outputs": [],
   "source": [
    "g1 = Integer(100, 200)\n",
    "g2 = Integer(300, 400)\n",
    "g3 = Integer(500, 600)\n",
    "g4 = Integer(700, 800)"
   ]
  },
  {
   "cell_type": "code",
   "execution_count": 12,
   "metadata": {},
   "outputs": [],
   "source": [
    "h5 = Apply(add, g1, g2)\n",
    "h6 = Apply(add, g3, g4)\n",
    "h7 = Apply(add, h5, h6)"
   ]
  },
  {
   "cell_type": "code",
   "execution_count": 13,
   "metadata": {},
   "outputs": [],
   "source": [
    "items1 = list(g1.generate(num=10, seed=11111))\n",
    "items2 = list(g2.generate(num=10, seed=22222))\n",
    "items3 = list(g3.generate(num=10, seed=33333))\n",
    "items4 = list(g4.generate(num=10, seed=44444))"
   ]
  },
  {
   "cell_type": "code",
   "execution_count": 14,
   "metadata": {},
   "outputs": [],
   "source": [
    "#items5 = list(h5.generate(num=10))\n",
    "#items6 = list(h6.generate(num=10))\n",
    "items7 = list(h7.generate(num=10))"
   ]
  },
  {
   "cell_type": "code",
   "execution_count": 15,
   "metadata": {},
   "outputs": [],
   "source": [
    "items_expected = [a+b+c+d for (a, b, c, d) in zip(items1, items2, items3, items4)]"
   ]
  },
  {
   "cell_type": "code",
   "execution_count": 16,
   "metadata": {},
   "outputs": [
    {
     "name": "stdout",
     "output_type": "stream",
     "text": [
      "[1699, 1741, 1783, 1850, 1900, 1805, 1788, 1761, 1822, 1882]\n",
      "[1699, 1741, 1783, 1850, 1900, 1805, 1788, 1761, 1822, 1882]\n"
     ]
    }
   ],
   "source": [
    "print(items_expected)\n",
    "print(items7)"
   ]
  },
  {
   "cell_type": "code",
   "execution_count": 17,
   "metadata": {},
   "outputs": [],
   "source": [
    "assert items_expected == items7"
   ]
  },
  {
   "cell_type": "markdown",
   "metadata": {},
   "source": [
    "### Example 2: chaining implicitly defined generators"
   ]
  },
  {
   "cell_type": "code",
   "execution_count": 18,
   "metadata": {},
   "outputs": [],
   "source": [
    "g1 = Integer(100, 200)\n",
    "g2 = Integer(300, 400)\n",
    "g3 = Integer(500, 600)\n",
    "g4 = Integer(700, 800)"
   ]
  },
  {
   "cell_type": "code",
   "execution_count": 19,
   "metadata": {},
   "outputs": [],
   "source": [
    "h = Apply(add, Apply(add, g1, g2), Apply(add, g3, g4))"
   ]
  },
  {
   "cell_type": "code",
   "execution_count": 20,
   "metadata": {},
   "outputs": [],
   "source": [
    "items1 = list(g1.generate(num=10, seed=11111))\n",
    "items2 = list(g2.generate(num=10, seed=22222))\n",
    "items3 = list(g3.generate(num=10, seed=33333))\n",
    "items4 = list(g4.generate(num=10, seed=44444))"
   ]
  },
  {
   "cell_type": "code",
   "execution_count": 21,
   "metadata": {},
   "outputs": [],
   "source": [
    "items_h = list(h.generate(num=10))"
   ]
  },
  {
   "cell_type": "code",
   "execution_count": 22,
   "metadata": {},
   "outputs": [],
   "source": [
    "items_expected = [a+b+c+d for (a, b, c, d) in zip(items1, items2, items3, items4)]"
   ]
  },
  {
   "cell_type": "code",
   "execution_count": 23,
   "metadata": {},
   "outputs": [
    {
     "name": "stdout",
     "output_type": "stream",
     "text": [
      "[1699, 1741, 1783, 1850, 1900, 1805, 1788, 1761, 1822, 1882]\n",
      "[1699, 1741, 1783, 1850, 1900, 1805, 1788, 1761, 1822, 1882]\n"
     ]
    }
   ],
   "source": [
    "print(items_expected)\n",
    "print(items_h)"
   ]
  },
  {
   "cell_type": "code",
   "execution_count": 24,
   "metadata": {},
   "outputs": [],
   "source": [
    "assert items_expected == items_h"
   ]
  },
  {
   "cell_type": "markdown",
   "metadata": {},
   "source": [
    "## GetAttribute"
   ]
  },
  {
   "cell_type": "code",
   "execution_count": 25,
   "metadata": {},
   "outputs": [],
   "source": [
    "chars = 'abcdefghijklmnopqrstuvwxyz'"
   ]
  },
  {
   "cell_type": "code",
   "execution_count": 26,
   "metadata": {},
   "outputs": [],
   "source": [
    "some_tuples = make_dummy_tuples(chars)"
   ]
  },
  {
   "cell_type": "code",
   "execution_count": 27,
   "metadata": {},
   "outputs": [],
   "source": [
    "g = SelectOne(some_tuples)"
   ]
  },
  {
   "cell_type": "code",
   "execution_count": 28,
   "metadata": {},
   "outputs": [
    {
     "name": "stdout",
     "output_type": "stream",
     "text": [
      "Generated sequence:\n",
      "\n",
      "Quux(x='NN', y='nn')\n",
      "Quux(x='XX', y='xx')\n",
      "Quux(x='AA', y='aa')\n",
      "Quux(x='ZZ', y='zz')\n",
      "Quux(x='JJ', y='jj')\n",
      "Quux(x='LL', y='ll')\n",
      "Quux(x='GG', y='gg')\n",
      "Quux(x='II', y='ii')\n",
      "Quux(x='SS', y='ss')\n",
      "Quux(x='NN', y='nn')\n"
     ]
    }
   ],
   "source": [
    "print_generated_sequence(g, num=10, sep='\\n', seed=12345)"
   ]
  },
  {
   "cell_type": "code",
   "execution_count": 29,
   "metadata": {},
   "outputs": [],
   "source": [
    "h1 = GetAttribute(g, 'x')\n",
    "h2 = GetAttribute(g, 'y')"
   ]
  },
  {
   "cell_type": "code",
   "execution_count": 30,
   "metadata": {},
   "outputs": [
    {
     "name": "stdout",
     "output_type": "stream",
     "text": [
      "Generated sequence:\n",
      "\n",
      "Quux(x='NN', y='nn')\n",
      "Quux(x='XX', y='xx')\n",
      "Quux(x='AA', y='aa')\n",
      "Quux(x='ZZ', y='zz')\n",
      "Quux(x='JJ', y='jj')\n",
      "Quux(x='LL', y='ll')\n",
      "Quux(x='GG', y='gg')\n",
      "Quux(x='II', y='ii')\n",
      "Quux(x='SS', y='ss')\n",
      "Quux(x='NN', y='nn')\n",
      "Generated sequence: NN, XX, AA, ZZ, JJ, LL, GG, II, SS, NN\n",
      "Generated sequence: nn, xx, aa, zz, jj, ll, gg, ii, ss, nn\n"
     ]
    }
   ],
   "source": [
    "g.reset(seed=12345)\n",
    "print_generated_sequence(g, num=10, sep='\\n', seed=12345)\n",
    "print_generated_sequence(h1, num=10)\n",
    "print_generated_sequence(h2, num=10)"
   ]
  },
  {
   "cell_type": "markdown",
   "metadata": {},
   "source": [
    "## Lookup"
   ]
  },
  {
   "cell_type": "code",
   "execution_count": 31,
   "metadata": {},
   "outputs": [],
   "source": [
    "double_chars = [c*2 for c in chars]"
   ]
  },
  {
   "cell_type": "code",
   "execution_count": 32,
   "metadata": {},
   "outputs": [],
   "source": [
    "def dec(char, repeat=1):\n",
    "    \"Convert `char` to a string, optionally repeating multiple times\"\n",
    "    s = str(ord(char) - 96)\n",
    "    return s * repeat"
   ]
  },
  {
   "cell_type": "code",
   "execution_count": 33,
   "metadata": {},
   "outputs": [],
   "source": [
    "mapping = {c*2: [dec(c, repeat=1), dec(c, repeat=2), dec(c, repeat=3)] for c in chars}\n",
    "#mapping"
   ]
  },
  {
   "cell_type": "markdown",
   "metadata": {},
   "source": [
    "### Example 1: chaining of explicitly defined generators"
   ]
  },
  {
   "cell_type": "code",
   "execution_count": 34,
   "metadata": {},
   "outputs": [],
   "source": [
    "g = SelectOne(double_chars)\n",
    "h1 = Lookup(g, mapping)\n",
    "h2 = SelectOneDerived(h1)  # chained lookup"
   ]
  },
  {
   "cell_type": "code",
   "execution_count": 35,
   "metadata": {},
   "outputs": [
    {
     "name": "stdout",
     "output_type": "stream",
     "text": [
      "Generated sequence: nn, xx, aa, zz, jj, ll, gg, ii, ss, nn, ff, ll, dd, nn, ii, rr, uu, ff, tt, rr\n",
      "Generated sequence: ['14', '1414', '141414'], ['24', '2424', '242424'], ['1', '11', '111'], ['26', '2626', '262626'], ['10', '1010', '101010'], ['12', '1212', '121212'], ['7', '77', '777'], ['9', '99', '999'], ['19', '1919', '191919'], ['14', '1414', '141414'], ['6', '66', '666'], ['12', '1212', '121212'], ['4', '44', '444'], ['14', '1414', '141414'], ['9', '99', '999'], ['18', '1818', '181818'], ['21', '2121', '212121'], ['6', '66', '666'], ['20', '2020', '202020'], ['18', '1818', '181818']\n",
      "Generated sequence: 14, 2424, 111, 262626, 101010, 12, 77, 99, 19, 1414, 66, 121212, 444, 141414, 999, 18, 21, 666, 2020, 181818\n"
     ]
    }
   ],
   "source": [
    "g.reset(seed=12345)\n",
    "h2.reset(seed=99999)\n",
    "print_generated_sequence(g, num=20, seed=12345)\n",
    "print_generated_sequence(h1, num=20)\n",
    "print_generated_sequence(h2, num=20)"
   ]
  },
  {
   "cell_type": "markdown",
   "metadata": {},
   "source": [
    "### Example 2: chaining of implicitly defined generators"
   ]
  },
  {
   "cell_type": "code",
   "execution_count": 36,
   "metadata": {},
   "outputs": [],
   "source": [
    "g = SelectOne(double_chars)\n",
    "h = SelectOneDerived(Lookup(g, mapping))  # chained lookup"
   ]
  },
  {
   "cell_type": "code",
   "execution_count": 37,
   "metadata": {},
   "outputs": [
    {
     "name": "stdout",
     "output_type": "stream",
     "text": [
      "Generated sequence: nn, xx, aa, zz, jj, ll, gg, ii, ss, nn, ff, ll, dd, nn, ii, rr, uu, ff, tt, rr\n",
      "Generated sequence: 14, 2424, 111, 262626, 101010, 12, 77, 99, 19, 1414, 66, 121212, 444, 141414, 999, 18, 21, 666, 2020, 181818\n"
     ]
    }
   ],
   "source": [
    "g.reset(seed=12345)\n",
    "h.reset(seed=99999)\n",
    "print_generated_sequence(g, num=20, seed=12345)\n",
    "print_generated_sequence(h, num=20)"
   ]
  },
  {
   "cell_type": "markdown",
   "metadata": {},
   "source": [
    "## SelectOneDerived"
   ]
  },
  {
   "cell_type": "code",
   "execution_count": 38,
   "metadata": {},
   "outputs": [],
   "source": [
    "g = SelectOne([(1, 11, 111), (2, 22, 222), (3, 33, 333), (4, 44, 444), (5, 55, 555)])\n",
    "h = SelectOneDerived(g)"
   ]
  },
  {
   "cell_type": "code",
   "execution_count": 39,
   "metadata": {},
   "outputs": [
    {
     "name": "stdout",
     "output_type": "stream",
     "text": [
      "Generated sequence: (4, 44, 444), (1, 11, 111), (3, 33, 333), (3, 33, 333), (2, 22, 222), (3, 33, 333), (5, 55, 555), (4, 44, 444), (2, 22, 222), (3, 33, 333)\n",
      "Generated sequence: 4, 11, 333, 333, 222, 3, 55, 44, 2, 33\n"
     ]
    }
   ],
   "source": [
    "g.reset(seed=12345)\n",
    "h.reset(seed=99999)\n",
    "\n",
    "print_generated_sequence(g, num=10)\n",
    "print_generated_sequence(h, num=10)"
   ]
  },
  {
   "cell_type": "code",
   "execution_count": null,
   "metadata": {},
   "outputs": [],
   "source": []
  }
 ],
 "metadata": {
  "kernelspec": {
   "display_name": "Python 3",
   "language": "python",
   "name": "python3"
  },
  "language_info": {
   "codemirror_mode": {
    "name": "ipython",
    "version": 3
   },
   "file_extension": ".py",
   "mimetype": "text/x-python",
   "name": "python",
   "nbconvert_exporter": "python",
   "pygments_lexer": "ipython3",
   "version": "3.7.0"
  }
 },
 "nbformat": 4,
 "nbformat_minor": 2
}
