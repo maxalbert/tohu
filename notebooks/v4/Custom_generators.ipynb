{
 "cells": [
  {
   "cell_type": "markdown",
   "metadata": {},
   "source": [
    "# Custom generators"
   ]
  },
  {
   "cell_type": "code",
   "execution_count": 1,
   "metadata": {},
   "outputs": [],
   "source": [
    "import tohu\n",
    "from tohu.v4.primitive_generators import *\n",
    "from tohu.v4.derived_generators import *\n",
    "from tohu.v4.dispatch_generators import *\n",
    "from tohu.v4.custom_generator import *\n",
    "from tohu.v4.utils import print_generated_sequence, make_dummy_tuples"
   ]
  },
  {
   "cell_type": "code",
   "execution_count": 2,
   "metadata": {},
   "outputs": [
    {
     "name": "stdout",
     "output_type": "stream",
     "text": [
      "Tohu version: v0.5.0+240.g541b4c5\n"
     ]
    }
   ],
   "source": [
    "print(f'Tohu version: {tohu.__version__}')"
   ]
  },
  {
   "cell_type": "markdown",
   "metadata": {},
   "source": [
    "## Custom generator without `__init__` method"
   ]
  },
  {
   "cell_type": "code",
   "execution_count": 3,
   "metadata": {},
   "outputs": [],
   "source": [
    "class QuuxGenerator(CustomGenerator):\n",
    "    aa = Integer(100, 200)\n",
    "    bb = HashDigest(length=6)\n",
    "    cc = FakerGenerator(method='name')"
   ]
  },
  {
   "cell_type": "code",
   "execution_count": 4,
   "metadata": {},
   "outputs": [],
   "source": [
    "g = QuuxGenerator()"
   ]
  },
  {
   "cell_type": "code",
   "execution_count": 5,
   "metadata": {},
   "outputs": [
    {
     "name": "stdout",
     "output_type": "stream",
     "text": [
      "Generated sequence:\n",
      "\n",
      "Quux(aa=102, bb='C851F7', cc='Michelle Foster DDS')\n",
      "Quux(aa=164, bb='2553FC', cc='Sandra Galvan')\n",
      "Quux(aa=118, bb='CFF900', cc='Kristen Aguilar')\n",
      "Quux(aa=185, bb='E9D252', cc='Sarah Moore')\n",
      "Quux(aa=182, bb='EAB4D9', cc='Gary Bond')\n",
      "Quux(aa=124, bb='5B9B84', cc='Patrick Wood')\n",
      "Quux(aa=149, bb='8B4519', cc='Kathleen Browning')\n",
      "Quux(aa=158, bb='2E5251', cc='Joseph Harris')\n",
      "Quux(aa=100, bb='092E18', cc='Noah Wilson')\n",
      "Quux(aa=160, bb='91AA24', cc='Darren Dawson')\n"
     ]
    }
   ],
   "source": [
    "print_generated_sequence(g, num=10, sep='\\n', seed=12345)"
   ]
  },
  {
   "cell_type": "markdown",
   "metadata": {},
   "source": [
    "### Explicitly setting the name of generated items"
   ]
  },
  {
   "cell_type": "markdown",
   "metadata": {},
   "source": [
    "Let's repeat the previous example, but explicitly set the name of generated items by setting the `__tohu_items_name__` attribute inside the custom generator."
   ]
  },
  {
   "cell_type": "code",
   "execution_count": 6,
   "metadata": {},
   "outputs": [],
   "source": [
    "class SomeGeneratorWithExplicitItemsName(CustomGenerator):\n",
    "    __tohu_items_name__ = 'Foobar'\n",
    "\n",
    "    aa = Integer(100, 200)\n",
    "    bb = HashDigest(length=6)\n",
    "    cc = FakerGenerator(method='name')"
   ]
  },
  {
   "cell_type": "code",
   "execution_count": 7,
   "metadata": {},
   "outputs": [],
   "source": [
    "g = SomeGeneratorWithExplicitItemsName()"
   ]
  },
  {
   "cell_type": "markdown",
   "metadata": {},
   "source": [
    "The generated sequence is the same as above, but the name of the items has changed from `Quux` to `Foobar`."
   ]
  },
  {
   "cell_type": "code",
   "execution_count": 8,
   "metadata": {},
   "outputs": [
    {
     "name": "stdout",
     "output_type": "stream",
     "text": [
      "Generated sequence:\n",
      "\n",
      "Foobar(aa=102, bb='C851F7', cc='Michelle Foster DDS')\n",
      "Foobar(aa=164, bb='2553FC', cc='Sandra Galvan')\n",
      "Foobar(aa=118, bb='CFF900', cc='Kristen Aguilar')\n",
      "Foobar(aa=185, bb='E9D252', cc='Sarah Moore')\n",
      "Foobar(aa=182, bb='EAB4D9', cc='Gary Bond')\n",
      "Foobar(aa=124, bb='5B9B84', cc='Patrick Wood')\n",
      "Foobar(aa=149, bb='8B4519', cc='Kathleen Browning')\n",
      "Foobar(aa=158, bb='2E5251', cc='Joseph Harris')\n",
      "Foobar(aa=100, bb='092E18', cc='Noah Wilson')\n",
      "Foobar(aa=160, bb='91AA24', cc='Darren Dawson')\n"
     ]
    }
   ],
   "source": [
    "print_generated_sequence(g, num=10, sep='\\n', seed=12345)"
   ]
  },
  {
   "cell_type": "markdown",
   "metadata": {},
   "source": [
    "## Custom generator with `__init__` method"
   ]
  },
  {
   "cell_type": "code",
   "execution_count": 9,
   "metadata": {},
   "outputs": [],
   "source": [
    "class QuuxGenerator(CustomGenerator):\n",
    "    aa = Integer(100, 200)\n",
    "    \n",
    "    def __init__(self, faker_method):\n",
    "        self.bb = FakerGenerator(method=faker_method)\n",
    "\n",
    "        # Note: the call to super().__init__() needs to be at the end,\n",
    "        # and it needs to be passed the same arguments as the __init__()\n",
    "        # method from which it is called (here: `faker_method`).\n",
    "        super().__init__(faker_method)"
   ]
  },
  {
   "cell_type": "code",
   "execution_count": 10,
   "metadata": {},
   "outputs": [],
   "source": [
    "g1 = QuuxGenerator(faker_method='first_name')\n",
    "g2 = QuuxGenerator(faker_method='city')"
   ]
  },
  {
   "cell_type": "code",
   "execution_count": 11,
   "metadata": {},
   "outputs": [
    {
     "name": "stdout",
     "output_type": "stream",
     "text": [
      "Generated sequence:\n",
      "\n",
      "Quux(aa=102, bb='Russell')\n",
      "Quux(aa=164, bb='Derrick')\n",
      "Quux(aa=118, bb='Lori')\n",
      "Quux(aa=185, bb='Dustin')\n",
      "Quux(aa=182, bb='Shawn')\n",
      "Quux(aa=124, bb='Elaine')\n",
      "Quux(aa=149, bb='Cathy')\n",
      "Quux(aa=158, bb='Daniel')\n",
      "Quux(aa=100, bb='Olivia')\n",
      "Quux(aa=160, bb='Christina')\n",
      "\n",
      "Generated sequence:\n",
      "\n",
      "Quux(aa=102, bb='North Lori')\n",
      "Quux(aa=164, bb='South Elainestad')\n",
      "Quux(aa=118, bb='Port Christinafort')\n",
      "Quux(aa=185, bb='North Gloriastad')\n",
      "Quux(aa=182, bb='Port William')\n",
      "Quux(aa=124, bb='East Mary')\n",
      "Quux(aa=149, bb='New Matthew')\n",
      "Quux(aa=158, bb='Tylerton')\n",
      "Quux(aa=100, bb='Benjaminview')\n",
      "Quux(aa=160, bb='South Lisa')\n"
     ]
    }
   ],
   "source": [
    "print_generated_sequence(g1, num=10, sep='\\n', seed=12345); print()\n",
    "print_generated_sequence(g2, num=10, sep='\\n', seed=12345)"
   ]
  },
  {
   "cell_type": "markdown",
   "metadata": {},
   "source": [
    "## Custom generator containing derived generators"
   ]
  },
  {
   "cell_type": "code",
   "execution_count": 12,
   "metadata": {},
   "outputs": [],
   "source": [
    "some_tuples = make_dummy_tuples('abcdefghijklmnopqrstuvwxyz')\n",
    "#some_tuples[:5]"
   ]
  },
  {
   "cell_type": "markdown",
   "metadata": {},
   "source": [
    "### Example: extracting attributes"
   ]
  },
  {
   "cell_type": "code",
   "execution_count": 13,
   "metadata": {},
   "outputs": [],
   "source": [
    "class QuuxGenerator(CustomGenerator):\n",
    "    aa = SelectOne(some_tuples)\n",
    "    bb = GetAttribute(aa, 'x')\n",
    "    cc = GetAttribute(aa, 'y')"
   ]
  },
  {
   "cell_type": "code",
   "execution_count": 14,
   "metadata": {},
   "outputs": [],
   "source": [
    "g = QuuxGenerator()"
   ]
  },
  {
   "cell_type": "code",
   "execution_count": 15,
   "metadata": {},
   "outputs": [
    {
     "name": "stdout",
     "output_type": "stream",
     "text": [
      "Generated sequence:\n",
      "\n",
      "Quux(aa=['AA', 'aa'], bb='AA', cc='aa')\n",
      "Quux(aa=['QQ', 'qq'], bb='QQ', cc='qq')\n",
      "Quux(aa=['EE', 'ee'], bb='EE', cc='ee')\n",
      "Quux(aa=['VV', 'vv'], bb='VV', cc='vv')\n",
      "Quux(aa=['UU', 'uu'], bb='UU', cc='uu')\n",
      "Quux(aa=['GG', 'gg'], bb='GG', cc='gg')\n",
      "Quux(aa=['MM', 'mm'], bb='MM', cc='mm')\n",
      "Quux(aa=['OO', 'oo'], bb='OO', cc='oo')\n",
      "Quux(aa=['AA', 'aa'], bb='AA', cc='aa')\n",
      "Quux(aa=['PP', 'pp'], bb='PP', cc='pp')\n"
     ]
    }
   ],
   "source": [
    "print_generated_sequence(g, num=10, sep='\\n', seed=12345)"
   ]
  },
  {
   "cell_type": "markdown",
   "metadata": {},
   "source": [
    "### Example: arithmetic"
   ]
  },
  {
   "cell_type": "code",
   "execution_count": 16,
   "metadata": {},
   "outputs": [],
   "source": [
    "def square(x):\n",
    "    return x * x"
   ]
  },
  {
   "cell_type": "code",
   "execution_count": 17,
   "metadata": {},
   "outputs": [],
   "source": [
    "def add(x, y):\n",
    "    return x + y"
   ]
  },
  {
   "cell_type": "code",
   "execution_count": 18,
   "metadata": {},
   "outputs": [],
   "source": [
    "class QuuxGenerator(CustomGenerator):\n",
    "    aa = Integer(0, 20)\n",
    "    bb = Integer(0, 20)\n",
    "    cc = Apply(add, aa, Apply(square, bb))"
   ]
  },
  {
   "cell_type": "code",
   "execution_count": 19,
   "metadata": {},
   "outputs": [],
   "source": [
    "g = QuuxGenerator()"
   ]
  },
  {
   "cell_type": "code",
   "execution_count": 20,
   "metadata": {},
   "outputs": [
    {
     "name": "stdout",
     "output_type": "stream",
     "text": [
      "Generated sequence:\n",
      "\n",
      "Quux(aa=0, bb=13, cc=169)\n",
      "Quux(aa=16, bb=6, cc=52)\n",
      "Quux(aa=4, bb=4, cc=20)\n",
      "Quux(aa=20, bb=17, cc=309)\n",
      "Quux(aa=6, bb=4, cc=22)\n",
      "Quux(aa=12, bb=14, cc=208)\n",
      "Quux(aa=14, bb=14, cc=210)\n",
      "Quux(aa=0, bb=4, cc=16)\n",
      "Quux(aa=15, bb=19, cc=376)\n",
      "Quux(aa=15, bb=20, cc=415)\n"
     ]
    }
   ],
   "source": [
    "print_generated_sequence(g, num=10, sep='\\n', seed=12345)"
   ]
  },
  {
   "cell_type": "code",
   "execution_count": 21,
   "metadata": {},
   "outputs": [
    {
     "name": "stdout",
     "output_type": "stream",
     "text": [
      "[0, 16, 4, 20, 6, 12, 14, 0, 15, 15, 19, 11, 2, 5, 10, 11, 1, 13, 20, 20]\n",
      "[13, 6, 4, 17, 4, 14, 14, 4, 19, 20, 3, 18, 19, 16, 14, 5, 1, 17, 7, 18]\n",
      "[169, 52, 20, 309, 22, 208, 210, 16, 376, 415, 28, 335, 363, 261, 206, 36, 2, 302, 69, 344]\n"
     ]
    }
   ],
   "source": [
    "df = g.generate(num=100, seed=12345).to_df()\n",
    "print(list(df['aa'][:20]))\n",
    "print(list(df['bb'][:20]))\n",
    "print(list(df['cc'][:20]))"
   ]
  },
  {
   "cell_type": "code",
   "execution_count": 22,
   "metadata": {},
   "outputs": [
    {
     "data": {
      "text/plain": [
       "True"
      ]
     },
     "execution_count": 22,
     "metadata": {},
     "output_type": "execute_result"
    }
   ],
   "source": [
    "all(df['aa'] + df['bb']**2 == df['cc'])"
   ]
  },
  {
   "cell_type": "markdown",
   "metadata": {},
   "source": [
    "### Example: multi-stage dependencies"
   ]
  },
  {
   "cell_type": "code",
   "execution_count": 23,
   "metadata": {},
   "outputs": [],
   "source": [
    "class QuuxGenerator(CustomGenerator):\n",
    "    name = FakerGenerator(method=\"name\")\n",
    "    tag = SelectOne(['a', 'bb', 'ccc'])"
   ]
  },
  {
   "cell_type": "code",
   "execution_count": 24,
   "metadata": {},
   "outputs": [],
   "source": [
    "g = QuuxGenerator()"
   ]
  },
  {
   "cell_type": "code",
   "execution_count": 25,
   "metadata": {},
   "outputs": [],
   "source": [
    "quux_items = g.generate(num=100, seed=12345)"
   ]
  },
  {
   "cell_type": "code",
   "execution_count": 26,
   "metadata": {},
   "outputs": [
    {
     "data": {
      "text/html": [
       "<div>\n",
       "<style scoped>\n",
       "    .dataframe tbody tr th:only-of-type {\n",
       "        vertical-align: middle;\n",
       "    }\n",
       "\n",
       "    .dataframe tbody tr th {\n",
       "        vertical-align: top;\n",
       "    }\n",
       "\n",
       "    .dataframe thead th {\n",
       "        text-align: right;\n",
       "    }\n",
       "</style>\n",
       "<table border=\"1\" class=\"dataframe\">\n",
       "  <thead>\n",
       "    <tr style=\"text-align: right;\">\n",
       "      <th></th>\n",
       "      <th>name</th>\n",
       "      <th>tag</th>\n",
       "    </tr>\n",
       "  </thead>\n",
       "  <tbody>\n",
       "    <tr>\n",
       "      <th>0</th>\n",
       "      <td>Jonathan Hernandez</td>\n",
       "      <td>bb</td>\n",
       "    </tr>\n",
       "    <tr>\n",
       "      <th>1</th>\n",
       "      <td>Cheryl Stevens</td>\n",
       "      <td>a</td>\n",
       "    </tr>\n",
       "    <tr>\n",
       "      <th>2</th>\n",
       "      <td>Manuel Mclean</td>\n",
       "      <td>a</td>\n",
       "    </tr>\n",
       "    <tr>\n",
       "      <th>3</th>\n",
       "      <td>Paul Malone</td>\n",
       "      <td>ccc</td>\n",
       "    </tr>\n",
       "    <tr>\n",
       "      <th>4</th>\n",
       "      <td>Jason Dickson</td>\n",
       "      <td>a</td>\n",
       "    </tr>\n",
       "  </tbody>\n",
       "</table>\n",
       "</div>"
      ],
      "text/plain": [
       "                 name  tag\n",
       "0  Jonathan Hernandez   bb\n",
       "1      Cheryl Stevens    a\n",
       "2       Manuel Mclean    a\n",
       "3         Paul Malone  ccc\n",
       "4       Jason Dickson    a"
      ]
     },
     "execution_count": 26,
     "metadata": {},
     "output_type": "execute_result"
    }
   ],
   "source": [
    "quux_items.to_df().head(5)"
   ]
  },
  {
   "cell_type": "code",
   "execution_count": 27,
   "metadata": {},
   "outputs": [],
   "source": [
    "tag_lookup = {\n",
    "    'a': [1, 2, 3, 4, 5],\n",
    "    'bb': [10, 20, 30, 40, 50],\n",
    "    'ccc': [100, 200, 300, 400, 500],\n",
    "}"
   ]
  },
  {
   "cell_type": "code",
   "execution_count": 28,
   "metadata": {},
   "outputs": [],
   "source": [
    "class FoobarGenerator(CustomGenerator):\n",
    "    some_quux = SelectOne(quux_items)\n",
    "    number = SelectOneDerived(Lookup(GetAttribute(some_quux, 'tag'), tag_lookup))"
   ]
  },
  {
   "cell_type": "code",
   "execution_count": 29,
   "metadata": {},
   "outputs": [],
   "source": [
    "h = FoobarGenerator()"
   ]
  },
  {
   "cell_type": "code",
   "execution_count": 30,
   "metadata": {},
   "outputs": [],
   "source": [
    "h_items = h.generate(10000, seed=12345)"
   ]
  },
  {
   "cell_type": "code",
   "execution_count": 31,
   "metadata": {},
   "outputs": [
    {
     "data": {
      "text/html": [
       "<div>\n",
       "<style scoped>\n",
       "    .dataframe tbody tr th:only-of-type {\n",
       "        vertical-align: middle;\n",
       "    }\n",
       "\n",
       "    .dataframe tbody tr th {\n",
       "        vertical-align: top;\n",
       "    }\n",
       "\n",
       "    .dataframe thead th {\n",
       "        text-align: right;\n",
       "    }\n",
       "</style>\n",
       "<table border=\"1\" class=\"dataframe\">\n",
       "  <thead>\n",
       "    <tr style=\"text-align: right;\">\n",
       "      <th></th>\n",
       "      <th>name</th>\n",
       "      <th>tag</th>\n",
       "      <th>number</th>\n",
       "    </tr>\n",
       "  </thead>\n",
       "  <tbody>\n",
       "    <tr>\n",
       "      <th>0</th>\n",
       "      <td>Manuel Mclean</td>\n",
       "      <td>a</td>\n",
       "      <td>4</td>\n",
       "    </tr>\n",
       "    <tr>\n",
       "      <th>1</th>\n",
       "      <td>Nancy Davis</td>\n",
       "      <td>ccc</td>\n",
       "      <td>100</td>\n",
       "    </tr>\n",
       "    <tr>\n",
       "      <th>2</th>\n",
       "      <td>Sara Cook</td>\n",
       "      <td>a</td>\n",
       "      <td>3</td>\n",
       "    </tr>\n",
       "    <tr>\n",
       "      <th>3</th>\n",
       "      <td>Jason Christensen</td>\n",
       "      <td>ccc</td>\n",
       "      <td>100</td>\n",
       "    </tr>\n",
       "    <tr>\n",
       "      <th>4</th>\n",
       "      <td>Lisa Fernandez</td>\n",
       "      <td>a</td>\n",
       "      <td>1</td>\n",
       "    </tr>\n",
       "  </tbody>\n",
       "</table>\n",
       "</div>"
      ],
      "text/plain": [
       "                name  tag  number\n",
       "0      Manuel Mclean    a       4\n",
       "1        Nancy Davis  ccc     100\n",
       "2          Sara Cook    a       3\n",
       "3  Jason Christensen  ccc     100\n",
       "4     Lisa Fernandez    a       1"
      ]
     },
     "execution_count": 31,
     "metadata": {},
     "output_type": "execute_result"
    }
   ],
   "source": [
    "df = h_items.to_df(fields={'name': 'some_quux.name', 'tag': 'some_quux.tag', 'number': 'number'})\n",
    "df.head()"
   ]
  },
  {
   "cell_type": "code",
   "execution_count": 32,
   "metadata": {},
   "outputs": [
    {
     "name": "stdout",
     "output_type": "stream",
     "text": [
      "True\n",
      "True\n",
      "True\n"
     ]
    }
   ],
   "source": [
    "print(df.query('tag == \"a\"')['number'].isin([1, 2, 3, 4, 5]).all())\n",
    "print(df.query('tag == \"bb\"')['number'].isin([10, 20, 30, 40, 50]).all())\n",
    "print(df.query('tag == \"ccc\"')['number'].isin([100, 200, 300, 400, 500]).all())"
   ]
  },
  {
   "cell_type": "code",
   "execution_count": 33,
   "metadata": {},
   "outputs": [
    {
     "data": {
      "text/html": [
       "<div>\n",
       "<style scoped>\n",
       "    .dataframe tbody tr th:only-of-type {\n",
       "        vertical-align: middle;\n",
       "    }\n",
       "\n",
       "    .dataframe tbody tr th {\n",
       "        vertical-align: top;\n",
       "    }\n",
       "\n",
       "    .dataframe thead th {\n",
       "        text-align: right;\n",
       "    }\n",
       "</style>\n",
       "<table border=\"1\" class=\"dataframe\">\n",
       "  <thead>\n",
       "    <tr style=\"text-align: right;\">\n",
       "      <th></th>\n",
       "      <th>name</th>\n",
       "      <th>tag</th>\n",
       "      <th>number</th>\n",
       "    </tr>\n",
       "  </thead>\n",
       "  <tbody>\n",
       "    <tr>\n",
       "      <th>0</th>\n",
       "      <td>Manuel Mclean</td>\n",
       "      <td>a</td>\n",
       "      <td>4</td>\n",
       "    </tr>\n",
       "    <tr>\n",
       "      <th>2</th>\n",
       "      <td>Sara Cook</td>\n",
       "      <td>a</td>\n",
       "      <td>3</td>\n",
       "    </tr>\n",
       "    <tr>\n",
       "      <th>4</th>\n",
       "      <td>Lisa Fernandez</td>\n",
       "      <td>a</td>\n",
       "      <td>1</td>\n",
       "    </tr>\n",
       "    <tr>\n",
       "      <th>10</th>\n",
       "      <td>Tina Silva</td>\n",
       "      <td>a</td>\n",
       "      <td>5</td>\n",
       "    </tr>\n",
       "    <tr>\n",
       "      <th>12</th>\n",
       "      <td>Jennifer Brooks</td>\n",
       "      <td>a</td>\n",
       "      <td>3</td>\n",
       "    </tr>\n",
       "  </tbody>\n",
       "</table>\n",
       "</div>"
      ],
      "text/plain": [
       "               name tag  number\n",
       "0     Manuel Mclean   a       4\n",
       "2         Sara Cook   a       3\n",
       "4    Lisa Fernandez   a       1\n",
       "10       Tina Silva   a       5\n",
       "12  Jennifer Brooks   a       3"
      ]
     },
     "execution_count": 33,
     "metadata": {},
     "output_type": "execute_result"
    }
   ],
   "source": [
    "df.query('tag == \"a\"').head(5)"
   ]
  },
  {
   "cell_type": "code",
   "execution_count": 34,
   "metadata": {},
   "outputs": [
    {
     "data": {
      "text/html": [
       "<div>\n",
       "<style scoped>\n",
       "    .dataframe tbody tr th:only-of-type {\n",
       "        vertical-align: middle;\n",
       "    }\n",
       "\n",
       "    .dataframe tbody tr th {\n",
       "        vertical-align: top;\n",
       "    }\n",
       "\n",
       "    .dataframe thead th {\n",
       "        text-align: right;\n",
       "    }\n",
       "</style>\n",
       "<table border=\"1\" class=\"dataframe\">\n",
       "  <thead>\n",
       "    <tr style=\"text-align: right;\">\n",
       "      <th></th>\n",
       "      <th>name</th>\n",
       "      <th>tag</th>\n",
       "      <th>number</th>\n",
       "    </tr>\n",
       "  </thead>\n",
       "  <tbody>\n",
       "    <tr>\n",
       "      <th>5</th>\n",
       "      <td>Brian Murray</td>\n",
       "      <td>bb</td>\n",
       "      <td>20</td>\n",
       "    </tr>\n",
       "    <tr>\n",
       "      <th>7</th>\n",
       "      <td>Jennifer Williams</td>\n",
       "      <td>bb</td>\n",
       "      <td>40</td>\n",
       "    </tr>\n",
       "    <tr>\n",
       "      <th>8</th>\n",
       "      <td>Jonathan Hernandez</td>\n",
       "      <td>bb</td>\n",
       "      <td>10</td>\n",
       "    </tr>\n",
       "    <tr>\n",
       "      <th>9</th>\n",
       "      <td>Pamela Williamson</td>\n",
       "      <td>bb</td>\n",
       "      <td>30</td>\n",
       "    </tr>\n",
       "    <tr>\n",
       "      <th>11</th>\n",
       "      <td>Christian Lopez</td>\n",
       "      <td>bb</td>\n",
       "      <td>50</td>\n",
       "    </tr>\n",
       "  </tbody>\n",
       "</table>\n",
       "</div>"
      ],
      "text/plain": [
       "                  name tag  number\n",
       "5         Brian Murray  bb      20\n",
       "7    Jennifer Williams  bb      40\n",
       "8   Jonathan Hernandez  bb      10\n",
       "9    Pamela Williamson  bb      30\n",
       "11     Christian Lopez  bb      50"
      ]
     },
     "execution_count": 34,
     "metadata": {},
     "output_type": "execute_result"
    }
   ],
   "source": [
    "df.query('tag == \"bb\"').head(5)"
   ]
  },
  {
   "cell_type": "code",
   "execution_count": 35,
   "metadata": {},
   "outputs": [
    {
     "data": {
      "text/html": [
       "<div>\n",
       "<style scoped>\n",
       "    .dataframe tbody tr th:only-of-type {\n",
       "        vertical-align: middle;\n",
       "    }\n",
       "\n",
       "    .dataframe tbody tr th {\n",
       "        vertical-align: top;\n",
       "    }\n",
       "\n",
       "    .dataframe thead th {\n",
       "        text-align: right;\n",
       "    }\n",
       "</style>\n",
       "<table border=\"1\" class=\"dataframe\">\n",
       "  <thead>\n",
       "    <tr style=\"text-align: right;\">\n",
       "      <th></th>\n",
       "      <th>name</th>\n",
       "      <th>tag</th>\n",
       "      <th>number</th>\n",
       "    </tr>\n",
       "  </thead>\n",
       "  <tbody>\n",
       "    <tr>\n",
       "      <th>1</th>\n",
       "      <td>Nancy Davis</td>\n",
       "      <td>ccc</td>\n",
       "      <td>100</td>\n",
       "    </tr>\n",
       "    <tr>\n",
       "      <th>3</th>\n",
       "      <td>Jason Christensen</td>\n",
       "      <td>ccc</td>\n",
       "      <td>100</td>\n",
       "    </tr>\n",
       "    <tr>\n",
       "      <th>6</th>\n",
       "      <td>Devon Zimmerman</td>\n",
       "      <td>ccc</td>\n",
       "      <td>400</td>\n",
       "    </tr>\n",
       "    <tr>\n",
       "      <th>13</th>\n",
       "      <td>Kristopher Robinson</td>\n",
       "      <td>ccc</td>\n",
       "      <td>300</td>\n",
       "    </tr>\n",
       "    <tr>\n",
       "      <th>14</th>\n",
       "      <td>Gregory Simon</td>\n",
       "      <td>ccc</td>\n",
       "      <td>100</td>\n",
       "    </tr>\n",
       "  </tbody>\n",
       "</table>\n",
       "</div>"
      ],
      "text/plain": [
       "                   name  tag  number\n",
       "1           Nancy Davis  ccc     100\n",
       "3     Jason Christensen  ccc     100\n",
       "6       Devon Zimmerman  ccc     400\n",
       "13  Kristopher Robinson  ccc     300\n",
       "14        Gregory Simon  ccc     100"
      ]
     },
     "execution_count": 35,
     "metadata": {},
     "output_type": "execute_result"
    }
   ],
   "source": [
    "df.query('tag == \"ccc\"').head(5)"
   ]
  },
  {
   "cell_type": "code",
   "execution_count": null,
   "metadata": {},
   "outputs": [],
   "source": []
  }
 ],
 "metadata": {
  "kernelspec": {
   "display_name": "Python 3",
   "language": "python",
   "name": "python3"
  },
  "language_info": {
   "codemirror_mode": {
    "name": "ipython",
    "version": 3
   },
   "file_extension": ".py",
   "mimetype": "text/x-python",
   "name": "python",
   "nbconvert_exporter": "python",
   "pygments_lexer": "ipython3",
   "version": "3.7.0"
  }
 },
 "nbformat": 4,
 "nbformat_minor": 2
}
