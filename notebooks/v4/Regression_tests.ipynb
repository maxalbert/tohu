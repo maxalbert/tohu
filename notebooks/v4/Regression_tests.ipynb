{
 "cells": [
  {
   "cell_type": "markdown",
   "metadata": {},
   "source": [
    "# Regression tests"
   ]
  },
  {
   "cell_type": "code",
   "execution_count": 1,
   "metadata": {},
   "outputs": [],
   "source": [
    "import tohu\n",
    "from tohu import *"
   ]
  },
  {
   "cell_type": "code",
   "execution_count": 2,
   "metadata": {},
   "outputs": [
    {
     "name": "stdout",
     "output_type": "stream",
     "text": [
      "Tohu version: v0.5.1+6.g6b319e4.dirty\n"
     ]
    }
   ],
   "source": [
    "print(f\"Tohu version: {tohu.__version__}\")"
   ]
  },
  {
   "cell_type": "markdown",
   "metadata": {},
   "source": [
    "## NumpyRandomGenerator"
   ]
  },
  {
   "cell_type": "markdown",
   "metadata": {},
   "source": [
    "This is a quick sanity check that resetting a `NumpyRandomGenerator` really fully resets the state and leads to independent runs."
   ]
  },
  {
   "cell_type": "code",
   "execution_count": 3,
   "metadata": {},
   "outputs": [
    {
     "name": "stdout",
     "output_type": "stream",
     "text": [
      "Generated sequence: 1.9764617025764353, 5.394716690287741, 0.40280642471630923, 0.22134847826254989\n",
      "Generated sequence: 6.120470228691696, 9.374815429760194, -5.298018043341111, 5.539749427572133\n"
     ]
    }
   ],
   "source": [
    "g = NumpyRandomGenerator(method=\"normal\", loc=3.0, scale=5.0)\n",
    "g.reset(seed=12345); print_generated_sequence(g, num=4)\n",
    "g.reset(seed=99999); print_generated_sequence(g, num=4)"
   ]
  },
  {
   "cell_type": "code",
   "execution_count": 4,
   "metadata": {},
   "outputs": [
    {
     "name": "stdout",
     "output_type": "stream",
     "text": [
      "Generated sequence: 1.9764617025764353, 5.394716690287741, 0.40280642471630923, 0.22134847826254989\n",
      "Generated sequence: 6.120470228691696, 9.374815429760194, -5.298018043341111, 5.539749427572133\n"
     ]
    }
   ],
   "source": [
    "g1 = NumpyRandomGenerator(method=\"normal\", loc=3.0, scale=5.0)\n",
    "g2 = NumpyRandomGenerator(method=\"normal\", loc=3.0, scale=5.0)\n",
    "g1.reset(seed=12345)\n",
    "g2.reset(seed=99999)\n",
    "print_generated_sequence(g1, num=4)\n",
    "print_generated_sequence(g2, num=4)"
   ]
  },
  {
   "cell_type": "code",
   "execution_count": null,
   "metadata": {},
   "outputs": [],
   "source": []
  }
 ],
 "metadata": {
  "kernelspec": {
   "display_name": "Python 3",
   "language": "python",
   "name": "python3"
  },
  "language_info": {
   "codemirror_mode": {
    "name": "ipython",
    "version": 3
   },
   "file_extension": ".py",
   "mimetype": "text/x-python",
   "name": "python",
   "nbconvert_exporter": "python",
   "pygments_lexer": "ipython3",
   "version": "3.7.0"
  }
 },
 "nbformat": 4,
 "nbformat_minor": 2
}
