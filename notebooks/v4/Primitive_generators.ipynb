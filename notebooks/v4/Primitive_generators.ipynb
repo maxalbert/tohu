{
 "cells": [
  {
   "cell_type": "markdown",
   "metadata": {},
   "source": [
    "# Primitive generators"
   ]
  },
  {
   "cell_type": "markdown",
   "metadata": {},
   "source": [
    "This notebook contains tests for tohu's primitive generators."
   ]
  },
  {
   "cell_type": "code",
   "execution_count": 1,
   "metadata": {},
   "outputs": [],
   "source": [
    "import tohu\n",
    "from tohu.v4.primitive_generators import *\n",
    "from tohu.v4.utils import print_generated_sequence"
   ]
  },
  {
   "cell_type": "code",
   "execution_count": 2,
   "metadata": {},
   "outputs": [
    {
     "name": "stdout",
     "output_type": "stream",
     "text": [
      "Tohu version: v0.5.0+282.g5fef190.dirty\n"
     ]
    }
   ],
   "source": [
    "print(f'Tohu version: {tohu.__version__}')"
   ]
  },
  {
   "cell_type": "markdown",
   "metadata": {},
   "source": [
    "## Constant"
   ]
  },
  {
   "cell_type": "markdown",
   "metadata": {},
   "source": [
    "`Constant` simply returns the same, constant value every time."
   ]
  },
  {
   "cell_type": "code",
   "execution_count": 3,
   "metadata": {},
   "outputs": [],
   "source": [
    "g = Constant('quux')"
   ]
  },
  {
   "cell_type": "code",
   "execution_count": 4,
   "metadata": {},
   "outputs": [
    {
     "name": "stdout",
     "output_type": "stream",
     "text": [
      "Generated sequence: quux, quux, quux, quux, quux, quux, quux, quux, quux, quux\n"
     ]
    }
   ],
   "source": [
    "print_generated_sequence(g, num=10, seed=12345)"
   ]
  },
  {
   "cell_type": "markdown",
   "metadata": {},
   "source": [
    "## Boolean"
   ]
  },
  {
   "cell_type": "markdown",
   "metadata": {},
   "source": [
    "`Boolean` returns either `True` or `False`, optionally with different probabilities."
   ]
  },
  {
   "cell_type": "code",
   "execution_count": 5,
   "metadata": {},
   "outputs": [],
   "source": [
    "g1 = Boolean()\n",
    "g2 = Boolean(p=0.8)"
   ]
  },
  {
   "cell_type": "code",
   "execution_count": 6,
   "metadata": {},
   "outputs": [
    {
     "name": "stdout",
     "output_type": "stream",
     "text": [
      "Generated sequence: True, True, False, True, True, True, False, True, True, True, False, True, False, True, False, True, False, True, False, True\n",
      "Generated sequence: True, True, False, True, True, True, True, False, True, False, True, True, True, True, True, True, True, True, False, True\n"
     ]
    }
   ],
   "source": [
    "print_generated_sequence(g1, num=20, seed=12345)\n",
    "print_generated_sequence(g2, num=20, seed=99999)"
   ]
  },
  {
   "cell_type": "markdown",
   "metadata": {},
   "source": [
    "## Integer"
   ]
  },
  {
   "cell_type": "markdown",
   "metadata": {},
   "source": [
    "`Integer` returns a random integer between `low` and `high` (both inclusive)."
   ]
  },
  {
   "cell_type": "code",
   "execution_count": 7,
   "metadata": {},
   "outputs": [],
   "source": [
    "g = Integer(low=100, high=200)"
   ]
  },
  {
   "cell_type": "code",
   "execution_count": 8,
   "metadata": {},
   "outputs": [
    {
     "name": "stdout",
     "output_type": "stream",
     "text": [
      "Generated sequence: 153, 193, 101, 138, 147, 124, 134, 172, 155, 120\n"
     ]
    }
   ],
   "source": [
    "print_generated_sequence(g, num=10, seed=12345)"
   ]
  },
  {
   "cell_type": "markdown",
   "metadata": {},
   "source": [
    "## Float"
   ]
  },
  {
   "cell_type": "markdown",
   "metadata": {},
   "source": [
    "`Float` returns a random float between `low` and `high` (both inclusive)."
   ]
  },
  {
   "cell_type": "code",
   "execution_count": 9,
   "metadata": {},
   "outputs": [],
   "source": [
    "g = Float(low=2.3, high=4.2)"
   ]
  },
  {
   "cell_type": "code",
   "execution_count": 10,
   "metadata": {},
   "outputs": [
    {
     "name": "stdout",
     "output_type": "stream",
     "text": [
      "Generated sequence:\n",
      "\n",
      "3.091577757836\n",
      "2.319321421968\n",
      "3.867892367582\n",
      "2.867415724879\n",
      "2.999982210028\n",
      "2.667956563186\n",
      "3.375415520585\n",
      "2.607206865466\n",
      "2.536107080139\n",
      "3.122578909219\n"
     ]
    }
   ],
   "source": [
    "print_generated_sequence(g, num=10, sep='\\n', fmt='.12f', seed=12345)"
   ]
  },
  {
   "cell_type": "markdown",
   "metadata": {},
   "source": [
    "## HashDigest"
   ]
  },
  {
   "cell_type": "markdown",
   "metadata": {},
   "source": [
    "`HashDigest` returns hex strings representing hash digest values (or alternatively raw bytes)."
   ]
  },
  {
   "cell_type": "markdown",
   "metadata": {},
   "source": [
    "### HashDigest hex strings (uppercase)"
   ]
  },
  {
   "cell_type": "code",
   "execution_count": 11,
   "metadata": {},
   "outputs": [],
   "source": [
    "g = HashDigest(length=6)"
   ]
  },
  {
   "cell_type": "code",
   "execution_count": 12,
   "metadata": {},
   "outputs": [
    {
     "name": "stdout",
     "output_type": "stream",
     "text": [
      "Generated sequence: E251FB, E52DE1, 1DFDFD, 810876, A44D15, A9AD2D, FE0F5E, 7E5191, 656D56, 224236\n"
     ]
    }
   ],
   "source": [
    "print_generated_sequence(g, num=10, seed=12345)"
   ]
  },
  {
   "cell_type": "markdown",
   "metadata": {},
   "source": [
    "### HashDigest hex strings (lowercase)"
   ]
  },
  {
   "cell_type": "code",
   "execution_count": 13,
   "metadata": {},
   "outputs": [],
   "source": [
    "g = HashDigest(length=6, uppercase=False)"
   ]
  },
  {
   "cell_type": "code",
   "execution_count": 14,
   "metadata": {},
   "outputs": [
    {
     "name": "stdout",
     "output_type": "stream",
     "text": [
      "Generated sequence: e251fb, e52de1, 1dfdfd, 810876, a44d15, a9ad2d, fe0f5e, 7e5191, 656d56, 224236\n"
     ]
    }
   ],
   "source": [
    "print_generated_sequence(g, num=10, seed=12345)"
   ]
  },
  {
   "cell_type": "markdown",
   "metadata": {},
   "source": [
    "### HashDigest byte strings"
   ]
  },
  {
   "cell_type": "code",
   "execution_count": 15,
   "metadata": {},
   "outputs": [],
   "source": [
    "g = HashDigest(length=10, as_bytes=True)"
   ]
  },
  {
   "cell_type": "code",
   "execution_count": 16,
   "metadata": {},
   "outputs": [
    {
     "name": "stdout",
     "output_type": "stream",
     "text": [
      "Generated sequence:\n",
      "\n",
      "b'\\xe2Q\\xfb\\xed\\xe5-\\xe1\\xe3\\x1d\\xfd'\n",
      "b'\\x81\\x08v!\\xa4M\\x15/\\xa9\\xad'\n",
      "b'\\xfe\\x0f^4~Q\\x91\\xd3em'\n",
      "b'\"B6\\x88\\x1d\\x9eu\\x98\\x01\\xbb'\n",
      "b'vl\\xea\\xf6q\\xcd@v;\\x9d'\n"
     ]
    }
   ],
   "source": [
    "print_generated_sequence(g, num=5, seed=12345, sep='\\n')"
   ]
  },
  {
   "cell_type": "markdown",
   "metadata": {},
   "source": [
    "## FakerGenerator"
   ]
  },
  {
   "cell_type": "markdown",
   "metadata": {},
   "source": [
    "`FakerGenerator` gives access to any of the methods supported by the [faker](https://faker.readthedocs.io/) module. Here are a couple of examples."
   ]
  },
  {
   "cell_type": "markdown",
   "metadata": {},
   "source": [
    "#### Example: random names"
   ]
  },
  {
   "cell_type": "code",
   "execution_count": 17,
   "metadata": {},
   "outputs": [],
   "source": [
    "g = FakerGenerator(method='name')"
   ]
  },
  {
   "cell_type": "code",
   "execution_count": 18,
   "metadata": {},
   "outputs": [
    {
     "name": "stdout",
     "output_type": "stream",
     "text": [
      "Generated sequence: Adam Bryan, Jacob Lee, Candice Martinez, Justin Thompson, Heather Rubio, William Jenkins, Brittany Ball, Glenn Johnson\n"
     ]
    }
   ],
   "source": [
    "print_generated_sequence(g, num=8, seed=12345)"
   ]
  },
  {
   "cell_type": "markdown",
   "metadata": {},
   "source": [
    "#### Example: random addresses"
   ]
  },
  {
   "cell_type": "code",
   "execution_count": 19,
   "metadata": {},
   "outputs": [],
   "source": [
    "g = FakerGenerator(method='address')"
   ]
  },
  {
   "cell_type": "code",
   "execution_count": 20,
   "metadata": {},
   "outputs": [
    {
     "name": "stdout",
     "output_type": "stream",
     "text": [
      "Generated sequence:\n",
      "\n",
      "453 Ryan Islands\n",
      "Greenstad, FL 97251\n",
      "---\n",
      "USS Irwin\n",
      "FPO AA 66552\n",
      "---\n",
      "55075 William Rest\n",
      "North Elizabeth, NH 38062\n",
      "---\n",
      "926 Alexandra Road\n",
      "Romanberg, HI 99597\n",
      "---\n",
      "8202 Michelle Branch\n",
      "Baileyborough, AL 08481\n",
      "---\n",
      "205 William Coves\n",
      "Alexanderport, WI 72565\n",
      "---\n",
      "821 Patricia Hill Apt. 242\n",
      "Apriltown, MO 24730\n",
      "---\n",
      "486 Karen Lodge Apt. 205\n",
      "West Gregory, MT 33130\n"
     ]
    }
   ],
   "source": [
    "print_generated_sequence(g, num=8, seed=12345, sep='\\n---\\n')"
   ]
  },
  {
   "cell_type": "markdown",
   "metadata": {},
   "source": [
    "## IterateOver"
   ]
  },
  {
   "cell_type": "markdown",
   "metadata": {},
   "source": [
    "`IterateOver` is a generator which simply iterates over a given sequence. Note that once the generator has been exhausted (by iterating over all its elements), it needs to be reset before it can produce elements again."
   ]
  },
  {
   "cell_type": "code",
   "execution_count": 21,
   "metadata": {},
   "outputs": [],
   "source": [
    "seq = ['a', 'b', 'c', 'd', 'e']"
   ]
  },
  {
   "cell_type": "code",
   "execution_count": 22,
   "metadata": {},
   "outputs": [],
   "source": [
    "g = IterateOver(seq)"
   ]
  },
  {
   "cell_type": "code",
   "execution_count": 23,
   "metadata": {},
   "outputs": [
    {
     "name": "stdout",
     "output_type": "stream",
     "text": [
      "['a', 'b', 'c', 'd', 'e']\n",
      "[]\n",
      "['a', 'b', 'c', 'd', 'e']\n"
     ]
    }
   ],
   "source": [
    "g.reset()\n",
    "print([x for x in g])\n",
    "print([x for x in g])\n",
    "g.reset()\n",
    "print([x for x in g])"
   ]
  },
  {
   "cell_type": "markdown",
   "metadata": {},
   "source": [
    "## SelectOne"
   ]
  },
  {
   "cell_type": "code",
   "execution_count": 24,
   "metadata": {},
   "outputs": [],
   "source": [
    "some_items = ['aa', 'bb', 'cc', 'dd', 'ee']"
   ]
  },
  {
   "cell_type": "code",
   "execution_count": 25,
   "metadata": {},
   "outputs": [],
   "source": [
    "g = SelectOne(some_items)"
   ]
  },
  {
   "cell_type": "code",
   "execution_count": 26,
   "metadata": {},
   "outputs": [
    {
     "name": "stdout",
     "output_type": "stream",
     "text": [
      "Generated sequence: dd, aa, cc, cc, bb, cc, ee, dd, bb, cc, aa, dd, cc, ee, bb, ee, ee, bb, cc, aa, ee, dd, ee, ee, bb, bb, bb, aa, bb, cc\n"
     ]
    }
   ],
   "source": [
    "print_generated_sequence(g, num=30, seed=12345)"
   ]
  },
  {
   "cell_type": "markdown",
   "metadata": {},
   "source": [
    "By default, all possible values are chosen with equal probability, but this can be changed by passing a distribution as the parameter `p`."
   ]
  },
  {
   "cell_type": "code",
   "execution_count": 27,
   "metadata": {},
   "outputs": [],
   "source": [
    "g = SelectOne(some_items, p=[0.1, 0.05, 0.7, 0.03, 0.12])"
   ]
  },
  {
   "cell_type": "code",
   "execution_count": 28,
   "metadata": {},
   "outputs": [
    {
     "name": "stdout",
     "output_type": "stream",
     "text": [
      "Generated sequence: cc, ee, cc, aa, cc, cc, cc, cc, cc, aa, cc, cc, cc, cc, aa, cc, cc, cc, ee, cc, cc, cc, cc, cc, cc, ee, cc, ee, cc, cc\n"
     ]
    }
   ],
   "source": [
    "print_generated_sequence(g, num=30, seed=99999)"
   ]
  },
  {
   "cell_type": "markdown",
   "metadata": {},
   "source": [
    "We can see that the item `'cc'` has the highest chance of being selected (70%), followed by `'ee'` and `'aa'` (12% and 10%, respectively)."
   ]
  },
  {
   "cell_type": "markdown",
   "metadata": {},
   "source": [
    "## Timestamp"
   ]
  },
  {
   "cell_type": "markdown",
   "metadata": {},
   "source": [
    "`Timestamp` produces random timestamps between a start and end time (both inclusive)."
   ]
  },
  {
   "cell_type": "code",
   "execution_count": 29,
   "metadata": {},
   "outputs": [],
   "source": [
    "g = Timestamp(start='1998-03-01 00:02:00', end='1998-03-01 00:02:15')"
   ]
  },
  {
   "cell_type": "code",
   "execution_count": 30,
   "metadata": {},
   "outputs": [
    {
     "name": "stdout",
     "output_type": "stream",
     "text": [
      "Generated sequence:\n",
      "\n",
      "1998-03-01 00:02:03\n",
      "1998-03-01 00:02:09\n",
      "1998-03-01 00:02:07\n",
      "1998-03-01 00:02:11\n",
      "1998-03-01 00:02:13\n",
      "1998-03-01 00:02:06\n",
      "1998-03-01 00:02:08\n",
      "1998-03-01 00:02:12\n",
      "1998-03-01 00:02:06\n",
      "1998-03-01 00:02:01\n"
     ]
    }
   ],
   "source": [
    "print_generated_sequence(g, num=10, sep='\\n', seed=99999)"
   ]
  },
  {
   "cell_type": "markdown",
   "metadata": {},
   "source": [
    "If `start` or `end` are dates of the form `YYYY-MM-DD` (without the exact `HH:MM:SS` timestamp), they are interpreted as `start='YYYY-MM-DD 00:00:00` and `end='YYYY-MM-DD 23:59:59'`, respectively - i.e., as the beginning and the end of the day."
   ]
  },
  {
   "cell_type": "code",
   "execution_count": 31,
   "metadata": {},
   "outputs": [],
   "source": [
    "g = Timestamp(start='2018-02-14', end='2018-02-18')"
   ]
  },
  {
   "cell_type": "code",
   "execution_count": 32,
   "metadata": {},
   "outputs": [
    {
     "name": "stdout",
     "output_type": "stream",
     "text": [
      "Generated sequence:\n",
      "\n",
      "2018-02-16 12:40:28\n",
      "2018-02-18 10:42:18\n",
      "2018-02-14 01:28:51\n",
      "2018-02-18 23:26:47\n",
      "2018-02-18 20:55:23\n"
     ]
    }
   ],
   "source": [
    "print_generated_sequence(g, num=5, sep='\\n', seed=12345)"
   ]
  },
  {
   "cell_type": "markdown",
   "metadata": {},
   "source": [
    "For convenience, one can also pass a single date, which will produce timestamps during this particular date."
   ]
  },
  {
   "cell_type": "code",
   "execution_count": 33,
   "metadata": {},
   "outputs": [],
   "source": [
    "g = Timestamp(date='2018-01-01')"
   ]
  },
  {
   "cell_type": "code",
   "execution_count": 34,
   "metadata": {},
   "outputs": [
    {
     "name": "stdout",
     "output_type": "stream",
     "text": [
      "Generated sequence:\n",
      "\n",
      "2018-01-01 15:10:07\n",
      "2018-01-01 00:22:12\n",
      "2018-01-01 10:52:23\n",
      "2018-01-01 13:24:48\n",
      "2018-01-01 07:03:03\n"
     ]
    }
   ],
   "source": [
    "print_generated_sequence(g, num=5, sep='\\n', seed=12345)"
   ]
  },
  {
   "cell_type": "markdown",
   "metadata": {},
   "source": [
    "Note that the generated items are `datetime` objects (even though they appear as strings when printed above)."
   ]
  },
  {
   "cell_type": "code",
   "execution_count": 35,
   "metadata": {},
   "outputs": [
    {
     "data": {
      "text/plain": [
       "datetime.datetime"
      ]
     },
     "execution_count": 35,
     "metadata": {},
     "output_type": "execute_result"
    }
   ],
   "source": [
    "type(next(g))"
   ]
  },
  {
   "cell_type": "markdown",
   "metadata": {},
   "source": [
    "## CharString"
   ]
  },
  {
   "cell_type": "code",
   "execution_count": 36,
   "metadata": {},
   "outputs": [
    {
     "name": "stdout",
     "output_type": "stream",
     "text": [
      "Generated sequence: bFj7lCDM5eUVwz8, QG5ThX0t5TMklKn, Qule67xq5QaV597, SA4TteJc6OZuDxy, HxzQkefvT0jmCgC\n",
      "Generated sequence: Ylx3SYjPqrPO0vC, udVUmJ5f2xi6RRv, 8ZYmUYrEgjY5INZ, B9cgzt0nNwfbstm, h84ObqDckapVKgd\n"
     ]
    }
   ],
   "source": [
    "g = CharString(length=15)\n",
    "print_generated_sequence(g, num=5, seed=12345)\n",
    "print_generated_sequence(g, num=5, seed=99999)"
   ]
  },
  {
   "cell_type": "markdown",
   "metadata": {},
   "source": [
    "It is possible to explicitly specify the character set."
   ]
  },
  {
   "cell_type": "code",
   "execution_count": 37,
   "metadata": {},
   "outputs": [
    {
     "name": "stdout",
     "output_type": "stream",
     "text": [
      "Generated sequence:\n",
      "\n",
      "ADBGBDDEGAFF\n",
      "CCGEDGFAFFCG\n",
      "FEBBEBECBAGG\n",
      "CBGEAFGGGFDG\n",
      "FCAEAGEFCDCC\n"
     ]
    }
   ],
   "source": [
    "g = CharString(length=12, charset=\"ABCDEFG\")\n",
    "print_generated_sequence(g, num=5, sep='\\n', seed=12345)"
   ]
  },
  {
   "cell_type": "markdown",
   "metadata": {},
   "source": [
    "There are also a few pre-defined character sets."
   ]
  },
  {
   "cell_type": "code",
   "execution_count": 40,
   "metadata": {},
   "outputs": [
    {
     "name": "stdout",
     "output_type": "stream",
     "text": [
      "Generated sequence:\n",
      "\n",
      "andyelmqybtt\n",
      "jkzrnytduvhy\n",
      "tqeepfrifbyz\n",
      "jgyratyzzslx\n",
      "sibpayqvimjk\n",
      "\n",
      "Generated sequence:\n",
      "\n",
      "ASF8GQRW7C11\n",
      "NO9YS70E24L7\n",
      "0WGGVHYMGC78\n",
      "NJ7YA1798ZP6\n",
      "0LCUB8X4MRNN\n"
     ]
    }
   ],
   "source": [
    "g1 = CharString(length=12, charset=\"<lowercase>\")\n",
    "g2 = CharString(length=12, charset=\"<alphanumeric_uppercase>\")\n",
    "print_generated_sequence(g1, num=5, sep='\\n', seed=12345); print()\n",
    "print_generated_sequence(g2, num=5, sep='\\n', seed=12345)"
   ]
  },
  {
   "cell_type": "code",
   "execution_count": null,
   "metadata": {},
   "outputs": [],
   "source": []
  }
 ],
 "metadata": {
  "kernelspec": {
   "display_name": "Python 3",
   "language": "python",
   "name": "python3"
  },
  "language_info": {
   "codemirror_mode": {
    "name": "ipython",
    "version": 3
   },
   "file_extension": ".py",
   "mimetype": "text/x-python",
   "name": "python",
   "nbconvert_exporter": "python",
   "pygments_lexer": "ipython3",
   "version": "3.7.0"
  }
 },
 "nbformat": 4,
 "nbformat_minor": 2
}
