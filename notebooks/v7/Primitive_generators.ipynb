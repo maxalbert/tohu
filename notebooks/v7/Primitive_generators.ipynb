{
 "cells": [
  {
   "cell_type": "markdown",
   "metadata": {},
   "source": [
    "# Primitive generators"
   ]
  },
  {
   "cell_type": "markdown",
   "metadata": {},
   "source": [
    "This notebook contains tests for tohu's primitive generators."
   ]
  },
  {
   "cell_type": "code",
   "execution_count": 1,
   "metadata": {},
   "outputs": [],
   "source": [
    "import tohu\n",
    "from tohu.v7.primitive_generators import *\n",
    "from tohu.v7.utils import print_generated_sequence"
   ]
  },
  {
   "cell_type": "code",
   "execution_count": 2,
   "metadata": {},
   "outputs": [
    {
     "name": "stdout",
     "output_type": "stream",
     "text": [
      "Tohu version: v0.6.7+17.g2d4b619.dirty\n"
     ]
    }
   ],
   "source": [
    "print(f'Tohu version: {tohu.__version__}')"
   ]
  },
  {
   "cell_type": "markdown",
   "metadata": {},
   "source": [
    "## Constant"
   ]
  },
  {
   "cell_type": "markdown",
   "metadata": {},
   "source": [
    "`Constant` simply returns the same, constant value every time."
   ]
  },
  {
   "cell_type": "code",
   "execution_count": 3,
   "metadata": {},
   "outputs": [],
   "source": [
    "g = Constant('quux')"
   ]
  },
  {
   "cell_type": "code",
   "execution_count": 4,
   "metadata": {},
   "outputs": [
    {
     "name": "stdout",
     "output_type": "stream",
     "text": [
      "Generated sequence: quux, quux, quux, quux, quux, quux, quux, quux, quux, quux\n"
     ]
    }
   ],
   "source": [
    "print_generated_sequence(g, num=10, seed=99999)"
   ]
  },
  {
   "cell_type": "markdown",
   "metadata": {},
   "source": [
    "## Boolean"
   ]
  },
  {
   "cell_type": "markdown",
   "metadata": {},
   "source": [
    "`Boolean` returns either `True` or `False`, optionally with different probabilities."
   ]
  },
  {
   "cell_type": "code",
   "execution_count": 5,
   "metadata": {},
   "outputs": [],
   "source": [
    "g1 = Boolean()\n",
    "g2 = Boolean(p=0.8)"
   ]
  },
  {
   "cell_type": "code",
   "execution_count": 6,
   "metadata": {},
   "outputs": [
    {
     "name": "stdout",
     "output_type": "stream",
     "text": [
      "Generated sequence: True, True, False, False, True, True, True, False, False, False, True, True, True, False, False, False, False, True, False, True\n",
      "Generated sequence: True, True, False, True, True, True, True, False, True, False, True, True, True, True, True, True, True, True, False, True\n"
     ]
    }
   ],
   "source": [
    "print_generated_sequence(g1, num=20, seed=99999)\n",
    "print_generated_sequence(g2, num=20, seed=99999)"
   ]
  },
  {
   "cell_type": "markdown",
   "metadata": {},
   "source": [
    "## Incremental"
   ]
  },
  {
   "cell_type": "markdown",
   "metadata": {},
   "source": [
    "`Incremental` returns a sequence of numbers that increase in regular steps."
   ]
  },
  {
   "cell_type": "code",
   "execution_count": 7,
   "metadata": {},
   "outputs": [],
   "source": [
    "g = Incremental(start=200, step=4)"
   ]
  },
  {
   "cell_type": "code",
   "execution_count": 8,
   "metadata": {},
   "outputs": [
    {
     "name": "stdout",
     "output_type": "stream",
     "text": [
      "Generated sequence: 200, 204, 208, 212, 216, 220, 224, 228, 232, 236, 240, 244, 248, 252, 256, 260, 264, 268, 272, 276\n"
     ]
    }
   ],
   "source": [
    "print_generated_sequence(g, num=20, seed=99999)"
   ]
  },
  {
   "cell_type": "markdown",
   "metadata": {},
   "source": [
    "## Integer"
   ]
  },
  {
   "cell_type": "markdown",
   "metadata": {},
   "source": [
    "`Integer` returns a random integer between `low` and `high` (both inclusive)."
   ]
  },
  {
   "cell_type": "code",
   "execution_count": 9,
   "metadata": {},
   "outputs": [],
   "source": [
    "g = Integer(low=100, high=200)"
   ]
  },
  {
   "cell_type": "code",
   "execution_count": 10,
   "metadata": {},
   "outputs": [
    {
     "name": "stdout",
     "output_type": "stream",
     "text": [
      "Generated sequence: 120, 124, 170, 147, 192, 172, 119, 167, 184, 157, 133, 169, 136, 187, 184, 163, 183, 191, 144, 158\n"
     ]
    }
   ],
   "source": [
    "print_generated_sequence(g, num=20, seed=99999)"
   ]
  },
  {
   "cell_type": "markdown",
   "metadata": {},
   "source": [
    "## HashDigest"
   ]
  },
  {
   "cell_type": "markdown",
   "metadata": {},
   "source": [
    "`HashDigest` returns hex strings representing hash digest values (or alternatively raw bytes)."
   ]
  },
  {
   "cell_type": "markdown",
   "metadata": {},
   "source": [
    "### HashDigest hex strings (uppercase)"
   ]
  },
  {
   "cell_type": "code",
   "execution_count": 11,
   "metadata": {},
   "outputs": [],
   "source": [
    "g = HashDigest(length=6)"
   ]
  },
  {
   "cell_type": "code",
   "execution_count": 12,
   "metadata": {},
   "outputs": [
    {
     "name": "stdout",
     "output_type": "stream",
     "text": [
      "Generated sequence: E251FB, E52DE1, 1DFDFD, 810876, A44D15, A9AD2D, FE0F5E, 7E5191, 656D56, 224236\n"
     ]
    }
   ],
   "source": [
    "print_generated_sequence(g, num=10, seed=12345)"
   ]
  },
  {
   "cell_type": "markdown",
   "metadata": {},
   "source": [
    "### HashDigest hex strings (lowercase)"
   ]
  },
  {
   "cell_type": "code",
   "execution_count": 13,
   "metadata": {},
   "outputs": [],
   "source": [
    "g = HashDigest(length=6, lowercase=True)"
   ]
  },
  {
   "cell_type": "code",
   "execution_count": 14,
   "metadata": {},
   "outputs": [
    {
     "name": "stdout",
     "output_type": "stream",
     "text": [
      "Generated sequence: e251fb, e52de1, 1dfdfd, 810876, a44d15, a9ad2d, fe0f5e, 7e5191, 656d56, 224236\n"
     ]
    }
   ],
   "source": [
    "print_generated_sequence(g, num=10, seed=12345)"
   ]
  },
  {
   "cell_type": "markdown",
   "metadata": {},
   "source": [
    "### HashDigest byte strings"
   ]
  },
  {
   "cell_type": "code",
   "execution_count": 15,
   "metadata": {},
   "outputs": [],
   "source": [
    "g = HashDigest(length=10, as_bytes=True)"
   ]
  },
  {
   "cell_type": "code",
   "execution_count": 16,
   "metadata": {},
   "outputs": [
    {
     "name": "stdout",
     "output_type": "stream",
     "text": [
      "Generated sequence:\n",
      "\n",
      "b'\\xe2Q\\xfb\\xed\\xe5-\\xe1\\xe3\\x1d\\xfd'\n",
      "b'\\x81\\x08v!\\xa4M\\x15/\\xa9\\xad'\n",
      "b'\\xfe\\x0f^4~Q\\x91\\xd3em'\n",
      "b'\"B6\\x88\\x1d\\x9eu\\x98\\x01\\xbb'\n",
      "b'vl\\xea\\xf6q\\xcd@v;\\x9d'\n"
     ]
    }
   ],
   "source": [
    "print_generated_sequence(g, num=5, seed=12345, sep='\\n')"
   ]
  },
  {
   "cell_type": "markdown",
   "metadata": {},
   "source": [
    "## FakerGenerator"
   ]
  },
  {
   "cell_type": "markdown",
   "metadata": {},
   "source": [
    "`FakerGenerator` gives access to any of the methods supported by the [faker](https://faker.readthedocs.io/) module. Here are a couple of examples."
   ]
  },
  {
   "cell_type": "markdown",
   "metadata": {},
   "source": [
    "#### Example: random names"
   ]
  },
  {
   "cell_type": "code",
   "execution_count": 17,
   "metadata": {},
   "outputs": [],
   "source": [
    "g = FakerGenerator(method='name')"
   ]
  },
  {
   "cell_type": "code",
   "execution_count": 18,
   "metadata": {},
   "outputs": [
    {
     "name": "stdout",
     "output_type": "stream",
     "text": [
      "Generated sequence: Adam Bryan, Jacob Lee, Candice Martinez, Justin Thompson, Heather Rubio, William Jenkins, Brittany Ball, Glenn Johnson\n"
     ]
    }
   ],
   "source": [
    "print_generated_sequence(g, num=8, seed=12345)"
   ]
  },
  {
   "cell_type": "markdown",
   "metadata": {},
   "source": [
    "#### Example: random addresses"
   ]
  },
  {
   "cell_type": "code",
   "execution_count": 19,
   "metadata": {},
   "outputs": [],
   "source": [
    "g = FakerGenerator(method='address')"
   ]
  },
  {
   "cell_type": "code",
   "execution_count": 20,
   "metadata": {},
   "outputs": [
    {
     "name": "stdout",
     "output_type": "stream",
     "text": [
      "Generated sequence:\n",
      "\n",
      "453 Ryan Islands\n",
      "Greenstad, FL 97251\n",
      "---\n",
      "USS Irwin\n",
      "FPO AA 66552\n",
      "---\n",
      "55075 William Rest\n",
      "North Elizabeth, NH 38062\n",
      "---\n",
      "926 Alexandra Road\n",
      "Romanberg, HI 99597\n",
      "---\n",
      "8202 Michelle Branch\n",
      "Baileyborough, AL 08481\n",
      "---\n",
      "205 William Coves\n",
      "Alexanderport, WI 72565\n",
      "---\n",
      "821 Patricia Hill Apt. 242\n",
      "Apriltown, MO 24730\n",
      "---\n",
      "486 Karen Lodge Apt. 205\n",
      "West Gregory, MT 33130\n"
     ]
    }
   ],
   "source": [
    "print_generated_sequence(g, num=8, seed=12345, sep='\\n---\\n')"
   ]
  },
  {
   "cell_type": "code",
   "execution_count": null,
   "metadata": {},
   "outputs": [],
   "source": []
  }
 ],
 "metadata": {
  "kernelspec": {
   "display_name": "Python 3",
   "language": "python",
   "name": "python3"
  },
  "language_info": {
   "codemirror_mode": {
    "name": "ipython",
    "version": 3
   },
   "file_extension": ".py",
   "mimetype": "text/x-python",
   "name": "python",
   "nbconvert_exporter": "python",
   "pygments_lexer": "ipython3",
   "version": "3.7.0"
  }
 },
 "nbformat": 4,
 "nbformat_minor": 2
}
