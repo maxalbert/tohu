{
 "cells": [
  {
   "cell_type": "code",
   "execution_count": 1,
   "metadata": {
    "collapsed": true
   },
   "outputs": [],
   "source": [
    "import tohu\n",
    "from tohu.generators import *\n",
    "from utils import print_generated_sequence"
   ]
  },
  {
   "cell_type": "code",
   "execution_count": 2,
   "metadata": {},
   "outputs": [
    {
     "data": {
      "text/plain": [
       "'v0.2.0+24.g74172f9.dirty'"
      ]
     },
     "execution_count": 2,
     "metadata": {},
     "output_type": "execute_result"
    }
   ],
   "source": [
    "# NBVAL_IGNORE_OUTPUT\n",
    "tohu.__version__"
   ]
  },
  {
   "cell_type": "markdown",
   "metadata": {},
   "source": [
    "## Class `Integer`"
   ]
  },
  {
   "cell_type": "markdown",
   "metadata": {},
   "source": [
    "Generates random integers in the range [`lo`, `hi`]."
   ]
  },
  {
   "cell_type": "code",
   "execution_count": 3,
   "metadata": {
    "collapsed": true
   },
   "outputs": [],
   "source": [
    "g = Integer(lo=100, hi=200)"
   ]
  },
  {
   "cell_type": "code",
   "execution_count": 4,
   "metadata": {},
   "outputs": [
    {
     "name": "stdout",
     "output_type": "stream",
     "text": [
      "Generated sequence: 153, 193, 101, 138, 147, 124, 134, 172, 155, 120, 147, 115, 155, 133, 171\n",
      "Generated sequence: 115, 120, 196, 109, 116, 124, 136, 124, 187, 199, 176, 174, 138, 180, 170\n"
     ]
    }
   ],
   "source": [
    "g.reset(seed=12345); print_generated_sequence(g, num=15)\n",
    "g.reset(seed=9999); print_generated_sequence(g, num=15)"
   ]
  },
  {
   "cell_type": "code",
   "execution_count": 5,
   "metadata": {
    "collapsed": true
   },
   "outputs": [],
   "source": [
    "some_integers = g.generate(5, seed=99999)"
   ]
  },
  {
   "cell_type": "code",
   "execution_count": 6,
   "metadata": {},
   "outputs": [
    {
     "name": "stdout",
     "output_type": "stream",
     "text": [
      "115\n",
      "139\n",
      "164\n",
      "183\n",
      "194\n"
     ]
    }
   ],
   "source": [
    "for x in some_integers:\n",
    "    print(x)"
   ]
  },
  {
   "cell_type": "markdown",
   "metadata": {},
   "source": [
    "## Class `Float`"
   ]
  },
  {
   "cell_type": "markdown",
   "metadata": {},
   "source": [
    "Generates random floating point numbers in the range [`lo`, `hi`]."
   ]
  },
  {
   "cell_type": "code",
   "execution_count": 7,
   "metadata": {
    "collapsed": true
   },
   "outputs": [],
   "source": [
    "g = Float(lo=2.71828, hi=3.14159)"
   ]
  },
  {
   "cell_type": "code",
   "execution_count": 8,
   "metadata": {},
   "outputs": [
    {
     "name": "stdout",
     "output_type": "stream",
     "text": [
      "Generated sequence: 2.8946393582471686, 2.7225847111228716, 3.0675981674322017, 2.8446972371045396\n",
      "Generated sequence: 3.0716413078479454, 2.785006097591815, 2.750284761944705, 3.0530348312992466\n"
     ]
    }
   ],
   "source": [
    "g.reset(seed=12345); print_generated_sequence(g, num=4)\n",
    "g.reset(seed=9999); print_generated_sequence(g, num=4)"
   ]
  },
  {
   "cell_type": "markdown",
   "metadata": {},
   "source": [
    "## Class Constant"
   ]
  },
  {
   "cell_type": "markdown",
   "metadata": {},
   "source": [
    "Generates a sequence repeating the same element indefinitely."
   ]
  },
  {
   "cell_type": "code",
   "execution_count": 9,
   "metadata": {},
   "outputs": [
    {
     "name": "stdout",
     "output_type": "stream",
     "text": [
      "Generated sequence: Foobar, Foobar, Foobar, Foobar, Foobar, Foobar, Foobar, Foobar, Foobar, Foobar\n",
      "Generated sequence: 42, 42, 42, 42, 42, 42, 42, 42, 42, 42, 42, 42, 42, 42, 42, 42, 42, 42, 42, 42\n"
     ]
    }
   ],
   "source": [
    "g = Constant(\"Foobar\"); print_generated_sequence(g, num=10)\n",
    "g = Constant(42); print_generated_sequence(g, num=20)"
   ]
  },
  {
   "cell_type": "markdown",
   "metadata": {},
   "source": [
    "## Class `Sequential`"
   ]
  },
  {
   "cell_type": "markdown",
   "metadata": {},
   "source": [
    "Generates a sequence of sequentially numbered strings with a given prefix."
   ]
  },
  {
   "cell_type": "code",
   "execution_count": 10,
   "metadata": {
    "collapsed": true
   },
   "outputs": [],
   "source": [
    "g = Sequential(prefix='Foo_', digits=3)"
   ]
  },
  {
   "cell_type": "markdown",
   "metadata": {},
   "source": [
    "Calling `reset()` on the generator makes the numbering start from 1 again."
   ]
  },
  {
   "cell_type": "code",
   "execution_count": 11,
   "metadata": {},
   "outputs": [
    {
     "name": "stdout",
     "output_type": "stream",
     "text": [
      "Generated sequence: Foo_001, Foo_002, Foo_003, Foo_004, Foo_005\n",
      "Generated sequence: Foo_006, Foo_007, Foo_008, Foo_009, Foo_010\n",
      "-----------------------------\n",
      "Generated sequence: Foo_001, Foo_002, Foo_003, Foo_004, Foo_005\n"
     ]
    }
   ],
   "source": [
    "g.reset()\n",
    "print_generated_sequence(g, num=5)\n",
    "print_generated_sequence(g, num=5)\n",
    "print(\"-----------------------------\")\n",
    "g.reset()\n",
    "print_generated_sequence(g, num=5)"
   ]
  },
  {
   "cell_type": "markdown",
   "metadata": {},
   "source": [
    "**Note**: the method `Sequential.reset()` supports the `seed` argument for consistency with other generators, but its value is ignored - the generator is simply reset to its initial value. This is illustrated here:"
   ]
  },
  {
   "cell_type": "code",
   "execution_count": 12,
   "metadata": {},
   "outputs": [
    {
     "name": "stdout",
     "output_type": "stream",
     "text": [
      "Generated sequence: Foo_001, Foo_002, Foo_003, Foo_004, Foo_005\n",
      "Generated sequence: Foo_001, Foo_002, Foo_003, Foo_004, Foo_005\n"
     ]
    }
   ],
   "source": [
    "g.reset(seed=12345); print_generated_sequence(g, num=5)\n",
    "g.reset(seed=9999); print_generated_sequence(g, num=5)"
   ]
  },
  {
   "cell_type": "markdown",
   "metadata": {},
   "source": [
    "If a new `Sequential` generator is created from an existing one via the `_spawn()` method then its count will start again from 1."
   ]
  },
  {
   "cell_type": "code",
   "execution_count": 13,
   "metadata": {},
   "outputs": [
    {
     "name": "stdout",
     "output_type": "stream",
     "text": [
      "Generated sequence: Quux_01, Quux_02, Quux_03, Quux_04, Quux_05\n",
      "Generated sequence: Quux_06, Quux_07, Quux_08, Quux_09, Quux_10\n",
      "Generated sequence: Quux_01, Quux_02, Quux_03, Quux_04, Quux_05\n"
     ]
    }
   ],
   "source": [
    "g1 = Sequential(prefix=\"Quux_\", digits=2)\n",
    "g1.reset(seed=12345)\n",
    "print_generated_sequence(g1, num=5)\n",
    "\n",
    "g2 = g1._spawn()\n",
    "print_generated_sequence(g1, num=5)\n",
    "print_generated_sequence(g2, num=5)"
   ]
  },
  {
   "cell_type": "markdown",
   "metadata": {},
   "source": [
    "## Class `ChooseFrom`"
   ]
  },
  {
   "cell_type": "code",
   "execution_count": 14,
   "metadata": {
    "collapsed": true
   },
   "outputs": [],
   "source": [
    "g = ChooseFrom(values=['foobar', 42, 'quux', True, 1.2345])"
   ]
  },
  {
   "cell_type": "code",
   "execution_count": 15,
   "metadata": {},
   "outputs": [
    {
     "name": "stdout",
     "output_type": "stream",
     "text": [
      "Generated sequence: 1.2345, 42, True, True, quux, True, 1.2345, quux, True, 42, 1.2345, True, quux, quux, True\n",
      "Generated sequence: 42, quux, 42, quux, quux, True, quux, True, quux, 42, 42, 1.2345, 1.2345, 42, True\n"
     ]
    }
   ],
   "source": [
    "g.reset(seed=12345); print_generated_sequence(g, num=15)\n",
    "g.reset(seed=9999); print_generated_sequence(g, num=15)"
   ]
  },
  {
   "cell_type": "markdown",
   "metadata": {},
   "source": [
    "## Class `CharString`"
   ]
  },
  {
   "cell_type": "code",
   "execution_count": 16,
   "metadata": {
    "collapsed": true
   },
   "outputs": [],
   "source": [
    "chars = \"abcdefghijklmnopqrstuvwxyzABCDEFGHIJKLMNOPQRSTUVWXYZ0123456789,.?!\""
   ]
  },
  {
   "cell_type": "code",
   "execution_count": 17,
   "metadata": {},
   "outputs": [
    {
     "name": "stdout",
     "output_type": "stream",
     "text": [
      "Generated sequence: 2cNWzJ4vWq4IxyU, m1!wtBkzSQe7Se2, bbvxLn2oyXERgEq, ?CyH4rgwNcuETSv, YQchi5lYxcWCq,i\n",
      "Generated sequence: qvkrzLzNDil95jM, ByLv0b.4FyIeXep, 1PHr,yhcR!7O,xB, 3ALLCwMMk0tpfl6, ,pLtCfVBk4hoVMg\n"
     ]
    }
   ],
   "source": [
    "g = CharString(length=15, chars=chars)\n",
    "g.reset(seed=12345); print_generated_sequence(g, num=5)\n",
    "g.reset(seed=9999); print_generated_sequence(g, num=5)"
   ]
  },
  {
   "cell_type": "markdown",
   "metadata": {},
   "source": [
    "## Class `DigitString`"
   ]
  },
  {
   "cell_type": "code",
   "execution_count": 18,
   "metadata": {},
   "outputs": [
    {
     "name": "stdout",
     "output_type": "stream",
     "text": [
      "Generated sequence: 715645736275939, 362979334246618, 619711335272374, 961428493579313, 513469637611182\n",
      "Generated sequence: 232345459419288, 254353718974351, 971927653831916, 985834749554355, 273219288253416\n"
     ]
    }
   ],
   "source": [
    "g = DigitString(length=15)\n",
    "g.reset(seed=12345); print_generated_sequence(g, num=5)\n",
    "g.reset(seed=9999); print_generated_sequence(g, num=5)"
   ]
  },
  {
   "cell_type": "markdown",
   "metadata": {},
   "source": [
    "## Class `HashDigest`"
   ]
  },
  {
   "cell_type": "code",
   "execution_count": 19,
   "metadata": {},
   "outputs": [
    {
     "name": "stdout",
     "output_type": "stream",
     "text": [
      "Generated sequence: 7C1EED5E, 6F45A736, 2E759B3A, 936CC29C, 7A9334C2, 4E661861, 9CC711BE, 3DA352B7, 2FBA3C74\n",
      "Generated sequence: E23D23D4, 54BDAFA5, B9419A2A, 88ED2A54, FBD3AF5A, F3718FA9, 7F4DAAB3, CAC51971, C92B76EC\n"
     ]
    }
   ],
   "source": [
    "g = HashDigest(length=8)\n",
    "g.reset(seed=12345); print_generated_sequence(g, num=9)\n",
    "g.reset(seed=9999); print_generated_sequence(g, num=9)"
   ]
  },
  {
   "cell_type": "code",
   "execution_count": 20,
   "metadata": {},
   "outputs": [
    {
     "name": "stdout",
     "output_type": "stream",
     "text": [
      "Generated sequence: 7C1EED5E6F45A7362E75, 9B3A936CC29C7A9334C2, 4E6618619CC711BE3DA3, 52B72FBA3C749ACFE6D1\n",
      "Generated sequence: E23D23D454BDAFA5B941, 9A2A88ED2A54FBD3AF5A, F3718FA97F4DAAB3CAC5, 1971C92B76ECFD538319\n"
     ]
    }
   ],
   "source": [
    "g = HashDigest(length=20)\n",
    "g.reset(seed=12345); print_generated_sequence(g, num=4)\n",
    "g.reset(seed=9999); print_generated_sequence(g, num=4)"
   ]
  },
  {
   "cell_type": "markdown",
   "metadata": {},
   "source": [
    "## Class `Geolocation`"
   ]
  },
  {
   "cell_type": "code",
   "execution_count": 21,
   "metadata": {},
   "outputs": [
    {
     "name": "stdout",
     "output_type": "stream",
     "text": [
      "Generated sequence:\n",
      "(-30.016845883677178, -15.008422941838589)\n",
      "(-176.3390989954554, -88.1695494977277)\n",
      "(117.07434333134756, 58.53717166567378)\n",
      "(-72.48965212814659, -36.244826064073294)\n",
      "(-47.37179178414874, -23.68589589207437)\n"
     ]
    }
   ],
   "source": [
    "g = Geolocation()\n",
    "g.reset(seed=12345); print_generated_sequence(g, num=5, sep='\\n')"
   ]
  },
  {
   "cell_type": "markdown",
   "metadata": {},
   "source": [
    "## Class `Timestamp`"
   ]
  },
  {
   "cell_type": "code",
   "execution_count": 22,
   "metadata": {
    "collapsed": true
   },
   "outputs": [],
   "source": [
    "g = Timestamp(start='2016-02-14', end='2016-02-18')"
   ]
  },
  {
   "cell_type": "code",
   "execution_count": 23,
   "metadata": {},
   "outputs": [
    {
     "name": "stdout",
     "output_type": "stream",
     "text": [
      "Generated sequence:\n",
      "2016-02-16 12:40:28\n",
      "2016-02-18 10:42:18\n",
      "2016-02-14 01:28:51\n",
      "2016-02-18 23:26:47\n",
      "2016-02-18 20:55:23\n"
     ]
    }
   ],
   "source": [
    "g.reset(seed=12345); print_generated_sequence(g, num=5, sep='\\n')"
   ]
  },
  {
   "cell_type": "code",
   "execution_count": 24,
   "metadata": {
    "collapsed": true
   },
   "outputs": [],
   "source": [
    "g = Timestamp(start='1998-03-01 00:02:00', end='1998-03-01 00:02:15')"
   ]
  },
  {
   "cell_type": "code",
   "execution_count": 25,
   "metadata": {},
   "outputs": [
    {
     "name": "stdout",
     "output_type": "stream",
     "text": [
      "Generated sequence:\n",
      "1998-03-01 00:02:03\n",
      "1998-03-01 00:02:09\n",
      "1998-03-01 00:02:07\n",
      "1998-03-01 00:02:11\n",
      "1998-03-01 00:02:13\n",
      "1998-03-01 00:02:06\n",
      "1998-03-01 00:02:08\n",
      "1998-03-01 00:02:12\n",
      "1998-03-01 00:02:06\n",
      "1998-03-01 00:02:01\n"
     ]
    }
   ],
   "source": [
    "g.reset(seed=99999); print_generated_sequence(g, num=10, sep='\\n')"
   ]
  },
  {
   "cell_type": "markdown",
   "metadata": {},
   "source": [
    "## Defining a custom generator"
   ]
  },
  {
   "cell_type": "markdown",
   "metadata": {},
   "source": [
    "A custom \"compound\" generator can be defined by subclassing from `CustomGenerator`. Any attributes which are `tohu` generators will be used for the creation of random items whenever `next()` is called."
   ]
  },
  {
   "cell_type": "code",
   "execution_count": 26,
   "metadata": {
    "collapsed": true
   },
   "outputs": [],
   "source": [
    "class FoobarGenerator(CustomGenerator):\n",
    "    a = Integer(lo=1000, hi=3000)\n",
    "    b = Sequential(prefix=\"Foo_\", digits=2)\n",
    "    c = Float(lo=1.0, hi=4.0)"
   ]
  },
  {
   "cell_type": "markdown",
   "metadata": {},
   "source": [
    "Custom generators accept a `seed` argument during creation. In addition, the `reset()` method can be used to bring the generator into a well-defined state."
   ]
  },
  {
   "cell_type": "code",
   "execution_count": 27,
   "metadata": {
    "collapsed": true
   },
   "outputs": [],
   "source": [
    "g = FoobarGenerator(seed=12345)"
   ]
  },
  {
   "cell_type": "code",
   "execution_count": 28,
   "metadata": {
    "collapsed": true
   },
   "outputs": [],
   "source": [
    "# Equivalent to the previous cell\n",
    "g = FoobarGenerator()\n",
    "g.reset(seed=12345)"
   ]
  },
  {
   "cell_type": "markdown",
   "metadata": {},
   "source": [
    "A custom generator `g` produces namedtuples whose fields are populated from the individual generators used in the definition of `g`."
   ]
  },
  {
   "cell_type": "code",
   "execution_count": 29,
   "metadata": {},
   "outputs": [
    {
     "data": {
      "text/plain": [
       "Foobar(a=2412, b='Foo_01', c=1.733764868146123)"
      ]
     },
     "execution_count": 29,
     "metadata": {},
     "output_type": "execute_result"
    }
   ],
   "source": [
    "next(g)"
   ]
  },
  {
   "cell_type": "code",
   "execution_count": 30,
   "metadata": {},
   "outputs": [
    {
     "data": {
      "text/plain": [
       "Foobar(a=2542, b='Foo_02', c=2.6100055602718233)"
      ]
     },
     "execution_count": 30,
     "metadata": {},
     "output_type": "execute_result"
    }
   ],
   "source": [
    "next(g)"
   ]
  },
  {
   "cell_type": "code",
   "execution_count": 31,
   "metadata": {},
   "outputs": [
    {
     "name": "stdout",
     "output_type": "stream",
     "text": [
      "Attributes: a=2888, b=Foo_03, c=3.658587983373506\n"
     ]
    }
   ],
   "source": [
    "item = next(g)\n",
    "print(\"Attributes: a={}, b={}, c={}\".format(item.a, item.b, item.c))"
   ]
  },
  {
   "cell_type": "markdown",
   "metadata": {},
   "source": [
    "Test that the generated sequence is reproduced exactly if the same seed is used to reset the custom generator."
   ]
  },
  {
   "cell_type": "code",
   "execution_count": 32,
   "metadata": {},
   "outputs": [
    {
     "name": "stdout",
     "output_type": "stream",
     "text": [
      "Generated sequence:\n",
      "Foobar(a=2412, b='Foo_01', c=1.733764868146123)\n",
      "Foobar(a=2542, b='Foo_02', c=2.6100055602718233)\n",
      "Foobar(a=2888, b='Foo_03', c=3.658587983373506)\n",
      "Foobar(a=2477, b='Foo_04', c=3.5938402863541365)\n",
      "Foobar(a=1825, b='Foo_05', c=2.632768906156593)\n",
      "-------------------------------------------------\n",
      "Generated sequence:\n",
      "Foobar(a=2412, b='Foo_01', c=1.733764868146123)\n",
      "Foobar(a=2542, b='Foo_02', c=2.6100055602718233)\n",
      "Foobar(a=2888, b='Foo_03', c=3.658587983373506)\n",
      "Foobar(a=2477, b='Foo_04', c=3.5938402863541365)\n",
      "Foobar(a=1825, b='Foo_05', c=2.632768906156593)\n",
      "-------------------------------------------------\n",
      "Generated sequence:\n",
      "Foobar(a=1403, b='Foo_01', c=3.0691459038129345)\n",
      "Foobar(a=2827, b='Foo_02', c=3.6241864318459376)\n",
      "Foobar(a=1032, b='Foo_03', c=3.898644498622002)\n",
      "Foobar(a=2475, b='Foo_04', c=2.381215575246256)\n",
      "Foobar(a=1795, b='Foo_05', c=1.660761912529198)\n"
     ]
    }
   ],
   "source": [
    "g.reset(seed=12345)\n",
    "print_generated_sequence(g, num=5, sep='\\n')\n",
    "print(\"-------------------------------------------------\")\n",
    "g.reset(seed=12345)\n",
    "print_generated_sequence(g, num=5, sep='\\n')\n",
    "print(\"-------------------------------------------------\")\n",
    "g.reset(seed=9999)\n",
    "print_generated_sequence(g, num=5, sep='\\n')"
   ]
  },
  {
   "cell_type": "markdown",
   "metadata": {},
   "source": [
    "## Using tohu generators as iterators"
   ]
  },
  {
   "cell_type": "markdown",
   "metadata": {},
   "source": [
    "Each `tohu` generator can also be used as a Python iterator producing an (infinite) series of elements."
   ]
  },
  {
   "cell_type": "code",
   "execution_count": 33,
   "metadata": {},
   "outputs": [
    {
     "name": "stdout",
     "output_type": "stream",
     "text": [
      "161 258 356 432 478 221 281 311 203 229 307 470 410 410 367 203 130 455 270 370 296 "
     ]
    }
   ],
   "source": [
    "int_generator = Integer(lo=100, hi=500, seed=99999)\n",
    "\n",
    "for i, x in enumerate(int_generator):\n",
    "    if i > 20:\n",
    "        break\n",
    "    print(x, end=\" \")"
   ]
  },
  {
   "cell_type": "markdown",
   "metadata": {},
   "source": [
    "## Nesting custom generators"
   ]
  },
  {
   "cell_type": "markdown",
   "metadata": {},
   "source": [
    "It is possible to \"nest\" custom generators, in the sense that one generator can be used as attributes in another one. \n",
    "Here is an example where the generator `FoobarGenerator` defined above is re-used in a second custom generator called `QuuxGenerator`."
   ]
  },
  {
   "cell_type": "code",
   "execution_count": 34,
   "metadata": {
    "collapsed": true
   },
   "outputs": [],
   "source": [
    "class QuuxGenerator(CustomGenerator):\n",
    "    x = Integer(lo=400, hi=499)\n",
    "    y = FoobarGenerator()\n",
    "    \n",
    "    def __init__(self, z_min, z_max):\n",
    "        self.z = Float(lo=z_min, hi=z_max)"
   ]
  },
  {
   "cell_type": "markdown",
   "metadata": {},
   "source": [
    "Let's check that the `seed` argument provided during creation of the custom generator is consistent with calling `g.reset(seed)` later."
   ]
  },
  {
   "cell_type": "code",
   "execution_count": 35,
   "metadata": {},
   "outputs": [
    {
     "name": "stdout",
     "output_type": "stream",
     "text": [
      "Generated sequence:\n",
      "Quux(x=418, y=Foobar(a=1509, b='Foo_01', c=2.7947908309308644), z=2.7259018441896203)\n",
      "Quux(x=419, y=Foobar(a=2115, b='Foo_02', c=1.4481062807172203), z=2.3297850022444146)\n",
      "Quux(x=469, y=Foobar(a=1175, b='Foo_03', c=2.8522755845606644), z=2.0614461346595028)\n",
      "Quux(x=439, y=Foobar(a=2703, b='Foo_04', c=3.4997079527564177), z=2.363695753740433)\n",
      "Quux(x=453, y=Foobar(a=2778, b='Foo_05', c=1.376390684366569), z=2.0723007254985166)\n"
     ]
    }
   ],
   "source": [
    "g = QuuxGenerator(z_min=2.0, z_max=3.0, seed=99999)\n",
    "print_generated_sequence(g, num=5, sep='\\n')"
   ]
  },
  {
   "cell_type": "code",
   "execution_count": 36,
   "metadata": {},
   "outputs": [
    {
     "name": "stdout",
     "output_type": "stream",
     "text": [
      "Generated sequence:\n",
      "Quux(x=418, y=Foobar(a=1509, b='Foo_01', c=2.7947908309308644), z=2.7259018441896203)\n",
      "Quux(x=419, y=Foobar(a=2115, b='Foo_02', c=1.4481062807172203), z=2.3297850022444146)\n",
      "Quux(x=469, y=Foobar(a=1175, b='Foo_03', c=2.8522755845606644), z=2.0614461346595028)\n",
      "Quux(x=439, y=Foobar(a=2703, b='Foo_04', c=3.4997079527564177), z=2.363695753740433)\n",
      "Quux(x=453, y=Foobar(a=2778, b='Foo_05', c=1.376390684366569), z=2.0723007254985166)\n"
     ]
    }
   ],
   "source": [
    "g.reset(seed=99999); print_generated_sequence(g, num=5, sep='\\n')"
   ]
  },
  {
   "cell_type": "markdown",
   "metadata": {
    "collapsed": true
   },
   "source": [
    "## Formatting with custom generators"
   ]
  },
  {
   "cell_type": "code",
   "execution_count": 37,
   "metadata": {
    "collapsed": true
   },
   "outputs": [],
   "source": [
    "class FoobarGenerator(CustomGenerator):\n",
    "    quux = Integer(lo=1000, hi=3000)\n",
    "    blabla = Float(lo=1.0, hi=4.0)\n",
    "    lalalalala = Sequential(prefix=\"Foo_\", digits=2)"
   ]
  },
  {
   "cell_type": "code",
   "execution_count": 38,
   "metadata": {
    "collapsed": true
   },
   "outputs": [],
   "source": [
    "g = FoobarGenerator(seed=99999)"
   ]
  },
  {
   "cell_type": "code",
   "execution_count": 39,
   "metadata": {
    "collapsed": true
   },
   "outputs": [],
   "source": [
    "item1 = next(g)\n",
    "item2 = next(g)\n",
    "item3 = next(g)"
   ]
  },
  {
   "cell_type": "markdown",
   "metadata": {},
   "source": [
    "Items produced by generators can be printed in the usual way."
   ]
  },
  {
   "cell_type": "code",
   "execution_count": 40,
   "metadata": {},
   "outputs": [
    {
     "name": "stdout",
     "output_type": "stream",
     "text": [
      "Foobar(quux=1296, blabla=1.3900044232687412, lalalalala='Foo_01')\n",
      "Foobar(quux=2968, blabla=1.9558771150704701, lalalalala='Foo_02')\n",
      "Foobar(quux=1311, blabla=1.2884281046829749, lalalalala='Foo_03')\n"
     ]
    }
   ],
   "source": [
    "print(item1)\n",
    "print(item2)\n",
    "print(item3)"
   ]
  },
  {
   "cell_type": "markdown",
   "metadata": {},
   "source": [
    "Each item also implements the `__format__()` method, which makes it possible to call `format()` on it. This will produce a string resulting from the concatenation of all field values in this item."
   ]
  },
  {
   "cell_type": "code",
   "execution_count": 41,
   "metadata": {},
   "outputs": [
    {
     "name": "stdout",
     "output_type": "stream",
     "text": [
      "1296,1.3900044232687412,Foo_01\n",
      "\n",
      "2968,1.9558771150704701,Foo_02\n",
      "\n",
      "1311,1.2884281046829749,Foo_03\n",
      "\n"
     ]
    }
   ],
   "source": [
    "print(format(item1))\n",
    "print(format(item2))\n",
    "print(format(item3))"
   ]
  },
  {
   "cell_type": "markdown",
   "metadata": {},
   "source": [
    "**TODO:** It would be nice to make it possible to customise the formatting using a different field separator (e.g. \"|\"), or by setting custom start/end strings. However, let's see whether we really need this.\n",
    "\n",
    "Example:\n",
    "```python\n",
    ">>> g.SEPARATOR = \"|\"\n",
    ">>> g.START_DELIM = \"--> Item: \"\n",
    ">>> g.END_DELIM = \" ||\"\n",
    ">>> print(format(item1))\n",
    ">>> print(format(item2))\n",
    ">>> print(format(item3))\n",
    "```\n",
    "```\n",
    "--> Item: 1246|1.3614714283377922|Foo_01 ||\n",
    "--> Item: 2944|1.9278550110777513|Foo_02 ||\n",
    "--> Item: 1633|3.858759671075081|Foo_03 ||\n",
    "```"
   ]
  },
  {
   "cell_type": "markdown",
   "metadata": {},
   "source": [
    "### Writing generator outputs to a file."
   ]
  },
  {
   "cell_type": "markdown",
   "metadata": {},
   "source": [
    "Each custom generator comes with an `export()` method which allows to easily export a number of items produced by the generator to a file."
   ]
  },
  {
   "cell_type": "code",
   "execution_count": 42,
   "metadata": {
    "collapsed": true
   },
   "outputs": [],
   "source": [
    "import tempfile"
   ]
  },
  {
   "cell_type": "code",
   "execution_count": 43,
   "metadata": {
    "collapsed": true
   },
   "outputs": [],
   "source": [
    "f = tempfile.NamedTemporaryFile()"
   ]
  },
  {
   "cell_type": "code",
   "execution_count": 44,
   "metadata": {},
   "outputs": [
    {
     "name": "stdout",
     "output_type": "stream",
     "text": [
      "1296,1.3900044232687412,Foo_01\r\n",
      "2968,1.9558771150704701,Foo_02\r\n",
      "1311,1.2884281046829749,Foo_03\r\n"
     ]
    }
   ],
   "source": [
    "g.export(f.name, N=3, seed=99999, progressbar=False)\n",
    "\n",
    "!cat $f.name"
   ]
  },
  {
   "cell_type": "markdown",
   "metadata": {},
   "source": [
    "By default, the contents of an existing file are overwritten."
   ]
  },
  {
   "cell_type": "code",
   "execution_count": 45,
   "metadata": {},
   "outputs": [
    {
     "name": "stdout",
     "output_type": "stream",
     "text": [
      "2412,1.0977290658186822,Foo_01\r\n",
      "2542,3.680244627954468,Foo_02\r\n",
      "2888,2.882666479357238,Foo_03\r\n"
     ]
    }
   ],
   "source": [
    "g.export(f.name, N=3, seed=12345, progressbar=False)\n",
    "\n",
    "!cat $f.name"
   ]
  },
  {
   "cell_type": "markdown",
   "metadata": {},
   "source": [
    "However, it is possible to append lines to an existing file by using `mode='a'` or `mode='append'`."
   ]
  },
  {
   "cell_type": "code",
   "execution_count": 46,
   "metadata": {},
   "outputs": [
    {
     "name": "stdout",
     "output_type": "stream",
     "text": [
      "2412,1.0977290658186822,Foo_01\r\n",
      "2542,3.680244627954468,Foo_02\r\n",
      "2888,2.882666479357238,Foo_03\r\n",
      "1296,1.3900044232687412,Foo_01\r\n",
      "2968,1.9558771150704701,Foo_02\r\n",
      "1311,1.2884281046829749,Foo_03\r\n",
      "2104,2.679809098967194,Foo_04\r\n"
     ]
    }
   ],
   "source": [
    "g.export(f.name, N=4, seed=99999, mode='a', progressbar=False)\n",
    "\n",
    "!cat $f.name"
   ]
  },
  {
   "cell_type": "markdown",
   "metadata": {},
   "source": [
    "### Tweaking the output formatting"
   ]
  },
  {
   "cell_type": "markdown",
   "metadata": {},
   "source": [
    "By default, the formatting simply concatenates all fields in the custom generator. However, sometimes you may want to change the order in which fields are printed, omit certain fields or otherwise customise the output.\n",
    "\n",
    "This can be achieved by setting the `FORMAT_STR` attribute on the generator (either in the class definition or later). Any field values are interpolated using the `${fieldname}` syntax.\n",
    "\n",
    "Note: In most cases `FORMAT_STR` should end with `\\n`. Otherwise the `export()` method will export all items in a single line in the output file."
   ]
  },
  {
   "cell_type": "code",
   "execution_count": 47,
   "metadata": {
    "collapsed": true
   },
   "outputs": [],
   "source": [
    "class FoobarGenerator(CustomGenerator):\n",
    "    aaa = Integer(lo=1000, hi=3000)\n",
    "    bbb = Float(lo=1.0, hi=4.0)\n",
    "    ccc = Sequential(prefix=\"Foo_\", digits=2)\n",
    "    \n",
    "    FORMAT_STR = \"bbb=${bbb}, aaa=${aaa} - [omitting 'ccc']\""
   ]
  },
  {
   "cell_type": "code",
   "execution_count": 48,
   "metadata": {
    "collapsed": true
   },
   "outputs": [],
   "source": [
    "g = FoobarGenerator(seed=99999)"
   ]
  },
  {
   "cell_type": "code",
   "execution_count": 49,
   "metadata": {
    "collapsed": true
   },
   "outputs": [],
   "source": [
    "item1 = next(g)\n",
    "item2 = next(g)\n",
    "item3 = next(g)"
   ]
  },
  {
   "cell_type": "code",
   "execution_count": 50,
   "metadata": {},
   "outputs": [
    {
     "name": "stdout",
     "output_type": "stream",
     "text": [
      "bbb=1.3900044232687412, aaa=1296 - [omitting 'ccc']\n",
      "bbb=1.9558771150704701, aaa=2968 - [omitting 'ccc']\n",
      "bbb=1.2884281046829749, aaa=1311 - [omitting 'ccc']\n"
     ]
    }
   ],
   "source": [
    "print(format(item1))\n",
    "print(format(item2))\n",
    "print(format(item3))"
   ]
  },
  {
   "cell_type": "markdown",
   "metadata": {},
   "source": [
    "The `FORMAT_STR` attribute can also be set on an existing generator."
   ]
  },
  {
   "cell_type": "code",
   "execution_count": 51,
   "metadata": {
    "collapsed": true
   },
   "outputs": [],
   "source": [
    "g.FORMAT_STR = 'aaa = ${aaa} | ccc = ${ccc}'"
   ]
  },
  {
   "cell_type": "code",
   "execution_count": 52,
   "metadata": {},
   "outputs": [
    {
     "name": "stdout",
     "output_type": "stream",
     "text": [
      "aaa = 1296 | ccc = Foo_01\n",
      "aaa = 2968 | ccc = Foo_02\n",
      "aaa = 1311 | ccc = Foo_03\n"
     ]
    }
   ],
   "source": [
    "print(format(item1))\n",
    "print(format(item2))\n",
    "print(format(item3))"
   ]
  },
  {
   "cell_type": "markdown",
   "metadata": {},
   "source": [
    "Of course, the value of `FORMAT_STR` is also used when exporting to a file. Note that for file export, `FORMAT_STR` should end in `\\n`, otherwise the resulting file will only contain a single long line."
   ]
  },
  {
   "cell_type": "code",
   "execution_count": 53,
   "metadata": {
    "collapsed": true
   },
   "outputs": [],
   "source": [
    "g.FORMAT_STR = 'ccc = ${ccc} -- bbb = ${bbb} -- aaa=${aaa} -- ccc=${ccc}\\n'"
   ]
  },
  {
   "cell_type": "code",
   "execution_count": 54,
   "metadata": {},
   "outputs": [
    {
     "name": "stdout",
     "output_type": "stream",
     "text": [
      "# Each line below contains ccc, bbb, aaa, then ccc again.\r\n",
      "\r\n",
      "ccc = Foo_01 -- bbb = 1.3900044232687412 -- aaa=1296 -- ccc=Foo_01\r\n",
      "ccc = Foo_02 -- bbb = 1.9558771150704701 -- aaa=2968 -- ccc=Foo_02\r\n",
      "ccc = Foo_03 -- bbb = 1.2884281046829749 -- aaa=1311 -- ccc=Foo_03\r\n",
      "ccc = Foo_04 -- bbb = 2.679809098967194 -- aaa=2104 -- ccc=Foo_04\r\n",
      "ccc = Foo_05 -- bbb = 1.4118597969472235 -- aaa=2733 -- ccc=Foo_05\r\n"
     ]
    }
   ],
   "source": [
    "g.export(f.name, N=5, seed=99999, progressbar=False,\n",
    "         header='# Each line below contains ccc, bbb, aaa, then ccc again.\\n\\n')\n",
    "\n",
    "!cat $f.name"
   ]
  },
  {
   "cell_type": "markdown",
   "metadata": {},
   "source": [
    "## Formatting nested generators"
   ]
  },
  {
   "cell_type": "code",
   "execution_count": 55,
   "metadata": {
    "collapsed": true
   },
   "outputs": [],
   "source": [
    "class FoobarGenerator(CustomGenerator):\n",
    "    aaa = Integer(lo=1000, hi=3000)\n",
    "    bbb = Float(lo=1.0, hi=4.0)\n",
    "    ccc = Sequential(prefix=\"Foo_\", digits=2)"
   ]
  },
  {
   "cell_type": "code",
   "execution_count": 56,
   "metadata": {
    "collapsed": true
   },
   "outputs": [],
   "source": [
    "class QuuxGenerator(CustomGenerator):\n",
    "    x = Integer(lo=400, hi=499)\n",
    "    y = FoobarGenerator()"
   ]
  },
  {
   "cell_type": "code",
   "execution_count": 57,
   "metadata": {
    "collapsed": true
   },
   "outputs": [],
   "source": [
    "g = QuuxGenerator()"
   ]
  },
  {
   "cell_type": "markdown",
   "metadata": {},
   "source": [
    "By default, attributes that are themselves produced by custom generators are interpolated using their standard representation."
   ]
  },
  {
   "cell_type": "code",
   "execution_count": 58,
   "metadata": {},
   "outputs": [
    {
     "name": "stdout",
     "output_type": "stream",
     "text": [
      "418,Foobar(aaa=1509, bbb=1.468565926430586, ccc='Foo_01')\n",
      "\n",
      "419,Foobar(aaa=2115, bbb=3.1622723055489184, ccc='Foo_02')\n",
      "\n",
      "469,Foobar(aaa=1175, bbb=3.8962521605590066, ccc='Foo_03')\n",
      "\n"
     ]
    }
   ],
   "source": [
    "g.reset(seed=99999)\n",
    "print(format(next(g)))\n",
    "print(format(next(g)))\n",
    "print(format(next(g)))"
   ]
  },
  {
   "cell_type": "markdown",
   "metadata": {},
   "source": [
    "In most cases, this is not what you want, so you should set the `FORMAT_STR` attribute. Nested attributes can be accessed as you would expect:"
   ]
  },
  {
   "cell_type": "code",
   "execution_count": 59,
   "metadata": {
    "collapsed": true
   },
   "outputs": [],
   "source": [
    "g.FORMAT_STR = \"x=${x},y.aaa=${y.aaa},y.bbb=${y.bbb},y.ccc=${y.ccc}\\n\""
   ]
  },
  {
   "cell_type": "code",
   "execution_count": 60,
   "metadata": {},
   "outputs": [
    {
     "name": "stdout",
     "output_type": "stream",
     "text": [
      "x=418,y.aaa=1509,y.bbb=1.468565926430586,y.ccc=Foo_01\n",
      "\n",
      "x=419,y.aaa=2115,y.bbb=3.1622723055489184,y.ccc=Foo_02\n",
      "\n",
      "x=469,y.aaa=1175,y.bbb=3.8962521605590066,y.ccc=Foo_03\n",
      "\n"
     ]
    }
   ],
   "source": [
    "g.reset(seed=99999)\n",
    "print(format(next(g)))\n",
    "print(format(next(g)))\n",
    "print(format(next(g)))"
   ]
  },
  {
   "cell_type": "markdown",
   "metadata": {
    "collapsed": true
   },
   "source": [
    "## Working with ItemCollections"
   ]
  },
  {
   "cell_type": "markdown",
   "metadata": {},
   "source": [
    "The `generate()` method of a `CustomGenerator` returns an iterable of type `ItemCollection`."
   ]
  },
  {
   "cell_type": "code",
   "execution_count": 61,
   "metadata": {
    "collapsed": true
   },
   "outputs": [],
   "source": [
    "class FoobarGenerator(CustomGenerator):\n",
    "    a = Integer(lo=1000, hi=3000)\n",
    "    b = Sequential(prefix=\"Foo_\", digits=2)\n",
    "    c = Float(lo=1.0, hi=4.0)"
   ]
  },
  {
   "cell_type": "code",
   "execution_count": 62,
   "metadata": {
    "collapsed": true
   },
   "outputs": [],
   "source": [
    "g = FoobarGenerator()"
   ]
  },
  {
   "cell_type": "code",
   "execution_count": 63,
   "metadata": {},
   "outputs": [
    {
     "data": {
      "text/plain": [
       "<ItemCollection of length 5>"
      ]
     },
     "execution_count": 63,
     "metadata": {},
     "output_type": "execute_result"
    }
   ],
   "source": [
    "item_collection = g.generate(5, seed=99999)\n",
    "item_collection"
   ]
  },
  {
   "cell_type": "markdown",
   "metadata": {},
   "source": [
    "We can iterate over this as we would with a regular list."
   ]
  },
  {
   "cell_type": "code",
   "execution_count": 64,
   "metadata": {},
   "outputs": [
    {
     "name": "stdout",
     "output_type": "stream",
     "text": [
      "Foobar(a=1296, b='Foo_01', c=3.1777055325688615)\n",
      "Foobar(a=2968, b='Foo_02', c=1.9893550067332435)\n",
      "Foobar(a=1311, b='Foo_03', c=1.1843384039785083)\n",
      "Foobar(a=2104, b='Foo_04', c=2.0910872612212987)\n",
      "Foobar(a=2733, b='Foo_05', c=1.2169021764955503)\n"
     ]
    }
   ],
   "source": [
    "for x in item_collection:\n",
    "    print(x)"
   ]
  },
  {
   "cell_type": "markdown",
   "metadata": {},
   "source": [
    "In addition, we can also export it as a pandas DataFrame."
   ]
  },
  {
   "cell_type": "code",
   "execution_count": 65,
   "metadata": {},
   "outputs": [
    {
     "data": {
      "text/html": [
       "<div>\n",
       "<style>\n",
       "    .dataframe thead tr:only-child th {\n",
       "        text-align: right;\n",
       "    }\n",
       "\n",
       "    .dataframe thead th {\n",
       "        text-align: left;\n",
       "    }\n",
       "\n",
       "    .dataframe tbody tr th {\n",
       "        vertical-align: top;\n",
       "    }\n",
       "</style>\n",
       "<table border=\"1\" class=\"dataframe\">\n",
       "  <thead>\n",
       "    <tr style=\"text-align: right;\">\n",
       "      <th></th>\n",
       "      <th>a</th>\n",
       "      <th>b</th>\n",
       "      <th>c</th>\n",
       "    </tr>\n",
       "  </thead>\n",
       "  <tbody>\n",
       "    <tr>\n",
       "      <th>0</th>\n",
       "      <td>1296</td>\n",
       "      <td>Foo_01</td>\n",
       "      <td>3.177706</td>\n",
       "    </tr>\n",
       "    <tr>\n",
       "      <th>1</th>\n",
       "      <td>2968</td>\n",
       "      <td>Foo_02</td>\n",
       "      <td>1.989355</td>\n",
       "    </tr>\n",
       "    <tr>\n",
       "      <th>2</th>\n",
       "      <td>1311</td>\n",
       "      <td>Foo_03</td>\n",
       "      <td>1.184338</td>\n",
       "    </tr>\n",
       "    <tr>\n",
       "      <th>3</th>\n",
       "      <td>2104</td>\n",
       "      <td>Foo_04</td>\n",
       "      <td>2.091087</td>\n",
       "    </tr>\n",
       "    <tr>\n",
       "      <th>4</th>\n",
       "      <td>2733</td>\n",
       "      <td>Foo_05</td>\n",
       "      <td>1.216902</td>\n",
       "    </tr>\n",
       "  </tbody>\n",
       "</table>\n",
       "</div>"
      ],
      "text/plain": [
       "      a       b         c\n",
       "0  1296  Foo_01  3.177706\n",
       "1  2968  Foo_02  1.989355\n",
       "2  1311  Foo_03  1.184338\n",
       "3  2104  Foo_04  2.091087\n",
       "4  2733  Foo_05  1.216902"
      ]
     },
     "execution_count": 65,
     "metadata": {},
     "output_type": "execute_result"
    }
   ],
   "source": [
    "item_collection.to_df()"
   ]
  },
  {
   "cell_type": "code",
   "execution_count": null,
   "metadata": {
    "collapsed": true
   },
   "outputs": [],
   "source": []
  }
 ],
 "metadata": {
  "kernelspec": {
   "display_name": "Python 3",
   "language": "python",
   "name": "python3"
  },
  "language_info": {
   "codemirror_mode": {
    "name": "ipython",
    "version": 3
   },
   "file_extension": ".py",
   "mimetype": "text/x-python",
   "name": "python",
   "nbconvert_exporter": "python",
   "pygments_lexer": "ipython3",
   "version": "3.6.2"
  }
 },
 "nbformat": 4,
 "nbformat_minor": 2
}
