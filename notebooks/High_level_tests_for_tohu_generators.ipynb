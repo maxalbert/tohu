{
 "cells": [
  {
   "cell_type": "code",
   "execution_count": 1,
   "metadata": {},
   "outputs": [],
   "source": [
    "import tohu\n",
    "from tohu.generators import *\n",
    "from utils import print_generated_sequence"
   ]
  },
  {
   "cell_type": "code",
   "execution_count": 2,
   "metadata": {},
   "outputs": [
    {
     "data": {
      "text/plain": [
       "'v0.5.1+57.ga2adb65.dirty'"
      ]
     },
     "execution_count": 2,
     "metadata": {},
     "output_type": "execute_result"
    }
   ],
   "source": [
    "# NBVAL_IGNORE_OUTPUT\n",
    "tohu.__version__"
   ]
  },
  {
   "cell_type": "markdown",
   "metadata": {},
   "source": [
    "This notebook contains high-level tests for `tohu`'s \"standard\" generators."
   ]
  },
  {
   "cell_type": "markdown",
   "metadata": {},
   "source": [
    "## Class `Integer`"
   ]
  },
  {
   "cell_type": "markdown",
   "metadata": {},
   "source": [
    "Generates random integers in the range [`lo`, `hi`]."
   ]
  },
  {
   "cell_type": "code",
   "execution_count": 3,
   "metadata": {},
   "outputs": [],
   "source": [
    "g = Integer(low=100, high=200)"
   ]
  },
  {
   "cell_type": "code",
   "execution_count": 4,
   "metadata": {},
   "outputs": [
    {
     "name": "stdout",
     "output_type": "stream",
     "text": [
      "Generated sequence: 153, 193, 101, 138, 147, 124, 134, 172, 155, 120, 147, 115, 155, 133, 171\n",
      "Generated sequence: 115, 120, 196, 109, 116, 124, 136, 124, 187, 199, 176, 174, 138, 180, 170\n"
     ]
    }
   ],
   "source": [
    "g.reset(seed=12345); print_generated_sequence(g, num=15)\n",
    "g.reset(seed=9999); print_generated_sequence(g, num=15)"
   ]
  },
  {
   "cell_type": "code",
   "execution_count": 5,
   "metadata": {},
   "outputs": [],
   "source": [
    "some_integers = g.generate(5, seed=99999)"
   ]
  },
  {
   "cell_type": "code",
   "execution_count": 6,
   "metadata": {},
   "outputs": [
    {
     "name": "stdout",
     "output_type": "stream",
     "text": [
      "115\n",
      "139\n",
      "164\n",
      "183\n",
      "194\n"
     ]
    }
   ],
   "source": [
    "for x in some_integers:\n",
    "    print(x)"
   ]
  },
  {
   "cell_type": "markdown",
   "metadata": {},
   "source": [
    "The default distribution is \"uniform\", but we can use any(?) of the distributions [supported](https://docs.scipy.org/doc/numpy/reference/routines.random.html) by numpy."
   ]
  },
  {
   "cell_type": "code",
   "execution_count": 7,
   "metadata": {},
   "outputs": [],
   "source": [
    "#g = Integer(low=100, high=200, distribution=None)"
   ]
  },
  {
   "cell_type": "markdown",
   "metadata": {},
   "source": [
    "## Class `Float`"
   ]
  },
  {
   "cell_type": "markdown",
   "metadata": {},
   "source": [
    "Generates random floating point numbers in the range [`lo`, `hi`]."
   ]
  },
  {
   "cell_type": "code",
   "execution_count": 8,
   "metadata": {},
   "outputs": [],
   "source": [
    "g = Float(low=2.71828, high=3.14159)"
   ]
  },
  {
   "cell_type": "code",
   "execution_count": 9,
   "metadata": {},
   "outputs": [
    {
     "name": "stdout",
     "output_type": "stream",
     "text": [
      "Generated sequence: 2.8946393582471686, 2.7225847111228716, 3.0675981674322017, 2.8446972371045396\n",
      "Generated sequence: 3.0716413078479454, 2.785006097591815, 2.750284761944705, 3.0530348312992466\n"
     ]
    }
   ],
   "source": [
    "g.reset(seed=12345); print_generated_sequence(g, num=4)\n",
    "g.reset(seed=9999); print_generated_sequence(g, num=4)"
   ]
  },
  {
   "cell_type": "markdown",
   "metadata": {},
   "source": [
    "## Class `NumpyRandomGenerator`"
   ]
  },
  {
   "cell_type": "markdown",
   "metadata": {},
   "source": [
    "Generates random numbers using one of the random number generators [supported](https://docs.scipy.org/doc/numpy/reference/routines.random.html) by numpy."
   ]
  },
  {
   "cell_type": "code",
   "execution_count": 10,
   "metadata": {},
   "outputs": [],
   "source": [
    "g1 = NumpyRandomGenerator(method=\"normal\", loc=3.0, scale=5.0)\n",
    "g2 = NumpyRandomGenerator(method=\"poisson\", lam=30)\n",
    "g3 = NumpyRandomGenerator(method=\"exponential\", scale=0.3)"
   ]
  },
  {
   "cell_type": "code",
   "execution_count": 11,
   "metadata": {},
   "outputs": [
    {
     "name": "stdout",
     "output_type": "stream",
     "text": [
      "Generated sequence: 1.9764617025764353, 5.394716690287741, 0.40280642471630923, 0.22134847826254989\n",
      "Generated sequence: 40, 24, 31, 34, 27, 32, 29, 29, 35, 38, 30, 32, 38, 36, 36\n",
      "Generated sequence: 0.7961371899305246, 0.11410397056571128, 0.060972430042086474, 0.06865806254932436\n"
     ]
    }
   ],
   "source": [
    "g1.reset(seed=12345); print_generated_sequence(g1, num=4)\n",
    "g2.reset(seed=12345); print_generated_sequence(g2, num=15)\n",
    "g3.reset(seed=12345); print_generated_sequence(g3, num=4)"
   ]
  },
  {
   "cell_type": "markdown",
   "metadata": {},
   "source": [
    "## Class `FakerGenerator`"
   ]
  },
  {
   "cell_type": "markdown",
   "metadata": {},
   "source": [
    "It is also possible to use any generator provided by the [faker](http://faker.readthedocs.io/) library."
   ]
  },
  {
   "cell_type": "code",
   "execution_count": 12,
   "metadata": {},
   "outputs": [],
   "source": [
    "g1 = FakerGenerator(method=\"name\")\n",
    "g2 = FakerGenerator(method=\"name\", locale='hi_IN')\n",
    "g3 = FakerGenerator(method=\"phone_number\")\n",
    "g4 = FakerGenerator(method=\"job\")"
   ]
  },
  {
   "cell_type": "code",
   "execution_count": 13,
   "metadata": {},
   "outputs": [
    {
     "name": "stdout",
     "output_type": "stream",
     "text": [
      "Generated sequence: Adam Bryan, Jacob Lee, Candice Martinez, Justin Thompson\n",
      "Generated sequence: आदित्य ढींगरा, ललित दीक्षित, कुण्डा, कैलाश, ईश कुण्डा\n",
      "Generated sequence: (045)349-6251x648, 298-251-8698x22313, 1-507-508-6002, 1-241-619-2638x9503\n",
      "Generated sequence: Pension scheme manager, Administrator, Hydrogeologist, Merchandiser, retail\n"
     ]
    }
   ],
   "source": [
    "g1.reset(seed=12345); print_generated_sequence(g1, num=4)\n",
    "g2.reset(seed=12345); print_generated_sequence(g2, num=4)\n",
    "g3.reset(seed=12345); print_generated_sequence(g3, num=4)\n",
    "g4.reset(seed=12345); print_generated_sequence(g4, num=4)"
   ]
  },
  {
   "cell_type": "markdown",
   "metadata": {},
   "source": [
    "## Class Constant"
   ]
  },
  {
   "cell_type": "markdown",
   "metadata": {},
   "source": [
    "Generates a sequence repeating the same element indefinitely."
   ]
  },
  {
   "cell_type": "code",
   "execution_count": 14,
   "metadata": {},
   "outputs": [
    {
     "name": "stdout",
     "output_type": "stream",
     "text": [
      "Generated sequence: Foobar, Foobar, Foobar, Foobar, Foobar, Foobar, Foobar, Foobar, Foobar, Foobar\n",
      "Generated sequence: 42, 42, 42, 42, 42, 42, 42, 42, 42, 42, 42, 42, 42, 42, 42, 42, 42, 42, 42, 42\n"
     ]
    }
   ],
   "source": [
    "g = Constant(\"Foobar\"); print_generated_sequence(g, num=10)\n",
    "g = Constant(42); print_generated_sequence(g, num=20)"
   ]
  },
  {
   "cell_type": "markdown",
   "metadata": {},
   "source": [
    "## Class `Sequential`"
   ]
  },
  {
   "cell_type": "markdown",
   "metadata": {},
   "source": [
    "Generates a sequence of sequentially numbered strings with a given prefix."
   ]
  },
  {
   "cell_type": "code",
   "execution_count": 15,
   "metadata": {},
   "outputs": [],
   "source": [
    "g = Sequential(prefix='Foo_', digits=3)"
   ]
  },
  {
   "cell_type": "markdown",
   "metadata": {},
   "source": [
    "Calling `reset()` on the generator makes the numbering start from 1 again."
   ]
  },
  {
   "cell_type": "code",
   "execution_count": 16,
   "metadata": {},
   "outputs": [
    {
     "name": "stdout",
     "output_type": "stream",
     "text": [
      "Generated sequence: Foo_001, Foo_002, Foo_003, Foo_004, Foo_005\n",
      "Generated sequence: Foo_006, Foo_007, Foo_008, Foo_009, Foo_010\n",
      "-----------------------------\n",
      "Generated sequence: Foo_001, Foo_002, Foo_003, Foo_004, Foo_005\n"
     ]
    }
   ],
   "source": [
    "g.reset()\n",
    "print_generated_sequence(g, num=5)\n",
    "print_generated_sequence(g, num=5)\n",
    "print(\"-----------------------------\")\n",
    "g.reset()\n",
    "print_generated_sequence(g, num=5)"
   ]
  },
  {
   "cell_type": "markdown",
   "metadata": {},
   "source": [
    "**Note**: the method `Sequential.reset()` supports the `seed` argument for consistency with other generators, but its value is ignored - the generator is simply reset to its initial value. This is illustrated here:"
   ]
  },
  {
   "cell_type": "code",
   "execution_count": 17,
   "metadata": {},
   "outputs": [
    {
     "name": "stdout",
     "output_type": "stream",
     "text": [
      "Generated sequence: Foo_001, Foo_002, Foo_003, Foo_004, Foo_005\n",
      "Generated sequence: Foo_001, Foo_002, Foo_003, Foo_004, Foo_005\n"
     ]
    }
   ],
   "source": [
    "g.reset(seed=12345); print_generated_sequence(g, num=5)\n",
    "g.reset(seed=9999); print_generated_sequence(g, num=5)"
   ]
  },
  {
   "cell_type": "markdown",
   "metadata": {},
   "source": [
    "If a new `Sequential` generator is created from an existing one via the `_spawn()` method then its count will start again from 1."
   ]
  },
  {
   "cell_type": "code",
   "execution_count": 18,
   "metadata": {},
   "outputs": [
    {
     "name": "stdout",
     "output_type": "stream",
     "text": [
      "Generated sequence: Quux_01, Quux_02, Quux_03, Quux_04, Quux_05\n",
      "Generated sequence: Quux_06, Quux_07, Quux_08, Quux_09, Quux_10\n",
      "Generated sequence: Quux_01, Quux_02, Quux_03, Quux_04, Quux_05\n"
     ]
    }
   ],
   "source": [
    "g1 = Sequential(prefix=\"Quux_\", digits=2)\n",
    "g1.reset(seed=12345)\n",
    "print_generated_sequence(g1, num=5)\n",
    "\n",
    "g2 = g1._spawn()\n",
    "print_generated_sequence(g1, num=5)\n",
    "print_generated_sequence(g2, num=5)"
   ]
  },
  {
   "cell_type": "markdown",
   "metadata": {},
   "source": [
    "## Class `SelectOne`"
   ]
  },
  {
   "cell_type": "code",
   "execution_count": 19,
   "metadata": {},
   "outputs": [],
   "source": [
    "g = SelectOne(values=['foobar', 42, 'quux', True, 1.2345])"
   ]
  },
  {
   "cell_type": "code",
   "execution_count": 20,
   "metadata": {},
   "outputs": [
    {
     "name": "stdout",
     "output_type": "stream",
     "text": [
      "Generated sequence: True, foobar, quux, quux, 42, quux, 1.2345, True, 42, quux, foobar, True, quux, 1.2345, 42\n",
      "Generated sequence: foobar, 42, foobar, 42, 42, quux, 42, 1.2345, 1.2345, quux, 1.2345, 42, foobar, 1.2345, 1.2345\n"
     ]
    }
   ],
   "source": [
    "g.reset(seed=12345); print_generated_sequence(g, num=15)\n",
    "g.reset(seed=9999); print_generated_sequence(g, num=15)"
   ]
  },
  {
   "cell_type": "markdown",
   "metadata": {},
   "source": [
    "## Class `SelectMultiple`"
   ]
  },
  {
   "cell_type": "code",
   "execution_count": 21,
   "metadata": {},
   "outputs": [],
   "source": [
    "g = SelectMultiple(values=['foobar', 42, 'quux', True, 1.2345], size=3)"
   ]
  },
  {
   "cell_type": "code",
   "execution_count": 22,
   "metadata": {},
   "outputs": [
    {
     "name": "stdout",
     "output_type": "stream",
     "text": [
      "Generated sequence: (True, 1.2345, True), (42, True, 'foobar'), (42, True, 'quux'), (1.2345, 42, 'foobar')\n",
      "Generated sequence: (42, 'quux', 1.2345), (True, 42, 1.2345), ('quux', 1.2345, True), ('foobar', 1.2345, 1.2345)\n"
     ]
    }
   ],
   "source": [
    "g.reset(seed=12345); print_generated_sequence(g, num=4)\n",
    "g.reset(seed=99999); print_generated_sequence(g, num=4)"
   ]
  },
  {
   "cell_type": "markdown",
   "metadata": {},
   "source": [
    "It is possible to pass a random generator for the argument `n`. This produces tuples of _varying_ length, where the length of each tuple is determined by the values produced by this generator."
   ]
  },
  {
   "cell_type": "code",
   "execution_count": 23,
   "metadata": {},
   "outputs": [],
   "source": [
    "rand_nums = Integer(low=2, high=5)"
   ]
  },
  {
   "cell_type": "code",
   "execution_count": 24,
   "metadata": {},
   "outputs": [],
   "source": [
    "g = SelectMultiple(values=['a', 'b', 'c', 'd', 'e'], size=rand_nums)"
   ]
  },
  {
   "cell_type": "code",
   "execution_count": 25,
   "metadata": {},
   "outputs": [
    {
     "name": "stdout",
     "output_type": "stream",
     "text": [
      "Generated sequence:\n",
      "('b', 'c', 'c', 'b', 'd')\n",
      "('c', 'b', 'd', 'b')\n",
      "('a', 'a', 'e', 'e')\n",
      "('a', 'c', 'a')\n",
      "('c', 'e', 'b', 'd')\n",
      "('c', 'c')\n",
      "('d', 'c', 'd', 'a')\n",
      "('c', 'a', 'b', 'c', 'e')\n",
      "('c', 'd', 'e', 'e')\n",
      "('c', 'a', 'e', 'e', 'c')\n"
     ]
    }
   ],
   "source": [
    "g.reset(seed=11111); print_generated_sequence(g, num=10, sep='\\n')"
   ]
  },
  {
   "cell_type": "markdown",
   "metadata": {},
   "source": [
    "## Class `CharString`"
   ]
  },
  {
   "cell_type": "code",
   "execution_count": 26,
   "metadata": {},
   "outputs": [],
   "source": [
    "chars = \"abcdefghijklmnopqrstuvwxyzABCDEFGHIJKLMNOPQRSTUVWXYZ0123456789,.?!\""
   ]
  },
  {
   "cell_type": "code",
   "execution_count": 27,
   "metadata": {},
   "outputs": [
    {
     "name": "stdout",
     "output_type": "stream",
     "text": [
      "Generated sequence: 1bMVyI3uVp3HwxT, l0?vsAjyRPd6Rd!, 1aauwKm1nxWDQfD, p.BxG3qfvMbtDSR, uXPbgh4kXwbVB!p\n",
      "Generated sequence: pujqyKyMChk84iL, AxKuZa,3ExHdWdo, 0OGq9xgbQ?6N9wA, 2zKKBvLLjZsoek5, 9oKsBeUAj3gnULf\n"
     ]
    }
   ],
   "source": [
    "g = CharString(length=15, chars=chars)\n",
    "g.reset(seed=12345); print_generated_sequence(g, num=5)\n",
    "g.reset(seed=9999); print_generated_sequence(g, num=5)"
   ]
  },
  {
   "cell_type": "markdown",
   "metadata": {},
   "source": [
    "## Class `DigitString`"
   ]
  },
  {
   "cell_type": "code",
   "execution_count": 28,
   "metadata": {},
   "outputs": [
    {
     "name": "stdout",
     "output_type": "stream",
     "text": [
      "Generated sequence: 604534962516482, 982518698223135, 507508600292416, 192638950317382, 496820240235852\n",
      "Generated sequence: 121234399483089, 197719432949260, 798639929408608, 165427208059874, 723638443244916\n"
     ]
    }
   ],
   "source": [
    "g = DigitString(length=15)\n",
    "g.reset(seed=12345); print_generated_sequence(g, num=5)\n",
    "g.reset(seed=9999); print_generated_sequence(g, num=5)"
   ]
  },
  {
   "cell_type": "markdown",
   "metadata": {},
   "source": [
    "## Class `HashDigest`"
   ]
  },
  {
   "cell_type": "code",
   "execution_count": 29,
   "metadata": {},
   "outputs": [
    {
     "name": "stdout",
     "output_type": "stream",
     "text": [
      "Generated sequence: D09B68D5, B3D855B2, D54626AA, 0EA0D005, 593D35C7, A173F658, D4159047, BA5CA011, E2C50B63\n",
      "Generated sequence: 35246969, 712FE296, 595C0FD7, 580C03DA, 84F510AE, 9F56D699, 65992C43, 12EF3946, 1B62D13B\n"
     ]
    }
   ],
   "source": [
    "g = HashDigest(length=8)\n",
    "g.reset(seed=12345); print_generated_sequence(g, num=9)\n",
    "g.reset(seed=9999); print_generated_sequence(g, num=9)"
   ]
  },
  {
   "cell_type": "code",
   "execution_count": 30,
   "metadata": {},
   "outputs": [
    {
     "name": "stdout",
     "output_type": "stream",
     "text": [
      "Generated sequence: D09B68D5B3D855B2D546, 26AA0EA0D005593D35C7, A173F658D4159047BA5C, A011E2C50B63F10FAD6B\n",
      "Generated sequence: 35246969712FE296595C, 0FD7580C03DA84F510AE, 9F56D69965992C4312EF, 39461B62D13B91A9474C\n"
     ]
    }
   ],
   "source": [
    "g = HashDigest(length=20)\n",
    "g.reset(seed=12345); print_generated_sequence(g, num=4)\n",
    "g.reset(seed=9999); print_generated_sequence(g, num=4)"
   ]
  },
  {
   "cell_type": "markdown",
   "metadata": {},
   "source": [
    "## Class `Geolocation`"
   ]
  },
  {
   "cell_type": "code",
   "execution_count": 31,
   "metadata": {},
   "outputs": [
    {
     "name": "stdout",
     "output_type": "stream",
     "text": [
      "Generated sequence:\n",
      "(-30.016845883677178, -15.008422941838589)\n",
      "(-176.3390989954554, -88.1695494977277)\n",
      "(117.07434333134756, 58.53717166567378)\n",
      "(-72.48965212814659, -36.244826064073294)\n",
      "(-47.37179178414874, -23.68589589207437)\n"
     ]
    }
   ],
   "source": [
    "g = GeolocationPair()\n",
    "g.reset(seed=12345); print_generated_sequence(g, num=5, sep='\\n')"
   ]
  },
  {
   "cell_type": "markdown",
   "metadata": {},
   "source": [
    "## Class `TimestampNEW`"
   ]
  },
  {
   "cell_type": "code",
   "execution_count": 32,
   "metadata": {},
   "outputs": [],
   "source": [
    "from tohu.generators import TimestampNEW"
   ]
  },
  {
   "cell_type": "code",
   "execution_count": 33,
   "metadata": {},
   "outputs": [],
   "source": [
    "g = TimestampNEW(start='2016-02-14', end='2016-02-18')"
   ]
  },
  {
   "cell_type": "code",
   "execution_count": 34,
   "metadata": {},
   "outputs": [
    {
     "name": "stdout",
     "output_type": "stream",
     "text": [
      "Generated sequence:\n",
      "2016-02-16 12:40:28\n",
      "2016-02-18 10:42:18\n",
      "2016-02-14 01:28:51\n",
      "2016-02-18 23:26:47\n",
      "2016-02-18 20:55:23\n"
     ]
    }
   ],
   "source": [
    "g.reset(seed=12345); print_generated_sequence(g, num=5, sep='\\n')"
   ]
  },
  {
   "cell_type": "code",
   "execution_count": 35,
   "metadata": {},
   "outputs": [],
   "source": [
    "g = TimestampNEW(start='1998-03-01 00:02:00', end='1998-03-01 00:02:15')"
   ]
  },
  {
   "cell_type": "code",
   "execution_count": 36,
   "metadata": {},
   "outputs": [
    {
     "name": "stdout",
     "output_type": "stream",
     "text": [
      "Generated sequence:\n",
      "1998-03-01 00:02:03\n",
      "1998-03-01 00:02:09\n",
      "1998-03-01 00:02:07\n",
      "1998-03-01 00:02:11\n",
      "1998-03-01 00:02:13\n",
      "1998-03-01 00:02:06\n",
      "1998-03-01 00:02:08\n",
      "1998-03-01 00:02:12\n",
      "1998-03-01 00:02:06\n",
      "1998-03-01 00:02:01\n"
     ]
    }
   ],
   "source": [
    "g.reset(seed=99999); print_generated_sequence(g, num=10, sep='\\n')"
   ]
  },
  {
   "cell_type": "markdown",
   "metadata": {},
   "source": [
    "Note that the generated items are `datetime` objects (even though they appear as strings when printed above)."
   ]
  },
  {
   "cell_type": "code",
   "execution_count": 37,
   "metadata": {},
   "outputs": [
    {
     "data": {
      "text/plain": [
       "datetime.datetime"
      ]
     },
     "execution_count": 37,
     "metadata": {},
     "output_type": "execute_result"
    }
   ],
   "source": [
    "type(next(g))"
   ]
  },
  {
   "cell_type": "markdown",
   "metadata": {},
   "source": [
    "## Using tohu generators as iterators"
   ]
  },
  {
   "cell_type": "markdown",
   "metadata": {},
   "source": [
    "Each `tohu` generator can also be used as a Python iterator producing an (infinite) series of elements."
   ]
  },
  {
   "cell_type": "code",
   "execution_count": 38,
   "metadata": {},
   "outputs": [
    {
     "name": "stdout",
     "output_type": "stream",
     "text": [
      "161 258 356 432 478 221 281 311 203 229 307 470 410 410 367 203 130 455 270 370 296 "
     ]
    }
   ],
   "source": [
    "int_generator = Integer(low=100, high=500, seed=99999)\n",
    "\n",
    "for i, x in enumerate(int_generator):\n",
    "    if i > 20:\n",
    "        break\n",
    "    print(x, end=\" \")"
   ]
  },
  {
   "cell_type": "code",
   "execution_count": null,
   "metadata": {},
   "outputs": [],
   "source": []
  }
 ],
 "metadata": {
  "kernelspec": {
   "display_name": "Python 3",
   "language": "python",
   "name": "python3"
  },
  "language_info": {
   "codemirror_mode": {
    "name": "ipython",
    "version": 3
   },
   "file_extension": ".py",
   "mimetype": "text/x-python",
   "name": "python",
   "nbconvert_exporter": "python",
   "pygments_lexer": "ipython3",
   "version": "3.6.5"
  }
 },
 "nbformat": 4,
 "nbformat_minor": 2
}
