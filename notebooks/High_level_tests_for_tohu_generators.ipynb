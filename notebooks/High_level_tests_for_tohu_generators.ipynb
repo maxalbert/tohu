{
 "cells": [
  {
   "cell_type": "code",
   "execution_count": 1,
   "metadata": {},
   "outputs": [],
   "source": [
    "import tohu\n",
    "from tohu import *\n",
    "from utils import print_generated_sequence"
   ]
  },
  {
   "cell_type": "code",
   "execution_count": 2,
   "metadata": {},
   "outputs": [
    {
     "data": {
      "text/plain": [
       "'v0.5.0+17.g2ac1895.dirty'"
      ]
     },
     "execution_count": 2,
     "metadata": {},
     "output_type": "execute_result"
    }
   ],
   "source": [
    "# NBVAL_IGNORE_OUTPUT\n",
    "tohu.__version__"
   ]
  },
  {
   "cell_type": "markdown",
   "metadata": {},
   "source": [
    "This notebook contains high-level tests for `tohu`'s \"standard\" generators."
   ]
  },
  {
   "cell_type": "markdown",
   "metadata": {},
   "source": [
    "## Class `Integer`"
   ]
  },
  {
   "cell_type": "markdown",
   "metadata": {},
   "source": [
    "Generates random integers in the range [`lo`, `hi`]."
   ]
  },
  {
   "cell_type": "code",
   "execution_count": 3,
   "metadata": {},
   "outputs": [],
   "source": [
    "g = Integer(low=100, high=200)"
   ]
  },
  {
   "cell_type": "code",
   "execution_count": 4,
   "metadata": {},
   "outputs": [
    {
     "name": "stdout",
     "output_type": "stream",
     "text": [
      "Generated sequence: 153, 193, 101, 138, 147, 124, 134, 172, 155, 120, 147, 115, 155, 133, 171\n",
      "Generated sequence: 115, 120, 196, 109, 116, 124, 136, 124, 187, 199, 176, 174, 138, 180, 170\n"
     ]
    }
   ],
   "source": [
    "g.reset(seed=12345); print_generated_sequence(g, num=15)\n",
    "g.reset(seed=9999); print_generated_sequence(g, num=15)"
   ]
  },
  {
   "cell_type": "code",
   "execution_count": 5,
   "metadata": {},
   "outputs": [],
   "source": [
    "some_integers = g.generate(5, seed=99999)"
   ]
  },
  {
   "cell_type": "code",
   "execution_count": 6,
   "metadata": {},
   "outputs": [
    {
     "name": "stdout",
     "output_type": "stream",
     "text": [
      "115\n",
      "139\n",
      "164\n",
      "183\n",
      "194\n"
     ]
    }
   ],
   "source": [
    "for x in some_integers:\n",
    "    print(x)"
   ]
  },
  {
   "cell_type": "markdown",
   "metadata": {},
   "source": [
    "The default distribution is \"uniform\", but we can use any(?) of the distributions [supported](https://docs.scipy.org/doc/numpy/reference/routines.random.html) by numpy."
   ]
  },
  {
   "cell_type": "code",
   "execution_count": 7,
   "metadata": {},
   "outputs": [],
   "source": [
    "#g = Integer(low=100, high=200, distribution=None)"
   ]
  },
  {
   "cell_type": "markdown",
   "metadata": {},
   "source": [
    "## Class `Float`"
   ]
  },
  {
   "cell_type": "markdown",
   "metadata": {},
   "source": [
    "Generates random floating point numbers in the range [`lo`, `hi`]."
   ]
  },
  {
   "cell_type": "code",
   "execution_count": 8,
   "metadata": {},
   "outputs": [],
   "source": [
    "g = Float(low=2.71828, high=3.14159)"
   ]
  },
  {
   "cell_type": "code",
   "execution_count": 9,
   "metadata": {},
   "outputs": [
    {
     "name": "stdout",
     "output_type": "stream",
     "text": [
      "Generated sequence: 2.8946393582471686, 2.7225847111228716, 3.0675981674322017, 2.8446972371045396\n",
      "Generated sequence: 3.0716413078479454, 2.785006097591815, 2.750284761944705, 3.0530348312992466\n"
     ]
    }
   ],
   "source": [
    "g.reset(seed=12345); print_generated_sequence(g, num=4)\n",
    "g.reset(seed=9999); print_generated_sequence(g, num=4)"
   ]
  },
  {
   "cell_type": "markdown",
   "metadata": {},
   "source": [
    "## Class `NumpyRandomGenerator`"
   ]
  },
  {
   "cell_type": "markdown",
   "metadata": {},
   "source": [
    "Generates random numbers using one of the random number generators [supported](https://docs.scipy.org/doc/numpy/reference/routines.random.html) by numpy."
   ]
  },
  {
   "cell_type": "code",
   "execution_count": 10,
   "metadata": {},
   "outputs": [],
   "source": [
    "g1 = NumpyRandomGenerator(method=\"normal\", loc=3.0, scale=5.0)\n",
    "g2 = NumpyRandomGenerator(method=\"poisson\", lam=30)\n",
    "g3 = NumpyRandomGenerator(method=\"exponential\", scale=0.3)"
   ]
  },
  {
   "cell_type": "code",
   "execution_count": 11,
   "metadata": {},
   "outputs": [
    {
     "name": "stdout",
     "output_type": "stream",
     "text": [
      "Generated sequence: 1.9764617025764353, 5.394716690287741, 0.40280642471630923, 0.22134847826254989\n",
      "Generated sequence: 40, 24, 31, 34, 27, 32, 29, 29, 35, 38, 30, 32, 38, 36, 36\n",
      "Generated sequence: 0.7961371899305246, 0.11410397056571128, 0.060972430042086474, 0.06865806254932436\n"
     ]
    }
   ],
   "source": [
    "g1.reset(seed=12345); print_generated_sequence(g1, num=4)\n",
    "g2.reset(seed=12345); print_generated_sequence(g2, num=15)\n",
    "g3.reset(seed=12345); print_generated_sequence(g3, num=4)"
   ]
  },
  {
   "cell_type": "markdown",
   "metadata": {},
   "source": [
    "## Class `FakerGenerator`"
   ]
  },
  {
   "cell_type": "markdown",
   "metadata": {},
   "source": [
    "It is also possible to use any generator provided by the [faker](http://faker.readthedocs.io/) library."
   ]
  },
  {
   "cell_type": "code",
   "execution_count": 12,
   "metadata": {},
   "outputs": [],
   "source": [
    "g1 = FakerGenerator(method=\"name\")\n",
    "g2 = FakerGenerator(method=\"name\", locale='hi_IN')\n",
    "g3 = FakerGenerator(method=\"phone_number\")\n",
    "g4 = FakerGenerator(method=\"job\")"
   ]
  },
  {
   "cell_type": "code",
   "execution_count": 13,
   "metadata": {},
   "outputs": [
    {
     "name": "stdout",
     "output_type": "stream",
     "text": [
      "Generated sequence: Adam Bryan, Jacob Lee, Candice Martinez, Justin Thompson\n",
      "Generated sequence: आदित्य ढींगरा, ललित दीक्षित, कुण्डा, कैलाश, ईश कुण्डा\n",
      "Generated sequence: (045)349-6251x648, 298-251-8698x22313, 1-507-508-6002, 1-241-619-2638x9503\n",
      "Generated sequence: Pension scheme manager, Administrator, Hydrogeologist, Merchandiser, retail\n"
     ]
    }
   ],
   "source": [
    "g1.reset(seed=12345); print_generated_sequence(g1, num=4)\n",
    "g2.reset(seed=12345); print_generated_sequence(g2, num=4)\n",
    "g3.reset(seed=12345); print_generated_sequence(g3, num=4)\n",
    "g4.reset(seed=12345); print_generated_sequence(g4, num=4)"
   ]
  },
  {
   "cell_type": "markdown",
   "metadata": {},
   "source": [
    "## Class Constant"
   ]
  },
  {
   "cell_type": "markdown",
   "metadata": {},
   "source": [
    "Generates a sequence repeating the same element indefinitely."
   ]
  },
  {
   "cell_type": "code",
   "execution_count": 14,
   "metadata": {},
   "outputs": [
    {
     "name": "stdout",
     "output_type": "stream",
     "text": [
      "Generated sequence: Foobar, Foobar, Foobar, Foobar, Foobar, Foobar, Foobar, Foobar, Foobar, Foobar\n",
      "Generated sequence: 42, 42, 42, 42, 42, 42, 42, 42, 42, 42, 42, 42, 42, 42, 42, 42, 42, 42, 42, 42\n"
     ]
    }
   ],
   "source": [
    "g = Constant(\"Foobar\"); print_generated_sequence(g, num=10)\n",
    "g = Constant(42); print_generated_sequence(g, num=20)"
   ]
  },
  {
   "cell_type": "markdown",
   "metadata": {},
   "source": [
    "## Class `Sequential`"
   ]
  },
  {
   "cell_type": "markdown",
   "metadata": {},
   "source": [
    "Generates a sequence of sequentially numbered strings with a given prefix."
   ]
  },
  {
   "cell_type": "code",
   "execution_count": 15,
   "metadata": {},
   "outputs": [],
   "source": [
    "g = Sequential(prefix='Foo_', digits=3)"
   ]
  },
  {
   "cell_type": "markdown",
   "metadata": {},
   "source": [
    "Calling `reset()` on the generator makes the numbering start from 1 again."
   ]
  },
  {
   "cell_type": "code",
   "execution_count": 16,
   "metadata": {},
   "outputs": [
    {
     "name": "stdout",
     "output_type": "stream",
     "text": [
      "Generated sequence: Foo_001, Foo_002, Foo_003, Foo_004, Foo_005\n",
      "Generated sequence: Foo_006, Foo_007, Foo_008, Foo_009, Foo_010\n",
      "-----------------------------\n",
      "Generated sequence: Foo_001, Foo_002, Foo_003, Foo_004, Foo_005\n"
     ]
    }
   ],
   "source": [
    "g.reset()\n",
    "print_generated_sequence(g, num=5)\n",
    "print_generated_sequence(g, num=5)\n",
    "print(\"-----------------------------\")\n",
    "g.reset()\n",
    "print_generated_sequence(g, num=5)"
   ]
  },
  {
   "cell_type": "markdown",
   "metadata": {},
   "source": [
    "**Note**: the method `Sequential.reset()` supports the `seed` argument for consistency with other generators, but its value is ignored - the generator is simply reset to its initial value. This is illustrated here:"
   ]
  },
  {
   "cell_type": "code",
   "execution_count": 17,
   "metadata": {},
   "outputs": [
    {
     "name": "stdout",
     "output_type": "stream",
     "text": [
      "Generated sequence: Foo_001, Foo_002, Foo_003, Foo_004, Foo_005\n",
      "Generated sequence: Foo_001, Foo_002, Foo_003, Foo_004, Foo_005\n"
     ]
    }
   ],
   "source": [
    "g.reset(seed=12345); print_generated_sequence(g, num=5)\n",
    "g.reset(seed=9999); print_generated_sequence(g, num=5)"
   ]
  },
  {
   "cell_type": "markdown",
   "metadata": {},
   "source": [
    "If a new `Sequential` generator is created from an existing one via the `_spawn()` method then its count will start again from 1."
   ]
  },
  {
   "cell_type": "code",
   "execution_count": 18,
   "metadata": {},
   "outputs": [
    {
     "name": "stdout",
     "output_type": "stream",
     "text": [
      "Generated sequence: Quux_01, Quux_02, Quux_03, Quux_04, Quux_05\n",
      "Generated sequence: Quux_06, Quux_07, Quux_08, Quux_09, Quux_10\n",
      "Generated sequence: Quux_01, Quux_02, Quux_03, Quux_04, Quux_05\n"
     ]
    }
   ],
   "source": [
    "g1 = Sequential(prefix=\"Quux_\", digits=2)\n",
    "g1.reset(seed=12345)\n",
    "print_generated_sequence(g1, num=5)\n",
    "\n",
    "g2 = g1._spawn()\n",
    "print_generated_sequence(g1, num=5)\n",
    "print_generated_sequence(g2, num=5)"
   ]
  },
  {
   "cell_type": "markdown",
   "metadata": {},
   "source": [
    "## Class `SelectOne`"
   ]
  },
  {
   "cell_type": "code",
   "execution_count": 19,
   "metadata": {},
   "outputs": [],
   "source": [
    "g = SelectOne(values=['foobar', 42, 'quux', True, 1.2345])"
   ]
  },
  {
   "cell_type": "code",
   "execution_count": 20,
   "metadata": {},
   "outputs": [
    {
     "name": "stdout",
     "output_type": "stream",
     "text": [
      "Generated sequence: True, foobar, quux, quux, 42, quux, 1.2345, True, 42, quux, foobar, True, quux, 1.2345, 42\n",
      "Generated sequence: foobar, 42, foobar, 42, 42, quux, 42, 1.2345, 1.2345, quux, 1.2345, 42, foobar, 1.2345, 1.2345\n"
     ]
    }
   ],
   "source": [
    "g.reset(seed=12345); print_generated_sequence(g, num=15)\n",
    "g.reset(seed=9999); print_generated_sequence(g, num=15)"
   ]
  },
  {
   "cell_type": "markdown",
   "metadata": {},
   "source": [
    "## Class `SelectMultiple`"
   ]
  },
  {
   "cell_type": "code",
   "execution_count": 21,
   "metadata": {},
   "outputs": [],
   "source": [
    "g = SelectMultiple(values=['foobar', 42, 'quux', True, 1.2345], size=3)"
   ]
  },
  {
   "cell_type": "code",
   "execution_count": 22,
   "metadata": {},
   "outputs": [
    {
     "name": "stdout",
     "output_type": "stream",
     "text": [
      "Generated sequence: (True, 1.2345, True), (42, True, 'foobar'), (42, True, 'quux'), (1.2345, 42, 'foobar')\n",
      "Generated sequence: (42, 'quux', 1.2345), (True, 42, 1.2345), ('quux', 1.2345, True), ('foobar', 1.2345, 1.2345)\n"
     ]
    }
   ],
   "source": [
    "g.reset(seed=12345); print_generated_sequence(g, num=4)\n",
    "g.reset(seed=99999); print_generated_sequence(g, num=4)"
   ]
  },
  {
   "cell_type": "markdown",
   "metadata": {},
   "source": [
    "It is possible to pass a random generator for the argument `n`. This produces tuples of _varying_ length, where the length of each tuple is determined by the values produced by this generator."
   ]
  },
  {
   "cell_type": "code",
   "execution_count": 23,
   "metadata": {},
   "outputs": [],
   "source": [
    "rand_nums = Integer(low=2, high=5)"
   ]
  },
  {
   "cell_type": "code",
   "execution_count": 24,
   "metadata": {},
   "outputs": [],
   "source": [
    "g = SelectMultiple(values=['a', 'b', 'c', 'd', 'e'], size=rand_nums)"
   ]
  },
  {
   "cell_type": "code",
   "execution_count": 25,
   "metadata": {},
   "outputs": [
    {
     "name": "stdout",
     "output_type": "stream",
     "text": [
      "Generated sequence:\n",
      "('b', 'c', 'c', 'b', 'd')\n",
      "('c', 'b', 'd', 'b')\n",
      "('a', 'a', 'e', 'e')\n",
      "('a', 'c', 'a')\n",
      "('c', 'e', 'b', 'd')\n",
      "('c', 'c')\n",
      "('d', 'c', 'd', 'a')\n",
      "('c', 'a', 'b', 'c', 'e')\n",
      "('c', 'd', 'e', 'e')\n",
      "('c', 'a', 'e', 'e', 'c')\n"
     ]
    }
   ],
   "source": [
    "g.reset(seed=11111); print_generated_sequence(g, num=10, sep='\\n')"
   ]
  },
  {
   "cell_type": "markdown",
   "metadata": {},
   "source": [
    "## Class `Subsample`"
   ]
  },
  {
   "cell_type": "markdown",
   "metadata": {},
   "source": [
    "The `Subsample` generator can extract a subsample from a given set of values, where each individual element is chosen with a given probability `p`."
   ]
  },
  {
   "cell_type": "code",
   "execution_count": 26,
   "metadata": {},
   "outputs": [],
   "source": [
    "values = list(range(50))"
   ]
  },
  {
   "cell_type": "code",
   "execution_count": 27,
   "metadata": {},
   "outputs": [],
   "source": [
    "g = Subsample(values, p=0.3)"
   ]
  },
  {
   "cell_type": "code",
   "execution_count": 28,
   "metadata": {},
   "outputs": [
    {
     "name": "stdout",
     "output_type": "stream",
     "text": [
      "Generated sequence:\n",
      "[ 2  3 12 13 14 29 30 33 37 43 44 45 49]\n",
      "[ 1  5 13 14 25 26 32 36 44 49]\n",
      "[ 0  1  3  4 11 14 22 27 28 31 36 39 43 44 46]\n",
      "[ 2  3  4  8 11 21 29 30 33 34 36 39 42 43 45 46 48]\n",
      "[ 5 16 19 20 21 22 24 25 31 32 33 34 35 36 37 44]\n",
      "[ 0  5  9 17 21 22 29 35 38 45 49]\n",
      "[ 0  2  4  6  9 13 14 17 18 20 23 25 28 29 31 33 38 41 42 44 45 46 48]\n",
      "[ 0  2  7  9 11 12 21 22 23 29 36 38 47]\n",
      "[ 1  2  4  8  9 10 16 24 26 28 35 36 38 44 46 47]\n",
      "[ 8 11 13 18 19 23 27 33 48]\n"
     ]
    }
   ],
   "source": [
    "g.reset(seed=12345); print_generated_sequence(g, num=10, sep='\\n')"
   ]
  },
  {
   "cell_type": "markdown",
   "metadata": {},
   "source": [
    "## Class `CharString`"
   ]
  },
  {
   "cell_type": "code",
   "execution_count": 29,
   "metadata": {},
   "outputs": [
    {
     "name": "stdout",
     "output_type": "stream",
     "text": [
      "Generated sequence: bG0jQ9PmyDaEFN1, 7welW2WuxdAOOSK, Hx7dVhiOYF2otR7, lVgNqllmNM7opRa, vomxeG7d9Gy4q57\n",
      "Generated sequence: rfDq4wZcjZo5c0D, 7sYliztRTZfr2sK, 0PHz3tPuM7mCtFK, 1jcbYuFHWM2cC6u, mVM17b17JmPT7c4\n"
     ]
    }
   ],
   "source": [
    "g = CharString(length=15)\n",
    "g.reset(seed=12345); print_generated_sequence(g, num=5)\n",
    "g.reset(seed=9999); print_generated_sequence(g, num=5)"
   ]
  },
  {
   "cell_type": "markdown",
   "metadata": {},
   "source": [
    "It is possible to vary the length of generated character strings, and to specify the character set."
   ]
  },
  {
   "cell_type": "code",
   "execution_count": 30,
   "metadata": {},
   "outputs": [],
   "source": [
    "g = CharString(min_length=4, max_length=12, charset=\"ABCDEFGHIJKLMNOPQRSTUVWXYZ\")"
   ]
  },
  {
   "cell_type": "code",
   "execution_count": 31,
   "metadata": {},
   "outputs": [
    {
     "name": "stdout",
     "output_type": "stream",
     "text": [
      "Generated sequence:\n",
      "AQEVUGMOAP\n",
      "PTLCFYY\n",
      "KLBNUU\n",
      "WSQLBXDEUZPH\n",
      "JVFXDT\n"
     ]
    }
   ],
   "source": [
    "g.reset(seed=12345); print_generated_sequence(g, num=5, sep='\\n')"
   ]
  },
  {
   "cell_type": "markdown",
   "metadata": {},
   "source": [
    "## Class `DigitString`"
   ]
  },
  {
   "cell_type": "code",
   "execution_count": 32,
   "metadata": {},
   "outputs": [
    {
     "name": "stdout",
     "output_type": "stream",
     "text": [
      "Generated sequence: 082367077951255, 069850127342194, 223993305335180, 864906629411901, 764575636684616\n",
      "Generated sequence: 417450230742264, 144986459374792, 005789075390830, 553780210864241, 328935916592898\n"
     ]
    }
   ],
   "source": [
    "g = DigitString(length=15)\n",
    "g.reset(seed=12345); print_generated_sequence(g, num=5)\n",
    "g.reset(seed=9999); print_generated_sequence(g, num=5)"
   ]
  },
  {
   "cell_type": "markdown",
   "metadata": {},
   "source": [
    "## Class `HashDigest`"
   ]
  },
  {
   "cell_type": "code",
   "execution_count": 33,
   "metadata": {},
   "outputs": [
    {
     "name": "stdout",
     "output_type": "stream",
     "text": [
      "Generated sequence: 046CE0FF, B25AB1DB, 134F7953, 8556770A, 76B21C80, DD593213, FD8AFBC6, CD8C2CD5, 822BB6E4\n",
      "Generated sequence: 82E8B147, 1E954C92, 89C9A6E9, F410AF1E, A6061AB7, E0431C85, 93746B2D, B52D432D, A1371A57\n"
     ]
    }
   ],
   "source": [
    "g = HashDigest(length=8)\n",
    "g.reset(seed=12345); print_generated_sequence(g, num=9)\n",
    "g.reset(seed=9999); print_generated_sequence(g, num=9)"
   ]
  },
  {
   "cell_type": "code",
   "execution_count": 34,
   "metadata": {},
   "outputs": [
    {
     "name": "stdout",
     "output_type": "stream",
     "text": [
      "Generated sequence: 046CE0FFB25AB1DB134F, 79538556770A76B21C80, DD593213FD8AFBC6CD8C, 2CD5822BB6E4C6E93E7E\n",
      "Generated sequence: 82E8B1471E954C9289C9, A6E9F410AF1EA6061AB7, E0431C8593746B2DB52D, 432DA1371A57CCF6A691\n"
     ]
    }
   ],
   "source": [
    "g = HashDigest(length=20)\n",
    "g.reset(seed=12345); print_generated_sequence(g, num=4)\n",
    "g.reset(seed=9999); print_generated_sequence(g, num=4)"
   ]
  },
  {
   "cell_type": "code",
   "execution_count": 35,
   "metadata": {},
   "outputs": [],
   "source": [
    "g = HashDigest(length=16, as_bytes=True)"
   ]
  },
  {
   "cell_type": "code",
   "execution_count": 36,
   "metadata": {},
   "outputs": [
    {
     "name": "stdout",
     "output_type": "stream",
     "text": [
      "Generated sequence:\n",
      "b'\\x04l\\xe0\\xff\\xb2Z\\xb1\\xdb'\n",
      "b'\\x13OyS\\x85Vw\\n'\n",
      "b'v\\xb2\\x1c\\x80\\xddY2\\x13'\n"
     ]
    }
   ],
   "source": [
    "g.reset(seed=12345); print_generated_sequence(g, num=3, sep='\\n')"
   ]
  },
  {
   "cell_type": "markdown",
   "metadata": {},
   "source": [
    "## Class `Geolocation`"
   ]
  },
  {
   "cell_type": "code",
   "execution_count": 37,
   "metadata": {},
   "outputs": [
    {
     "name": "stdout",
     "output_type": "stream",
     "text": [
      "Generated sequence:\n",
      "(-30.016845883677178, -15.008422941838589)\n",
      "(-176.3390989954554, -88.1695494977277)\n",
      "(117.07434333134756, 58.53717166567378)\n",
      "(-72.48965212814659, -36.244826064073294)\n",
      "(-47.37179178414874, -23.68589589207437)\n"
     ]
    }
   ],
   "source": [
    "g = GeolocationPair()\n",
    "g.reset(seed=12345); print_generated_sequence(g, num=5, sep='\\n')"
   ]
  },
  {
   "cell_type": "markdown",
   "metadata": {},
   "source": [
    "## Class `TimestampNEW`"
   ]
  },
  {
   "cell_type": "code",
   "execution_count": 38,
   "metadata": {},
   "outputs": [],
   "source": [
    "from tohu.generators import TimestampNEW"
   ]
  },
  {
   "cell_type": "code",
   "execution_count": 39,
   "metadata": {},
   "outputs": [],
   "source": [
    "g = TimestampNEW(start='2016-02-14', end='2016-02-18')"
   ]
  },
  {
   "cell_type": "code",
   "execution_count": 40,
   "metadata": {},
   "outputs": [
    {
     "name": "stdout",
     "output_type": "stream",
     "text": [
      "Generated sequence:\n",
      "2016-02-16 12:40:28\n",
      "2016-02-18 10:42:18\n",
      "2016-02-14 01:28:51\n",
      "2016-02-18 23:26:47\n",
      "2016-02-18 20:55:23\n"
     ]
    }
   ],
   "source": [
    "g.reset(seed=12345); print_generated_sequence(g, num=5, sep='\\n')"
   ]
  },
  {
   "cell_type": "code",
   "execution_count": 41,
   "metadata": {},
   "outputs": [],
   "source": [
    "g = TimestampNEW(start='1998-03-01 00:02:00', end='1998-03-01 00:02:15')"
   ]
  },
  {
   "cell_type": "code",
   "execution_count": 42,
   "metadata": {},
   "outputs": [
    {
     "name": "stdout",
     "output_type": "stream",
     "text": [
      "Generated sequence:\n",
      "1998-03-01 00:02:03\n",
      "1998-03-01 00:02:09\n",
      "1998-03-01 00:02:07\n",
      "1998-03-01 00:02:11\n",
      "1998-03-01 00:02:13\n",
      "1998-03-01 00:02:06\n",
      "1998-03-01 00:02:08\n",
      "1998-03-01 00:02:12\n",
      "1998-03-01 00:02:06\n",
      "1998-03-01 00:02:01\n"
     ]
    }
   ],
   "source": [
    "g.reset(seed=99999); print_generated_sequence(g, num=10, sep='\\n')"
   ]
  },
  {
   "cell_type": "markdown",
   "metadata": {},
   "source": [
    "Note that the generated items are `datetime` objects (even though they appear as strings when printed above)."
   ]
  },
  {
   "cell_type": "code",
   "execution_count": 43,
   "metadata": {},
   "outputs": [
    {
     "data": {
      "text/plain": [
       "datetime.datetime"
      ]
     },
     "execution_count": 43,
     "metadata": {},
     "output_type": "execute_result"
    }
   ],
   "source": [
    "type(next(g))"
   ]
  },
  {
   "cell_type": "markdown",
   "metadata": {},
   "source": [
    "## Class `ExtractAttribute`"
   ]
  },
  {
   "cell_type": "code",
   "execution_count": 44,
   "metadata": {},
   "outputs": [],
   "source": [
    "class QuuxGenerator(CustomGenerator):\n",
    "    aaa = Integer(0, 100)\n",
    "    bbb = HashDigest(length=6)"
   ]
  },
  {
   "cell_type": "code",
   "execution_count": 45,
   "metadata": {},
   "outputs": [],
   "source": [
    "g = QuuxGenerator()"
   ]
  },
  {
   "cell_type": "markdown",
   "metadata": {},
   "source": [
    "Using `ExtractAttribute` we can produce \\\"derived\\\" generators which extract the attributes `aaa`, `bbb` from the elements produced by `g`."
   ]
  },
  {
   "cell_type": "code",
   "execution_count": 46,
   "metadata": {},
   "outputs": [],
   "source": [
    "h1 = ExtractAttribute(g, 'aaa')\n",
    "h2 = ExtractAttribute(g, 'bbb')"
   ]
  },
  {
   "cell_type": "code",
   "execution_count": 47,
   "metadata": {},
   "outputs": [
    {
     "name": "stdout",
     "output_type": "stream",
     "text": [
      "Generated sequence:\n",
      "Quux(aaa=20, bbb='0F0C79')\n",
      "Quux(aaa=24, bbb='93846A')\n",
      "Quux(aaa=70, bbb='5398AE')\n",
      "Quux(aaa=47, bbb='FB860B')\n",
      "Quux(aaa=92, bbb='2B6F91')\n"
     ]
    }
   ],
   "source": [
    "g.reset(seed=99999); print_generated_sequence(g, num=5, sep='\\n')"
   ]
  },
  {
   "cell_type": "code",
   "execution_count": 48,
   "metadata": {},
   "outputs": [
    {
     "name": "stdout",
     "output_type": "stream",
     "text": [
      "Generated sequence: 20, 24, 70, 47, 92\n",
      "Generated sequence: 0F0C79, 93846A, 5398AE, FB860B, 2B6F91\n"
     ]
    }
   ],
   "source": [
    "h1.reset(seed=99999); print_generated_sequence(h1, num=5)\n",
    "h2.reset(seed=99999); print_generated_sequence(h2, num=5)"
   ]
  },
  {
   "cell_type": "markdown",
   "metadata": {},
   "source": [
    "## Class `IterateOver`"
   ]
  },
  {
   "cell_type": "code",
   "execution_count": 49,
   "metadata": {},
   "outputs": [],
   "source": [
    "seq = ['aa', 'bb', 'cc', 'dd', 'ee']"
   ]
  },
  {
   "cell_type": "code",
   "execution_count": 50,
   "metadata": {},
   "outputs": [],
   "source": [
    "g = IterateOver(seq)"
   ]
  },
  {
   "cell_type": "code",
   "execution_count": 51,
   "metadata": {},
   "outputs": [
    {
     "name": "stdout",
     "output_type": "stream",
     "text": [
      "['aa', 'bb', 'cc']\n",
      "['aa', 'bb', 'cc', 'dd', 'ee']\n",
      "['aa', 'bb', 'cc', 'dd', 'ee']\n"
     ]
    }
   ],
   "source": [
    "g.reset(); print(list(g.generate(N=3)))\n",
    "g.reset(); print(list(g.generate(N=10)))\n",
    "g.reset(); print(list(g))"
   ]
  },
  {
   "cell_type": "markdown",
   "metadata": {},
   "source": [
    "## Using tohu generators as iterators"
   ]
  },
  {
   "cell_type": "markdown",
   "metadata": {},
   "source": [
    "Each `tohu` generator can also be used as a Python iterator producing an (infinite) series of elements."
   ]
  },
  {
   "cell_type": "code",
   "execution_count": 52,
   "metadata": {},
   "outputs": [
    {
     "name": "stdout",
     "output_type": "stream",
     "text": [
      "161 258 356 432 478 221 281 311 203 229 307 470 410 410 367 203 130 455 270 370 296 "
     ]
    }
   ],
   "source": [
    "int_generator = Integer(low=100, high=500).reset(seed=99999)\n",
    "\n",
    "for i, x in enumerate(int_generator):\n",
    "    if i > 20:\n",
    "        break\n",
    "    print(x, end=\" \")"
   ]
  },
  {
   "cell_type": "markdown",
   "metadata": {},
   "source": [
    "## `ItemList`"
   ]
  },
  {
   "cell_type": "markdown",
   "metadata": {},
   "source": [
    "The `.generate()` method produces an `ItemList` instance."
   ]
  },
  {
   "cell_type": "code",
   "execution_count": 53,
   "metadata": {},
   "outputs": [],
   "source": [
    "g = HashDigest(length=6)"
   ]
  },
  {
   "cell_type": "code",
   "execution_count": 54,
   "metadata": {},
   "outputs": [
    {
     "name": "stdout",
     "output_type": "stream",
     "text": [
      "<ItemList containing 10 items>\n"
     ]
    }
   ],
   "source": [
    "item_list = g.generate(N=10, seed=12345)\n",
    "print(item_list)"
   ]
  },
  {
   "cell_type": "markdown",
   "metadata": {},
   "source": [
    "Fundamentally an `ItemList` behaves like a regular list."
   ]
  },
  {
   "cell_type": "code",
   "execution_count": 55,
   "metadata": {},
   "outputs": [
    {
     "name": "stdout",
     "output_type": "stream",
     "text": [
      "['046CE0', 'FFB25A', 'B1DB13', '4F7953', '855677', '0A76B2', '1C80DD', '593213', 'FD8AFB', 'C6CD8C']\n"
     ]
    }
   ],
   "source": [
    "print(list(item_list))"
   ]
  },
  {
   "cell_type": "code",
   "execution_count": 56,
   "metadata": {},
   "outputs": [
    {
     "name": "stdout",
     "output_type": "stream",
     "text": [
      "['B1DB13', '4F7953', '046CE0', 'FD8AFB', '1C80DD', 'C6CD8C']\n",
      "['C6CD8C', 'B1DB13', 'FFB25A', '593213', '4F7953', 'FD8AFB']\n",
      "['0A76B2', 'B1DB13', 'FFB25A', '855677', 'C6CD8C', '046CE0']\n"
     ]
    }
   ],
   "source": [
    "item_list.reset(seed=999999)\n",
    "print(list(item_list.subsample(num=6)))\n",
    "print(list(item_list.subsample(num=6)))\n",
    "print(list(item_list.subsample(num=6)))"
   ]
  },
  {
   "cell_type": "code",
   "execution_count": 57,
   "metadata": {},
   "outputs": [
    {
     "name": "stdout",
     "output_type": "stream",
     "text": [
      "['046CE0', '4F7953', '593213', 'C6CD8C']\n",
      "['046CE0', 'FFB25A', 'B1DB13', '855677']\n",
      "['046CE0', 'FFB25A', '4F7953', '855677', 'C6CD8C']\n"
     ]
    }
   ],
   "source": [
    "item_list.reset(seed=99999)\n",
    "print(list(item_list.subsample(p=0.4)))\n",
    "print(list(item_list.subsample(p=0.4)))\n",
    "print(list(item_list.subsample(p=0.4)))"
   ]
  },
  {
   "cell_type": "code",
   "execution_count": null,
   "metadata": {},
   "outputs": [],
   "source": []
  }
 ],
 "metadata": {
  "kernelspec": {
   "display_name": "Python 3",
   "language": "python",
   "name": "python3"
  },
  "language_info": {
   "codemirror_mode": {
    "name": "ipython",
    "version": 3
   },
   "file_extension": ".py",
   "mimetype": "text/x-python",
   "name": "python",
   "nbconvert_exporter": "python",
   "pygments_lexer": "ipython3",
   "version": "3.7.0"
  }
 },
 "nbformat": 4,
 "nbformat_minor": 2
}
