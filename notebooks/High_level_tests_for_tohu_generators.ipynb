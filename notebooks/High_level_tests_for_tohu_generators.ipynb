{
 "cells": [
  {
   "cell_type": "code",
   "execution_count": 1,
   "metadata": {
    "collapsed": true
   },
   "outputs": [],
   "source": [
    "import tohu\n",
    "from tohu.generators import *\n",
    "from utils import print_generated_sequence"
   ]
  },
  {
   "cell_type": "code",
   "execution_count": 2,
   "metadata": {},
   "outputs": [
    {
     "data": {
      "text/plain": [
       "'v0.3.2+13.g682b99c.dirty'"
      ]
     },
     "execution_count": 2,
     "metadata": {},
     "output_type": "execute_result"
    }
   ],
   "source": [
    "# NBVAL_IGNORE_OUTPUT\n",
    "tohu.__version__"
   ]
  },
  {
   "cell_type": "markdown",
   "metadata": {},
   "source": [
    "This notebook contains high-level tests for `tohu`'s \"standard\" generators."
   ]
  },
  {
   "cell_type": "markdown",
   "metadata": {},
   "source": [
    "## Class `Integer`"
   ]
  },
  {
   "cell_type": "markdown",
   "metadata": {},
   "source": [
    "Generates random integers in the range [`lo`, `hi`]."
   ]
  },
  {
   "cell_type": "code",
   "execution_count": 3,
   "metadata": {
    "collapsed": true
   },
   "outputs": [],
   "source": [
    "g = Integer(lo=100, hi=200)"
   ]
  },
  {
   "cell_type": "code",
   "execution_count": 4,
   "metadata": {},
   "outputs": [
    {
     "name": "stdout",
     "output_type": "stream",
     "text": [
      "Generated sequence: 153, 193, 101, 138, 147, 124, 134, 172, 155, 120, 147, 115, 155, 133, 171\n",
      "Generated sequence: 115, 120, 196, 109, 116, 124, 136, 124, 187, 199, 176, 174, 138, 180, 170\n"
     ]
    }
   ],
   "source": [
    "g.reset(seed=12345); print_generated_sequence(g, num=15)\n",
    "g.reset(seed=9999); print_generated_sequence(g, num=15)"
   ]
  },
  {
   "cell_type": "code",
   "execution_count": 5,
   "metadata": {
    "collapsed": true
   },
   "outputs": [],
   "source": [
    "some_integers = g.generate(5, seed=99999)"
   ]
  },
  {
   "cell_type": "code",
   "execution_count": 6,
   "metadata": {},
   "outputs": [
    {
     "name": "stdout",
     "output_type": "stream",
     "text": [
      "115\n",
      "139\n",
      "164\n",
      "183\n",
      "194\n"
     ]
    }
   ],
   "source": [
    "for x in some_integers:\n",
    "    print(x)"
   ]
  },
  {
   "cell_type": "markdown",
   "metadata": {},
   "source": [
    "## Class `Float`"
   ]
  },
  {
   "cell_type": "markdown",
   "metadata": {},
   "source": [
    "Generates random floating point numbers in the range [`lo`, `hi`]."
   ]
  },
  {
   "cell_type": "code",
   "execution_count": 7,
   "metadata": {
    "collapsed": true
   },
   "outputs": [],
   "source": [
    "g = Float(lo=2.71828, hi=3.14159)"
   ]
  },
  {
   "cell_type": "code",
   "execution_count": 8,
   "metadata": {},
   "outputs": [
    {
     "name": "stdout",
     "output_type": "stream",
     "text": [
      "Generated sequence: 2.8946393582471686, 2.7225847111228716, 3.0675981674322017, 2.8446972371045396\n",
      "Generated sequence: 3.0716413078479454, 2.785006097591815, 2.750284761944705, 3.0530348312992466\n"
     ]
    }
   ],
   "source": [
    "g.reset(seed=12345); print_generated_sequence(g, num=4)\n",
    "g.reset(seed=9999); print_generated_sequence(g, num=4)"
   ]
  },
  {
   "cell_type": "markdown",
   "metadata": {},
   "source": [
    "## Class Constant"
   ]
  },
  {
   "cell_type": "markdown",
   "metadata": {},
   "source": [
    "Generates a sequence repeating the same element indefinitely."
   ]
  },
  {
   "cell_type": "code",
   "execution_count": 9,
   "metadata": {},
   "outputs": [
    {
     "name": "stdout",
     "output_type": "stream",
     "text": [
      "Generated sequence: Foobar, Foobar, Foobar, Foobar, Foobar, Foobar, Foobar, Foobar, Foobar, Foobar\n",
      "Generated sequence: 42, 42, 42, 42, 42, 42, 42, 42, 42, 42, 42, 42, 42, 42, 42, 42, 42, 42, 42, 42\n"
     ]
    }
   ],
   "source": [
    "g = Constant(\"Foobar\"); print_generated_sequence(g, num=10)\n",
    "g = Constant(42); print_generated_sequence(g, num=20)"
   ]
  },
  {
   "cell_type": "markdown",
   "metadata": {},
   "source": [
    "## Class `Sequential`"
   ]
  },
  {
   "cell_type": "markdown",
   "metadata": {},
   "source": [
    "Generates a sequence of sequentially numbered strings with a given prefix."
   ]
  },
  {
   "cell_type": "code",
   "execution_count": 10,
   "metadata": {
    "collapsed": true
   },
   "outputs": [],
   "source": [
    "g = Sequential(prefix='Foo_', digits=3)"
   ]
  },
  {
   "cell_type": "markdown",
   "metadata": {},
   "source": [
    "Calling `reset()` on the generator makes the numbering start from 1 again."
   ]
  },
  {
   "cell_type": "code",
   "execution_count": 11,
   "metadata": {},
   "outputs": [
    {
     "name": "stdout",
     "output_type": "stream",
     "text": [
      "Generated sequence: Foo_001, Foo_002, Foo_003, Foo_004, Foo_005\n",
      "Generated sequence: Foo_006, Foo_007, Foo_008, Foo_009, Foo_010\n",
      "-----------------------------\n",
      "Generated sequence: Foo_001, Foo_002, Foo_003, Foo_004, Foo_005\n"
     ]
    }
   ],
   "source": [
    "g.reset()\n",
    "print_generated_sequence(g, num=5)\n",
    "print_generated_sequence(g, num=5)\n",
    "print(\"-----------------------------\")\n",
    "g.reset()\n",
    "print_generated_sequence(g, num=5)"
   ]
  },
  {
   "cell_type": "markdown",
   "metadata": {},
   "source": [
    "**Note**: the method `Sequential.reset()` supports the `seed` argument for consistency with other generators, but its value is ignored - the generator is simply reset to its initial value. This is illustrated here:"
   ]
  },
  {
   "cell_type": "code",
   "execution_count": 12,
   "metadata": {},
   "outputs": [
    {
     "name": "stdout",
     "output_type": "stream",
     "text": [
      "Generated sequence: Foo_001, Foo_002, Foo_003, Foo_004, Foo_005\n",
      "Generated sequence: Foo_001, Foo_002, Foo_003, Foo_004, Foo_005\n"
     ]
    }
   ],
   "source": [
    "g.reset(seed=12345); print_generated_sequence(g, num=5)\n",
    "g.reset(seed=9999); print_generated_sequence(g, num=5)"
   ]
  },
  {
   "cell_type": "markdown",
   "metadata": {},
   "source": [
    "If a new `Sequential` generator is created from an existing one via the `_spawn()` method then its count will start again from 1."
   ]
  },
  {
   "cell_type": "code",
   "execution_count": 13,
   "metadata": {},
   "outputs": [
    {
     "name": "stdout",
     "output_type": "stream",
     "text": [
      "Generated sequence: Quux_01, Quux_02, Quux_03, Quux_04, Quux_05\n",
      "Generated sequence: Quux_06, Quux_07, Quux_08, Quux_09, Quux_10\n",
      "Generated sequence: Quux_01, Quux_02, Quux_03, Quux_04, Quux_05\n"
     ]
    }
   ],
   "source": [
    "g1 = Sequential(prefix=\"Quux_\", digits=2)\n",
    "g1.reset(seed=12345)\n",
    "print_generated_sequence(g1, num=5)\n",
    "\n",
    "g2 = g1._spawn()\n",
    "print_generated_sequence(g1, num=5)\n",
    "print_generated_sequence(g2, num=5)"
   ]
  },
  {
   "cell_type": "markdown",
   "metadata": {},
   "source": [
    "## Class `ChooseFrom`"
   ]
  },
  {
   "cell_type": "code",
   "execution_count": 14,
   "metadata": {
    "collapsed": true
   },
   "outputs": [],
   "source": [
    "g = ChooseFrom(values=['foobar', 42, 'quux', True, 1.2345])"
   ]
  },
  {
   "cell_type": "code",
   "execution_count": 15,
   "metadata": {},
   "outputs": [
    {
     "name": "stdout",
     "output_type": "stream",
     "text": [
      "Generated sequence: 1.2345, 42, True, True, quux, True, 1.2345, quux, True, 42, 1.2345, True, quux, quux, True\n",
      "Generated sequence: 42, quux, 42, quux, quux, True, quux, True, quux, 42, 42, 1.2345, 1.2345, 42, True\n"
     ]
    }
   ],
   "source": [
    "g.reset(seed=12345); print_generated_sequence(g, num=15)\n",
    "g.reset(seed=9999); print_generated_sequence(g, num=15)"
   ]
  },
  {
   "cell_type": "markdown",
   "metadata": {},
   "source": [
    "## Class `CharString`"
   ]
  },
  {
   "cell_type": "code",
   "execution_count": 16,
   "metadata": {
    "collapsed": true
   },
   "outputs": [],
   "source": [
    "chars = \"abcdefghijklmnopqrstuvwxyzABCDEFGHIJKLMNOPQRSTUVWXYZ0123456789,.?!\""
   ]
  },
  {
   "cell_type": "code",
   "execution_count": 17,
   "metadata": {},
   "outputs": [
    {
     "name": "stdout",
     "output_type": "stream",
     "text": [
      "Generated sequence: 2cNWzJ4vWq4IxyU, m1!wtBkzSQe7Se2, bbvxLn2oyXERgEq, ?CyH4rgwNcuETSv, YQchi5lYxcWCq,i\n",
      "Generated sequence: qvkrzLzNDil95jM, ByLv0b.4FyIeXep, 1PHr,yhcR!7O,xB, 3ALLCwMMk0tpfl6, ,pLtCfVBk4hoVMg\n"
     ]
    }
   ],
   "source": [
    "g = CharString(length=15, chars=chars)\n",
    "g.reset(seed=12345); print_generated_sequence(g, num=5)\n",
    "g.reset(seed=9999); print_generated_sequence(g, num=5)"
   ]
  },
  {
   "cell_type": "markdown",
   "metadata": {},
   "source": [
    "## Class `DigitString`"
   ]
  },
  {
   "cell_type": "code",
   "execution_count": 18,
   "metadata": {},
   "outputs": [
    {
     "name": "stdout",
     "output_type": "stream",
     "text": [
      "Generated sequence: 715645736275939, 362979334246618, 619711335272374, 961428493579313, 513469637611182\n",
      "Generated sequence: 232345459419288, 254353718974351, 971927653831916, 985834749554355, 273219288253416\n"
     ]
    }
   ],
   "source": [
    "g = DigitString(length=15)\n",
    "g.reset(seed=12345); print_generated_sequence(g, num=5)\n",
    "g.reset(seed=9999); print_generated_sequence(g, num=5)"
   ]
  },
  {
   "cell_type": "markdown",
   "metadata": {},
   "source": [
    "## Class `HashDigest`"
   ]
  },
  {
   "cell_type": "code",
   "execution_count": 19,
   "metadata": {},
   "outputs": [
    {
     "name": "stdout",
     "output_type": "stream",
     "text": [
      "Generated sequence: 7C1EED5E, 6F45A736, 2E759B3A, 936CC29C, 7A9334C2, 4E661861, 9CC711BE, 3DA352B7, 2FBA3C74\n",
      "Generated sequence: E23D23D4, 54BDAFA5, B9419A2A, 88ED2A54, FBD3AF5A, F3718FA9, 7F4DAAB3, CAC51971, C92B76EC\n"
     ]
    }
   ],
   "source": [
    "g = HashDigest(length=8)\n",
    "g.reset(seed=12345); print_generated_sequence(g, num=9)\n",
    "g.reset(seed=9999); print_generated_sequence(g, num=9)"
   ]
  },
  {
   "cell_type": "code",
   "execution_count": 20,
   "metadata": {},
   "outputs": [
    {
     "name": "stdout",
     "output_type": "stream",
     "text": [
      "Generated sequence: 7C1EED5E6F45A7362E75, 9B3A936CC29C7A9334C2, 4E6618619CC711BE3DA3, 52B72FBA3C749ACFE6D1\n",
      "Generated sequence: E23D23D454BDAFA5B941, 9A2A88ED2A54FBD3AF5A, F3718FA97F4DAAB3CAC5, 1971C92B76ECFD538319\n"
     ]
    }
   ],
   "source": [
    "g = HashDigest(length=20)\n",
    "g.reset(seed=12345); print_generated_sequence(g, num=4)\n",
    "g.reset(seed=9999); print_generated_sequence(g, num=4)"
   ]
  },
  {
   "cell_type": "markdown",
   "metadata": {},
   "source": [
    "## Class `Geolocation`"
   ]
  },
  {
   "cell_type": "code",
   "execution_count": 21,
   "metadata": {},
   "outputs": [
    {
     "name": "stdout",
     "output_type": "stream",
     "text": [
      "Generated sequence:\n",
      "(-30.016845883677178, -15.008422941838589)\n",
      "(-176.3390989954554, -88.1695494977277)\n",
      "(117.07434333134756, 58.53717166567378)\n",
      "(-72.48965212814659, -36.244826064073294)\n",
      "(-47.37179178414874, -23.68589589207437)\n"
     ]
    }
   ],
   "source": [
    "g = Geolocation()\n",
    "g.reset(seed=12345); print_generated_sequence(g, num=5, sep='\\n')"
   ]
  },
  {
   "cell_type": "markdown",
   "metadata": {},
   "source": [
    "## Class `Timestamp`"
   ]
  },
  {
   "cell_type": "code",
   "execution_count": 22,
   "metadata": {
    "collapsed": true
   },
   "outputs": [],
   "source": [
    "g = Timestamp(start='2016-02-14', end='2016-02-18')"
   ]
  },
  {
   "cell_type": "code",
   "execution_count": 23,
   "metadata": {},
   "outputs": [
    {
     "name": "stdout",
     "output_type": "stream",
     "text": [
      "Generated sequence:\n",
      "2016-02-16 12:40:28\n",
      "2016-02-18 10:42:18\n",
      "2016-02-14 01:28:51\n",
      "2016-02-18 23:26:47\n",
      "2016-02-18 20:55:23\n"
     ]
    }
   ],
   "source": [
    "g.reset(seed=12345); print_generated_sequence(g, num=5, sep='\\n')"
   ]
  },
  {
   "cell_type": "code",
   "execution_count": 24,
   "metadata": {
    "collapsed": true
   },
   "outputs": [],
   "source": [
    "g = Timestamp(start='1998-03-01 00:02:00', end='1998-03-01 00:02:15')"
   ]
  },
  {
   "cell_type": "code",
   "execution_count": 25,
   "metadata": {},
   "outputs": [
    {
     "name": "stdout",
     "output_type": "stream",
     "text": [
      "Generated sequence:\n",
      "1998-03-01 00:02:03\n",
      "1998-03-01 00:02:09\n",
      "1998-03-01 00:02:07\n",
      "1998-03-01 00:02:11\n",
      "1998-03-01 00:02:13\n",
      "1998-03-01 00:02:06\n",
      "1998-03-01 00:02:08\n",
      "1998-03-01 00:02:12\n",
      "1998-03-01 00:02:06\n",
      "1998-03-01 00:02:01\n"
     ]
    }
   ],
   "source": [
    "g.reset(seed=99999); print_generated_sequence(g, num=10, sep='\\n')"
   ]
  },
  {
   "cell_type": "markdown",
   "metadata": {},
   "source": [
    "## Using tohu generators as iterators"
   ]
  },
  {
   "cell_type": "markdown",
   "metadata": {},
   "source": [
    "Each `tohu` generator can also be used as a Python iterator producing an (infinite) series of elements."
   ]
  },
  {
   "cell_type": "code",
   "execution_count": 26,
   "metadata": {},
   "outputs": [
    {
     "name": "stdout",
     "output_type": "stream",
     "text": [
      "161 258 356 432 478 221 281 311 203 229 307 470 410 410 367 203 130 455 270 370 296 "
     ]
    }
   ],
   "source": [
    "int_generator = Integer(lo=100, hi=500, seed=99999)\n",
    "\n",
    "for i, x in enumerate(int_generator):\n",
    "    if i > 20:\n",
    "        break\n",
    "    print(x, end=\" \")"
   ]
  },
  {
   "cell_type": "code",
   "execution_count": null,
   "metadata": {
    "collapsed": true
   },
   "outputs": [],
   "source": []
  }
 ],
 "metadata": {
  "kernelspec": {
   "display_name": "Python 3",
   "language": "python",
   "name": "python3"
  },
  "language_info": {
   "codemirror_mode": {
    "name": "ipython",
    "version": 3
   },
   "file_extension": ".py",
   "mimetype": "text/x-python",
   "name": "python",
   "nbconvert_exporter": "python",
   "pygments_lexer": "ipython3",
   "version": "3.6.2"
  }
 },
 "nbformat": 4,
 "nbformat_minor": 2
}
