{
 "cells": [
  {
   "cell_type": "markdown",
   "metadata": {},
   "source": [
    "# Primitive generators"
   ]
  },
  {
   "cell_type": "markdown",
   "metadata": {},
   "source": [
    "This notebook contains tests for tohu's primitive generators."
   ]
  },
  {
   "cell_type": "code",
   "execution_count": 1,
   "metadata": {},
   "outputs": [],
   "source": [
    "import tohu\n",
    "from tohu.v3.primitive_generators import *\n",
    "from tohu.v3.utils import print_generated_sequence, make_dummy_tuples"
   ]
  },
  {
   "cell_type": "code",
   "execution_count": 2,
   "metadata": {},
   "outputs": [
    {
     "name": "stdout",
     "output_type": "stream",
     "text": [
      "Tohu version: v0.5.0+160.g75d7441.dirty\n"
     ]
    }
   ],
   "source": [
    "print(f'Tohu version: {tohu.__version__}')"
   ]
  },
  {
   "cell_type": "markdown",
   "metadata": {},
   "source": [
    "## Constant"
   ]
  },
  {
   "cell_type": "markdown",
   "metadata": {},
   "source": [
    "`Constant` simply returns the same, constant value every time."
   ]
  },
  {
   "cell_type": "code",
   "execution_count": 3,
   "metadata": {},
   "outputs": [],
   "source": [
    "g = Constant('quux')"
   ]
  },
  {
   "cell_type": "code",
   "execution_count": 4,
   "metadata": {},
   "outputs": [
    {
     "name": "stdout",
     "output_type": "stream",
     "text": [
      "Generated sequence: quux, quux, quux, quux, quux, quux, quux, quux, quux, quux\n"
     ]
    }
   ],
   "source": [
    "print_generated_sequence(g, num=10, seed=12345)"
   ]
  },
  {
   "cell_type": "markdown",
   "metadata": {},
   "source": [
    "## Integer"
   ]
  },
  {
   "cell_type": "markdown",
   "metadata": {},
   "source": [
    "`Integer` returns a random integer between `low` and `high` (both inclusive)."
   ]
  },
  {
   "cell_type": "code",
   "execution_count": 5,
   "metadata": {},
   "outputs": [],
   "source": [
    "g = Integer(low=100, high=200)"
   ]
  },
  {
   "cell_type": "code",
   "execution_count": 6,
   "metadata": {},
   "outputs": [
    {
     "name": "stdout",
     "output_type": "stream",
     "text": [
      "Generated sequence: 153, 193, 101, 138, 147, 124, 134, 172, 155, 120\n"
     ]
    }
   ],
   "source": [
    "print_generated_sequence(g, num=10, seed=12345)"
   ]
  },
  {
   "cell_type": "markdown",
   "metadata": {},
   "source": [
    "## HashDigest"
   ]
  },
  {
   "cell_type": "markdown",
   "metadata": {},
   "source": [
    "`HashDigest` returns hex strings representing hash digest values (or alternatively raw bytes)."
   ]
  },
  {
   "cell_type": "markdown",
   "metadata": {},
   "source": [
    "### HashDigest hex strings (uppercase)"
   ]
  },
  {
   "cell_type": "code",
   "execution_count": 7,
   "metadata": {},
   "outputs": [],
   "source": [
    "g = HashDigest(length=6)"
   ]
  },
  {
   "cell_type": "code",
   "execution_count": 8,
   "metadata": {},
   "outputs": [
    {
     "name": "stdout",
     "output_type": "stream",
     "text": [
      "Generated sequence: E251FB, E52DE1, 1DFDFD, 810876, A44D15, A9AD2D, FE0F5E, 7E5191, 656D56, 224236\n"
     ]
    }
   ],
   "source": [
    "print_generated_sequence(g, num=10, seed=12345)"
   ]
  },
  {
   "cell_type": "markdown",
   "metadata": {},
   "source": [
    "### HashDigest hex strings (lowercase)"
   ]
  },
  {
   "cell_type": "code",
   "execution_count": 9,
   "metadata": {},
   "outputs": [],
   "source": [
    "g = HashDigest(length=6, uppercase=False)"
   ]
  },
  {
   "cell_type": "code",
   "execution_count": 10,
   "metadata": {},
   "outputs": [
    {
     "name": "stdout",
     "output_type": "stream",
     "text": [
      "Generated sequence: e251fb, e52de1, 1dfdfd, 810876, a44d15, a9ad2d, fe0f5e, 7e5191, 656d56, 224236\n"
     ]
    }
   ],
   "source": [
    "print_generated_sequence(g, num=10, seed=12345)"
   ]
  },
  {
   "cell_type": "markdown",
   "metadata": {},
   "source": [
    "### HashDigest byte strings"
   ]
  },
  {
   "cell_type": "code",
   "execution_count": 11,
   "metadata": {},
   "outputs": [],
   "source": [
    "g = HashDigest(length=10, as_bytes=True)"
   ]
  },
  {
   "cell_type": "code",
   "execution_count": 12,
   "metadata": {},
   "outputs": [
    {
     "name": "stdout",
     "output_type": "stream",
     "text": [
      "Generated sequence:\n",
      "\n",
      "b'\\xe2Q\\xfb\\xed\\xe5-\\xe1\\xe3\\x1d\\xfd'\n",
      "b'\\x81\\x08v!\\xa4M\\x15/\\xa9\\xad'\n",
      "b'\\xfe\\x0f^4~Q\\x91\\xd3em'\n",
      "b'\"B6\\x88\\x1d\\x9eu\\x98\\x01\\xbb'\n",
      "b'vl\\xea\\xf6q\\xcd@v;\\x9d'\n"
     ]
    }
   ],
   "source": [
    "print_generated_sequence(g, num=5, seed=12345, sep='\\n')"
   ]
  },
  {
   "cell_type": "markdown",
   "metadata": {},
   "source": [
    "## FakerGenerator"
   ]
  },
  {
   "cell_type": "markdown",
   "metadata": {},
   "source": [
    "`FakerGenerator` gives access to any of the methods supported by the [faker](https://faker.readthedocs.io/) module. Here are a couple of examples."
   ]
  },
  {
   "cell_type": "markdown",
   "metadata": {},
   "source": [
    "#### Example: random names"
   ]
  },
  {
   "cell_type": "code",
   "execution_count": 13,
   "metadata": {},
   "outputs": [],
   "source": [
    "g = FakerGenerator(method='name')"
   ]
  },
  {
   "cell_type": "code",
   "execution_count": 14,
   "metadata": {},
   "outputs": [
    {
     "name": "stdout",
     "output_type": "stream",
     "text": [
      "Generated sequence: Adam Bryan, Jacob Lee, Candice Martinez, Justin Thompson, Heather Rubio, William Jenkins, Brittany Ball, Glenn Johnson\n"
     ]
    }
   ],
   "source": [
    "print_generated_sequence(g, num=8, seed=12345)"
   ]
  },
  {
   "cell_type": "markdown",
   "metadata": {},
   "source": [
    "#### Example: random addresses"
   ]
  },
  {
   "cell_type": "code",
   "execution_count": 15,
   "metadata": {},
   "outputs": [],
   "source": [
    "g = FakerGenerator(method='address')"
   ]
  },
  {
   "cell_type": "code",
   "execution_count": 16,
   "metadata": {},
   "outputs": [
    {
     "name": "stdout",
     "output_type": "stream",
     "text": [
      "Generated sequence:\n",
      "\n",
      "453 Ryan Islands\n",
      "Greenstad, NY 24986\n",
      "---\n",
      "69822 Christian Street Apt. 750\n",
      "Irwinmouth, AL 87519\n",
      "---\n",
      "16192 Hall Mount Suite 503\n",
      "South Jomouth, MP 34282\n",
      "---\n",
      "024 Collier Curve Apt. 852\n",
      "North Bruce, MI 51370\n",
      "---\n",
      "Unit 2053 Box 8179\n",
      "DPO AE 82565\n",
      "---\n",
      "835 Hale Overpass Apt. 253\n",
      "East Edwardton, OK 19708\n",
      "---\n",
      "91486 Karen Lodge\n",
      "Port Jackbury, FM 23812\n",
      "---\n",
      "3686 Carlos Lodge Apt. 993\n",
      "Amandaberg, NH 16932\n"
     ]
    }
   ],
   "source": [
    "print_generated_sequence(g, num=8, seed=12345, sep='\\n---\\n')"
   ]
  },
  {
   "cell_type": "markdown",
   "metadata": {},
   "source": [
    "## IterateOver"
   ]
  },
  {
   "cell_type": "markdown",
   "metadata": {},
   "source": [
    "`IterateOver` is a generator which simply iterates over a given sequence. Note that once the generator has been exhausted (by iterating over all its elements), it needs to be reset before it can produce elements again."
   ]
  },
  {
   "cell_type": "code",
   "execution_count": 17,
   "metadata": {},
   "outputs": [],
   "source": [
    "seq = ['a', 'b', 'c', 'd', 'e']"
   ]
  },
  {
   "cell_type": "code",
   "execution_count": 18,
   "metadata": {},
   "outputs": [],
   "source": [
    "g = IterateOver(seq)"
   ]
  },
  {
   "cell_type": "code",
   "execution_count": 19,
   "metadata": {},
   "outputs": [
    {
     "name": "stdout",
     "output_type": "stream",
     "text": [
      "['a', 'b', 'c', 'd', 'e']\n",
      "[]\n",
      "['a', 'b', 'c', 'd', 'e']\n"
     ]
    }
   ],
   "source": [
    "g.reset()\n",
    "print([x for x in g])\n",
    "print([x for x in g])\n",
    "g.reset()\n",
    "print([x for x in g])"
   ]
  },
  {
   "cell_type": "markdown",
   "metadata": {},
   "source": [
    "## SelectOne"
   ]
  },
  {
   "cell_type": "code",
   "execution_count": 20,
   "metadata": {},
   "outputs": [
    {
     "data": {
      "text/plain": [
       "[Quux(x='AA', y='aa'),\n",
       " Quux(x='BB', y='bb'),\n",
       " Quux(x='CC', y='cc'),\n",
       " Quux(x='DD', y='dd'),\n",
       " Quux(x='EE', y='ee')]"
      ]
     },
     "execution_count": 20,
     "metadata": {},
     "output_type": "execute_result"
    }
   ],
   "source": [
    "some_tuples = make_dummy_tuples()\n",
    "some_tuples"
   ]
  },
  {
   "cell_type": "code",
   "execution_count": 21,
   "metadata": {},
   "outputs": [],
   "source": [
    "g = SelectOne(some_tuples)"
   ]
  },
  {
   "cell_type": "code",
   "execution_count": 22,
   "metadata": {},
   "outputs": [
    {
     "name": "stdout",
     "output_type": "stream",
     "text": [
      "Generated sequence:\n",
      "\n",
      "Quux(x='CC', y='cc')\n",
      "Quux(x='BB', y='bb')\n",
      "Quux(x='EE', y='ee')\n",
      "Quux(x='BB', y='bb')\n",
      "Quux(x='CC', y='cc')\n",
      "Quux(x='BB', y='bb')\n",
      "Quux(x='BB', y='bb')\n",
      "Quux(x='DD', y='dd')\n",
      "Quux(x='BB', y='bb')\n",
      "Quux(x='DD', y='dd')\n"
     ]
    }
   ],
   "source": [
    "print_generated_sequence(g, num=10, sep='\\n', seed=12345)"
   ]
  },
  {
   "cell_type": "markdown",
   "metadata": {},
   "source": [
    "By default, all possible values are chosen with equal probability, but this can be changed by passing a distribution as the parameter `p`."
   ]
  },
  {
   "cell_type": "code",
   "execution_count": 23,
   "metadata": {},
   "outputs": [],
   "source": [
    "g = SelectOne(some_tuples, p=[0.1, 0.05, 0.7, 0.03, 0.12])"
   ]
  },
  {
   "cell_type": "code",
   "execution_count": 24,
   "metadata": {},
   "outputs": [
    {
     "name": "stdout",
     "output_type": "stream",
     "text": [
      "Generated sequence:\n",
      "\n",
      "Quux(x='CC', y='cc')\n",
      "Quux(x='EE', y='ee')\n",
      "Quux(x='CC', y='cc')\n",
      "Quux(x='AA', y='aa')\n",
      "Quux(x='CC', y='cc')\n",
      "Quux(x='CC', y='cc')\n",
      "Quux(x='CC', y='cc')\n",
      "Quux(x='CC', y='cc')\n",
      "Quux(x='CC', y='cc')\n",
      "Quux(x='AA', y='aa')\n"
     ]
    }
   ],
   "source": [
    "print_generated_sequence(g, num=10, sep='\\n', seed=99999)"
   ]
  },
  {
   "cell_type": "code",
   "execution_count": null,
   "metadata": {},
   "outputs": [],
   "source": []
  }
 ],
 "metadata": {
  "kernelspec": {
   "display_name": "Python 3",
   "language": "python",
   "name": "python3"
  },
  "language_info": {
   "codemirror_mode": {
    "name": "ipython",
    "version": 3
   },
   "file_extension": ".py",
   "mimetype": "text/x-python",
   "name": "python",
   "nbconvert_exporter": "python",
   "pygments_lexer": "ipython3",
   "version": "3.7.0"
  }
 },
 "nbformat": 4,
 "nbformat_minor": 2
}
