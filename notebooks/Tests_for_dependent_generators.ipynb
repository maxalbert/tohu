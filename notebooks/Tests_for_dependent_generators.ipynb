{
 "cells": [
  {
   "cell_type": "code",
   "execution_count": 1,
   "metadata": {},
   "outputs": [],
   "source": [
    "import tohu\n",
    "from tohu import *\n",
    "from collections import namedtuple\n",
    "from utils import print_generated_sequence"
   ]
  },
  {
   "cell_type": "code",
   "execution_count": 2,
   "metadata": {},
   "outputs": [
    {
     "name": "stdout",
     "output_type": "stream",
     "text": [
      "Tohu version: v0.5.0+100.g5176c9c.dirty\n"
     ]
    }
   ],
   "source": [
    "print(f\"Tohu version: {tohu.__version__}\")"
   ]
  },
  {
   "cell_type": "markdown",
   "metadata": {},
   "source": [
    "### Extracting attributes and aliasing"
   ]
  },
  {
   "cell_type": "code",
   "execution_count": 3,
   "metadata": {},
   "outputs": [
    {
     "data": {
      "text/plain": [
       "[Foobar(foo='aa', bar='aaa'),\n",
       " Foobar(foo='bb', bar='bbb'),\n",
       " Foobar(foo='cc', bar='ccc')]"
      ]
     },
     "execution_count": 3,
     "metadata": {},
     "output_type": "execute_result"
    }
   ],
   "source": [
    "characters = 'abcdefghijklmnopqrstuvwxyz'\n",
    "\n",
    "Foobar = namedtuple('Foobar', ('foo', 'bar'))\n",
    "items = [Foobar(c+c, c+c+c) for c in characters]\n",
    "\n",
    "items[:3]"
   ]
  },
  {
   "cell_type": "markdown",
   "metadata": {},
   "source": [
    "Let's define a generator `xx` which selects random elements from `items`, and two other generators `yy` and `zz` which extract individual attributes from these elements."
   ]
  },
  {
   "cell_type": "code",
   "execution_count": 4,
   "metadata": {},
   "outputs": [],
   "source": [
    "xx = SelectOne(items)\n",
    "yy = xx.foo\n",
    "zz = xx.bar"
   ]
  },
  {
   "cell_type": "markdown",
   "metadata": {},
   "source": [
    "When `xx` is reset, internally this also automatically resets `yy` and `zz` with the same seed (because they are \"dependent generators\" whose parent is `xx`)."
   ]
  },
  {
   "cell_type": "code",
   "execution_count": 5,
   "metadata": {},
   "outputs": [
    {
     "name": "stdout",
     "output_type": "stream",
     "text": [
      "Generated sequence:\n",
      "Foobar(foo='cc', bar='ccc')\n",
      "Foobar(foo='ff', bar='fff')\n",
      "Foobar(foo='bb', bar='bbb')\n",
      "Foobar(foo='ee', bar='eee')\n",
      "Foobar(foo='jj', bar='jjj')\n",
      "Foobar(foo='ff', bar='fff')\n",
      "Foobar(foo='cc', bar='ccc')\n",
      "Foobar(foo='bb', bar='bbb')\n",
      "Foobar(foo='ww', bar='www')\n",
      "Foobar(foo='rr', bar='rrr')\n",
      "Generated sequence: cc, ff, bb, ee, jj, ff, cc, bb, ww, rr\n",
      "Generated sequence: ccc, fff, bbb, eee, jjj, fff, ccc, bbb, www, rrr\n"
     ]
    }
   ],
   "source": [
    "xx.reset(seed=12345)\n",
    "\n",
    "print_generated_sequence(xx, num=10, sep='\\n')\n",
    "print_generated_sequence(yy, num=10)\n",
    "print_generated_sequence(zz, num=10)"
   ]
  },
  {
   "cell_type": "markdown",
   "metadata": {},
   "source": [
    "- - -"
   ]
  },
  {
   "cell_type": "markdown",
   "metadata": {},
   "source": [
    "This also works if `xx`, `yy`, `zz` are defined inside a `CustomGenerator`."
   ]
  },
  {
   "cell_type": "code",
   "execution_count": 6,
   "metadata": {},
   "outputs": [],
   "source": [
    "class QuuxGenerator(CustomGenerator):\n",
    "    xx = SelectOne(items)\n",
    "    yy = xx.foo\n",
    "    zz = xx.bar\n",
    "    ww = yy  # alias"
   ]
  },
  {
   "cell_type": "code",
   "execution_count": 7,
   "metadata": {},
   "outputs": [],
   "source": [
    "g = QuuxGenerator()"
   ]
  },
  {
   "cell_type": "code",
   "execution_count": 8,
   "metadata": {},
   "outputs": [
    {
     "data": {
      "text/plain": [
       "[Quux(xx=['jj', 'jjj'], yy='jj', zz='jjj', ww='jj'),\n",
       " Quux(xx=['cc', 'ccc'], yy='cc', zz='ccc', ww='cc'),\n",
       " Quux(xx=['ee', 'eee'], yy='ee', zz='eee', ww='ee'),\n",
       " Quux(xx=['zz', 'zzz'], yy='zz', zz='zzz', ww='zz'),\n",
       " Quux(xx=['qq', 'qqq'], yy='qq', zz='qqq', ww='qq'),\n",
       " Quux(xx=['aa', 'aaa'], yy='aa', zz='aaa', ww='aa'),\n",
       " Quux(xx=['dd', 'ddd'], yy='dd', zz='ddd', ww='dd'),\n",
       " Quux(xx=['kk', 'kkk'], yy='kk', zz='kkk', ww='kk'),\n",
       " Quux(xx=['kk', 'kkk'], yy='kk', zz='kkk', ww='kk'),\n",
       " Quux(xx=['nn', 'nnn'], yy='nn', zz='nnn', ww='nn')]"
      ]
     },
     "execution_count": 8,
     "metadata": {},
     "output_type": "execute_result"
    }
   ],
   "source": [
    "list(g.generate(10, seed=12345))"
   ]
  },
  {
   "cell_type": "markdown",
   "metadata": {},
   "source": [
    "- - -"
   ]
  },
  {
   "cell_type": "markdown",
   "metadata": {},
   "source": [
    "Just for illustration, let's repeat the last example but with a different set of items (produced by another custom generator, although this doesn't really matter)."
   ]
  },
  {
   "cell_type": "code",
   "execution_count": 9,
   "metadata": {},
   "outputs": [],
   "source": [
    "class FoobarGenerator(CustomGenerator):\n",
    "    foo = Integer(0, 100)\n",
    "    bar = HashDigest(length=8)"
   ]
  },
  {
   "cell_type": "code",
   "execution_count": 10,
   "metadata": {},
   "outputs": [],
   "source": [
    "fg = FoobarGenerator()"
   ]
  },
  {
   "cell_type": "code",
   "execution_count": 11,
   "metadata": {},
   "outputs": [
    {
     "data": {
      "text/plain": [
       "[Foobar(foo=2, bar='067BB37A'),\n",
       " Foobar(foo=64, bar='87921A22'),\n",
       " Foobar(foo=18, bar='10547EDB'),\n",
       " Foobar(foo=85, bar='EE601CEE'),\n",
       " Foobar(foo=82, bar='FE439D8A'),\n",
       " Foobar(foo=24, bar='A52C84DB'),\n",
       " Foobar(foo=49, bar='C82DCF12'),\n",
       " Foobar(foo=58, bar='9F34681B'),\n",
       " Foobar(foo=0, bar='FE3E55FB'),\n",
       " Foobar(foo=60, bar='E1110DAB')]"
      ]
     },
     "execution_count": 11,
     "metadata": {},
     "output_type": "execute_result"
    }
   ],
   "source": [
    "items2 = list(fg.generate(10, seed=12345))\n",
    "items2"
   ]
  },
  {
   "cell_type": "code",
   "execution_count": 12,
   "metadata": {},
   "outputs": [],
   "source": [
    "class QuuxGenerator(CustomGenerator):\n",
    "    xx = SelectOne(items2)\n",
    "    yy = xx.foo\n",
    "    zz = xx.bar"
   ]
  },
  {
   "cell_type": "code",
   "execution_count": 13,
   "metadata": {},
   "outputs": [],
   "source": [
    "g = QuuxGenerator()"
   ]
  },
  {
   "cell_type": "code",
   "execution_count": 14,
   "metadata": {},
   "outputs": [
    {
     "name": "stdout",
     "output_type": "stream",
     "text": [
      "Generated sequence:\n",
      "Quux(xx={'foo': 0, 'bar': 'FE3E55FB'}, yy=0, zz='FE3E55FB')\n",
      "Quux(xx={'foo': 85, 'bar': 'EE601CEE'}, yy=85, zz='EE601CEE')\n",
      "Quux(xx={'foo': 58, 'bar': '9F34681B'}, yy=58, zz='9F34681B')\n",
      "Quux(xx={'foo': 0, 'bar': 'FE3E55FB'}, yy=0, zz='FE3E55FB')\n",
      "Quux(xx={'foo': 2, 'bar': '067BB37A'}, yy=2, zz='067BB37A')\n",
      "Quux(xx={'foo': 24, 'bar': 'A52C84DB'}, yy=24, zz='A52C84DB')\n",
      "Quux(xx={'foo': 49, 'bar': 'C82DCF12'}, yy=49, zz='C82DCF12')\n",
      "Quux(xx={'foo': 2, 'bar': '067BB37A'}, yy=2, zz='067BB37A')\n",
      "Quux(xx={'foo': 18, 'bar': '10547EDB'}, yy=18, zz='10547EDB')\n",
      "Quux(xx={'foo': 82, 'bar': 'FE439D8A'}, yy=82, zz='FE439D8A')\n"
     ]
    }
   ],
   "source": [
    "g.reset(seed=99999); print_generated_sequence(g, num=10, sep='\\n')"
   ]
  },
  {
   "cell_type": "markdown",
   "metadata": {},
   "source": [
    "- - -"
   ]
  },
  {
   "cell_type": "code",
   "execution_count": 15,
   "metadata": {},
   "outputs": [],
   "source": [
    "class QuuxGenerator(CustomGenerator):\n",
    "    aaa = Integer(0, 100)\n",
    "    bbb = HashDigest(length=6)\n",
    "    #bbb = FakerGenerator(method=\"name\")"
   ]
  },
  {
   "cell_type": "code",
   "execution_count": 16,
   "metadata": {},
   "outputs": [],
   "source": [
    "g = QuuxGenerator()"
   ]
  },
  {
   "cell_type": "markdown",
   "metadata": {},
   "source": [
    "Using `ExtractAttribute` we can produce \\\"derived\\\" generators which extract the attributes `aaa`, `bbb` from the elements produced by `g`."
   ]
  },
  {
   "cell_type": "code",
   "execution_count": 17,
   "metadata": {},
   "outputs": [],
   "source": [
    "h1 = ExtractAttribute(g, 'aaa')\n",
    "h2 = ExtractAttribute(g, 'bbb')"
   ]
  },
  {
   "cell_type": "code",
   "execution_count": 18,
   "metadata": {},
   "outputs": [
    {
     "name": "stdout",
     "output_type": "stream",
     "text": [
      "Generated sequence:\n",
      "Quux(aaa=20, bbb='550617')\n",
      "Quux(aaa=24, bbb='D461EC')\n",
      "Quux(aaa=70, bbb='7221B5')\n",
      "Quux(aaa=47, bbb='FB5E55')\n",
      "Quux(aaa=92, bbb='539FF2')\n",
      "Quux(aaa=72, bbb='E94668')\n",
      "Quux(aaa=19, bbb='DCF91D')\n",
      "Quux(aaa=67, bbb='DAB699')\n",
      "Quux(aaa=84, bbb='CBAAAF')\n",
      "Quux(aaa=57, bbb='F08250')\n",
      "Generated sequence: 20, 24, 70, 47, 92, 72, 19, 67, 84, 57\n",
      "Generated sequence: 550617, D461EC, 7221B5, FB5E55, 539FF2, E94668, DCF91D, DAB699, CBAAAF, F08250\n"
     ]
    }
   ],
   "source": [
    "g.reset(seed=99999)\n",
    "print_generated_sequence(g, num=10, sep='\\n')\n",
    "print_generated_sequence(h1, num=10)\n",
    "print_generated_sequence(h2, num=10)"
   ]
  },
  {
   "cell_type": "code",
   "execution_count": null,
   "metadata": {},
   "outputs": [],
   "source": []
  }
 ],
 "metadata": {
  "kernelspec": {
   "display_name": "Python 3",
   "language": "python",
   "name": "python3"
  },
  "language_info": {
   "codemirror_mode": {
    "name": "ipython",
    "version": 3
   },
   "file_extension": ".py",
   "mimetype": "text/x-python",
   "name": "python",
   "nbconvert_exporter": "python",
   "pygments_lexer": "ipython3",
   "version": "3.7.0"
  }
 },
 "nbformat": 4,
 "nbformat_minor": 2
}
