{
 "cells": [
  {
   "cell_type": "markdown",
   "metadata": {},
   "source": [
    "# Derived generators"
   ]
  },
  {
   "cell_type": "code",
   "execution_count": 1,
   "metadata": {},
   "outputs": [],
   "source": [
    "import tohu\n",
    "from tohu.v6.primitive_generators import *\n",
    "from tohu.v6.derived_generators import *\n",
    "from tohu.v6.utils import print_generated_sequence\n",
    "#tohu.v6.logging.logger.setLevel('DEBUG')"
   ]
  },
  {
   "cell_type": "code",
   "execution_count": 2,
   "metadata": {},
   "outputs": [
    {
     "name": "stdout",
     "output_type": "stream",
     "text": [
      "Tohu version: v0.5.2+81.g97a7a95.dirty\n"
     ]
    }
   ],
   "source": [
    "print(f'Tohu version: {tohu.__version__}')"
   ]
  },
  {
   "cell_type": "markdown",
   "metadata": {},
   "source": [
    "## Apply"
   ]
  },
  {
   "cell_type": "code",
   "execution_count": 3,
   "metadata": {},
   "outputs": [],
   "source": [
    "def add(x, y):\n",
    "    return (100 * x) + y"
   ]
  },
  {
   "cell_type": "code",
   "execution_count": 4,
   "metadata": {},
   "outputs": [],
   "source": [
    "g1 = Integer(10, 99).set_tohu_name('g1')\n",
    "g2 = Integer(10, 99).set_tohu_name('g2')"
   ]
  },
  {
   "cell_type": "code",
   "execution_count": 5,
   "metadata": {},
   "outputs": [],
   "source": [
    "h = Apply(add, g1, g2).set_tohu_name('h')"
   ]
  },
  {
   "cell_type": "code",
   "execution_count": 6,
   "metadata": {},
   "outputs": [
    {
     "name": "stdout",
     "output_type": "stream",
     "text": [
      "Generated sequence: 73, 81, 52, 50, 31, 56, 90, 12, 87, 51, 67, 46, 63, 78, 63, 87, 21, 64, 32, 87\n",
      "Generated sequence: 18, 76, 74, 73, 66, 55, 80, 24, 80, 77, 63, 82, 46, 63, 92, 97, 49, 18, 69, 10\n",
      "Generated sequence: 7318, 8176, 5274, 5073, 3166, 5655, 9080, 1224, 8780, 5177, 6763, 4682, 6346, 7863, 6392, 8797, 2149, 6418, 3269, 8710\n"
     ]
    }
   ],
   "source": [
    "g1.reset(seed=11111)\n",
    "g2.reset(seed=22222)\n",
    "h.reset(seed=33333)\n",
    "print_generated_sequence(g1, num=20)\n",
    "print_generated_sequence(g2, num=20)\n",
    "print_generated_sequence(h, num=20)"
   ]
  },
  {
   "cell_type": "markdown",
   "metadata": {},
   "source": [
    "## Lookup"
   ]
  },
  {
   "cell_type": "code",
   "execution_count": 7,
   "metadata": {},
   "outputs": [],
   "source": [
    "mapping = {1: 'a', 2: 'b', 3: 'c', 4: 'd', 5: 'e', 6: 'f', 7: 'g', 8: 'h', 9: 'i'}"
   ]
  },
  {
   "cell_type": "code",
   "execution_count": 8,
   "metadata": {},
   "outputs": [],
   "source": [
    "g = Integer(1, 6)\n",
    "h = Lookup(g, mapping)"
   ]
  },
  {
   "cell_type": "code",
   "execution_count": 9,
   "metadata": {},
   "outputs": [
    {
     "name": "stdout",
     "output_type": "stream",
     "text": [
      "Generated sequence: 1, 5, 2, 6, 6, 2, 4, 4, 1, 4, 4, 5, 3, 1, 2, 3, 3, 1, 4, 6\n",
      "Generated sequence: a, e, b, f, f, b, d, d, a, d, d, e, c, a, b, c, c, a, d, f\n"
     ]
    }
   ],
   "source": [
    "g.reset(seed=12345)\n",
    "print_generated_sequence(g, num=20)\n",
    "print_generated_sequence(h, num=20)"
   ]
  },
  {
   "cell_type": "markdown",
   "metadata": {},
   "source": [
    "## SelectMultiple"
   ]
  },
  {
   "cell_type": "code",
   "execution_count": 10,
   "metadata": {},
   "outputs": [],
   "source": [
    "values = ['a', 'b', 'c', 'd', 'e', 'f', 'g']"
   ]
  },
  {
   "cell_type": "code",
   "execution_count": 11,
   "metadata": {},
   "outputs": [],
   "source": [
    "n_vals = Integer(1, 5)\n",
    "g = SelectMultiple(values, n_vals)"
   ]
  },
  {
   "cell_type": "code",
   "execution_count": 12,
   "metadata": {},
   "outputs": [
    {
     "name": "stdout",
     "output_type": "stream",
     "text": [
      "Generated sequence:\n",
      "\n",
      "['a', 'c', 'g', 'f']\n",
      "['c', 'b', 'c', 'g', 'e']\n",
      "['f', 'a', 'c']\n",
      "['c', 'e', 'f']\n",
      "['d', 'e']\n",
      "['b', 'g', 'c']\n",
      "['f']\n",
      "['f', 'a', 'e', 'a', 'e']\n",
      "['g', 'd', 'e']\n",
      "['g', 'c', 'f', 'c']\n"
     ]
    }
   ],
   "source": [
    "n_vals.reset(seed=11111)\n",
    "g.reset(seed=99999)\n",
    "\n",
    "print_generated_sequence(g, num=10, sep='\\n')"
   ]
  },
  {
   "cell_type": "code",
   "execution_count": null,
   "metadata": {},
   "outputs": [],
   "source": []
  }
 ],
 "metadata": {
  "kernelspec": {
   "display_name": "Python 3",
   "language": "python",
   "name": "python3"
  },
  "language_info": {
   "codemirror_mode": {
    "name": "ipython",
    "version": 3
   },
   "file_extension": ".py",
   "mimetype": "text/x-python",
   "name": "python",
   "nbconvert_exporter": "python",
   "pygments_lexer": "ipython3",
   "version": "3.7.0"
  }
 },
 "nbformat": 4,
 "nbformat_minor": 2
}
