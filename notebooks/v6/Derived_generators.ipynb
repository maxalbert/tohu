{
 "cells": [
  {
   "cell_type": "markdown",
   "metadata": {},
   "source": [
    "# Derived generators"
   ]
  },
  {
   "cell_type": "code",
   "execution_count": 1,
   "metadata": {},
   "outputs": [],
   "source": [
    "import tohu\n",
    "from tohu.v6.primitive_generators import *\n",
    "from tohu.v6.derived_generators import *\n",
    "from tohu.v6.utils import print_generated_sequence\n",
    "from datetime import datetime\n",
    "#tohu.v6.logging.logger.setLevel('DEBUG')"
   ]
  },
  {
   "cell_type": "code",
   "execution_count": 2,
   "metadata": {},
   "outputs": [
    {
     "name": "stdout",
     "output_type": "stream",
     "text": [
      "Tohu version: v0.5.2+270.g0e1b4d6.dirty\n"
     ]
    }
   ],
   "source": [
    "print(f'Tohu version: {tohu.__version__}')"
   ]
  },
  {
   "cell_type": "markdown",
   "metadata": {},
   "source": [
    "## Apply"
   ]
  },
  {
   "cell_type": "code",
   "execution_count": 3,
   "metadata": {},
   "outputs": [],
   "source": [
    "def add(x, y):\n",
    "    return (100 * x) + y"
   ]
  },
  {
   "cell_type": "code",
   "execution_count": 4,
   "metadata": {},
   "outputs": [],
   "source": [
    "g1 = Integer(10, 99).set_tohu_name('g1')\n",
    "g2 = Integer(10, 99).set_tohu_name('g2')"
   ]
  },
  {
   "cell_type": "code",
   "execution_count": 5,
   "metadata": {},
   "outputs": [],
   "source": [
    "h = Apply(add, g1, g2).set_tohu_name('h')"
   ]
  },
  {
   "cell_type": "code",
   "execution_count": 6,
   "metadata": {},
   "outputs": [
    {
     "name": "stdout",
     "output_type": "stream",
     "text": [
      "Generated sequence: 73, 81, 52, 50, 31, 56, 90, 12, 87, 51, 67, 46, 63, 78, 63, 87, 21, 64, 32, 87\n",
      "Generated sequence: 18, 76, 74, 73, 66, 55, 80, 24, 80, 77, 63, 82, 46, 63, 92, 97, 49, 18, 69, 10\n",
      "Generated sequence: 7318, 8176, 5274, 5073, 3166, 5655, 9080, 1224, 8780, 5177, 6763, 4682, 6346, 7863, 6392, 8797, 2149, 6418, 3269, 8710\n"
     ]
    }
   ],
   "source": [
    "g1.reset(seed=11111)\n",
    "g2.reset(seed=22222)\n",
    "h.reset(seed=33333)\n",
    "print_generated_sequence(g1, num=20)\n",
    "print_generated_sequence(g2, num=20)\n",
    "print_generated_sequence(h, num=20)"
   ]
  },
  {
   "cell_type": "markdown",
   "metadata": {},
   "source": [
    "## Lookup"
   ]
  },
  {
   "cell_type": "code",
   "execution_count": 7,
   "metadata": {},
   "outputs": [],
   "source": [
    "mapping = {1: 'a', 2: 'b', 3: 'c', 4: 'd', 5: 'e', 6: 'f', 7: 'g', 8: 'h', 9: 'i'}"
   ]
  },
  {
   "cell_type": "code",
   "execution_count": 8,
   "metadata": {},
   "outputs": [],
   "source": [
    "g = Integer(1, 6)\n",
    "h = Lookup(g, mapping)"
   ]
  },
  {
   "cell_type": "code",
   "execution_count": 9,
   "metadata": {},
   "outputs": [
    {
     "name": "stdout",
     "output_type": "stream",
     "text": [
      "Generated sequence: 1, 5, 2, 6, 6, 2, 4, 4, 1, 4, 4, 5, 3, 1, 2, 3, 3, 1, 4, 6\n",
      "Generated sequence: a, e, b, f, f, b, d, d, a, d, d, e, c, a, b, c, c, a, d, f\n"
     ]
    }
   ],
   "source": [
    "g.reset(seed=12345)\n",
    "print_generated_sequence(g, num=20)\n",
    "print_generated_sequence(h, num=20)"
   ]
  },
  {
   "cell_type": "markdown",
   "metadata": {},
   "source": [
    "## SelectOne"
   ]
  },
  {
   "cell_type": "code",
   "execution_count": 10,
   "metadata": {},
   "outputs": [],
   "source": [
    "values = ['a', 'b', 'c', 'd', 'e', 'f', 'g']"
   ]
  },
  {
   "cell_type": "code",
   "execution_count": 11,
   "metadata": {},
   "outputs": [],
   "source": [
    "g = SelectOne(values)"
   ]
  },
  {
   "cell_type": "code",
   "execution_count": 12,
   "metadata": {},
   "outputs": [
    {
     "name": "stdout",
     "output_type": "stream",
     "text": [
      "Generated sequence: d, f, a, g, g, g, c, g, c, b, c, e, d, b, c, a, g, d, c, e\n"
     ]
    }
   ],
   "source": [
    "print_generated_sequence(g, num=20, seed=12345)"
   ]
  },
  {
   "cell_type": "markdown",
   "metadata": {},
   "source": [
    "## SelectMultiple"
   ]
  },
  {
   "cell_type": "code",
   "execution_count": 13,
   "metadata": {},
   "outputs": [],
   "source": [
    "values = ['a', 'b', 'c', 'd', 'e', 'f', 'g']"
   ]
  },
  {
   "cell_type": "code",
   "execution_count": 14,
   "metadata": {},
   "outputs": [],
   "source": [
    "n_vals = Integer(1, 5)\n",
    "g = SelectMultiple(values, n_vals)"
   ]
  },
  {
   "cell_type": "code",
   "execution_count": 15,
   "metadata": {},
   "outputs": [
    {
     "name": "stdout",
     "output_type": "stream",
     "text": [
      "Generated sequence:\n",
      "\n",
      "['a', 'c', 'e', 'b']\n",
      "['c', 'd', 'b', 'g', 'e']\n",
      "['f', 'e', 'g']\n",
      "['e', 'b', 'a']\n",
      "['f', 'c']\n",
      "['e', 'd', 'g']\n",
      "['c']\n",
      "['g', 'c', 'e', 'b', 'f']\n",
      "['f', 'b', 'c']\n",
      "['e', 'b', 'c', 'a']\n"
     ]
    }
   ],
   "source": [
    "n_vals.reset(seed=11111)\n",
    "g.reset(seed=99999)\n",
    "\n",
    "print_generated_sequence(g, num=10, sep='\\n')"
   ]
  },
  {
   "cell_type": "markdown",
   "metadata": {},
   "source": [
    "## Timestamp"
   ]
  },
  {
   "cell_type": "code",
   "execution_count": 16,
   "metadata": {},
   "outputs": [],
   "source": [
    "g_start = Constant(datetime(2018, 1, 1, 11, 22, 33))\n",
    "g_end = TimestampPrimitive(start=\"2018-02-10\", end=\"2018-02-20\")"
   ]
  },
  {
   "cell_type": "code",
   "execution_count": 17,
   "metadata": {},
   "outputs": [],
   "source": [
    "g = TimestampDerived(start=g_start, end=g_end)"
   ]
  },
  {
   "cell_type": "code",
   "execution_count": 18,
   "metadata": {},
   "outputs": [
    {
     "name": "stdout",
     "output_type": "stream",
     "text": [
      "<class 'datetime.datetime'>\n"
     ]
    }
   ],
   "source": [
    "print(type(next(g)))"
   ]
  },
  {
   "cell_type": "code",
   "execution_count": 19,
   "metadata": {},
   "outputs": [
    {
     "name": "stdout",
     "output_type": "stream",
     "text": [
      "Generated sequence:\n",
      "\n",
      "2018-02-10 06:27:49\n",
      "2018-01-17 04:20:49\n",
      "2018-01-10 18:12:26\n",
      "2018-01-28 05:37:05\n",
      "2018-01-19 13:41:01\n",
      "2018-02-11 02:01:12\n",
      "2018-02-13 20:01:56\n",
      "2018-02-15 04:57:24\n",
      "2018-02-05 10:48:11\n",
      "2018-01-28 20:28:35\n"
     ]
    }
   ],
   "source": [
    "g_start.reset(seed=11111)\n",
    "g_end.reset(seed=22222)\n",
    "\n",
    "print_generated_sequence(g, num=10, sep='\\n', seed=99999)"
   ]
  },
  {
   "cell_type": "code",
   "execution_count": 20,
   "metadata": {},
   "outputs": [],
   "source": [
    "g = TimestampDerived(start=g_start, end=g_end).strftime(\"%-d %b %Y, %H:%M (%a)\")"
   ]
  },
  {
   "cell_type": "code",
   "execution_count": 21,
   "metadata": {},
   "outputs": [
    {
     "data": {
      "text/plain": [
       "str"
      ]
     },
     "execution_count": 21,
     "metadata": {},
     "output_type": "execute_result"
    }
   ],
   "source": [
    "type(next(g))"
   ]
  },
  {
   "cell_type": "code",
   "execution_count": 22,
   "metadata": {},
   "outputs": [
    {
     "name": "stdout",
     "output_type": "stream",
     "text": [
      "Generated sequence:\n",
      "\n",
      "10 Feb 2018, 06:27 (Sat)\n",
      "17 Jan 2018, 04:20 (Wed)\n",
      "10 Jan 2018, 18:12 (Wed)\n",
      "28 Jan 2018, 05:37 (Sun)\n",
      "19 Jan 2018, 13:41 (Fri)\n",
      "11 Feb 2018, 02:01 (Sun)\n",
      "13 Feb 2018, 20:01 (Tue)\n",
      "15 Feb 2018, 04:57 (Thu)\n",
      "5 Feb 2018, 10:48 (Mon)\n",
      "28 Jan 2018, 20:28 (Sun)\n"
     ]
    }
   ],
   "source": [
    "g_start.reset(seed=11111)\n",
    "g_end.reset(seed=22222)\n",
    "\n",
    "print_generated_sequence(g, num=10, sep='\\n', seed=99999)"
   ]
  },
  {
   "cell_type": "code",
   "execution_count": null,
   "metadata": {},
   "outputs": [],
   "source": []
  }
 ],
 "metadata": {
  "kernelspec": {
   "display_name": "Python 3",
   "language": "python",
   "name": "python3"
  },
  "language_info": {
   "codemirror_mode": {
    "name": "ipython",
    "version": 3
   },
   "file_extension": ".py",
   "mimetype": "text/x-python",
   "name": "python",
   "nbconvert_exporter": "python",
   "pygments_lexer": "ipython3",
   "version": "3.7.0"
  }
 },
 "nbformat": 4,
 "nbformat_minor": 2
}
