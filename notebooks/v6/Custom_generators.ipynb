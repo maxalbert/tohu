{
 "cells": [
  {
   "cell_type": "markdown",
   "metadata": {},
   "source": [
    "# Custom generators"
   ]
  },
  {
   "cell_type": "code",
   "execution_count": 1,
   "metadata": {},
   "outputs": [],
   "source": [
    "import tohu\n",
    "from tohu.v6.primitive_generators import *\n",
    "from tohu.v6.derived_generators import *\n",
    "from tohu.v6.generator_dispatch import *\n",
    "from tohu.v6.custom_generator import *\n",
    "from tohu.v6.utils import print_generated_sequence, make_dummy_tuples\n",
    "#tohu.v6.logging.logger.setLevel('DEBUG')\n",
    "from pandas.util.testing import assert_frame_equal, assert_series_equal"
   ]
  },
  {
   "cell_type": "code",
   "execution_count": 2,
   "metadata": {},
   "outputs": [
    {
     "name": "stdout",
     "output_type": "stream",
     "text": [
      "Tohu version: v0.6.0+4.g27cf169.dirty\n"
     ]
    }
   ],
   "source": [
    "print(f'Tohu version: {tohu.__version__}')"
   ]
  },
  {
   "cell_type": "markdown",
   "metadata": {},
   "source": [
    "## Independent field generators"
   ]
  },
  {
   "cell_type": "markdown",
   "metadata": {},
   "source": [
    "At its most basic, a custom generator provides simply a convenient way of grouping other generators together in a single namespace."
   ]
  },
  {
   "cell_type": "code",
   "execution_count": 3,
   "metadata": {},
   "outputs": [],
   "source": [
    "class QuuxGenerator(CustomGenerator):\n",
    "    __fields__ = [\"dd\", \"bb\", \"cc\"]\n",
    "\n",
    "    aa = Integer(1, 7)\n",
    "    bb = HashDigest(length=8)\n",
    "    cc = FakerGenerator(method=\"name\")\n",
    "    dd = Integer(100, 200)\n",
    "    \n",
    "    #__fields__ = ['aa', 'cc']  # only these will be exported"
   ]
  },
  {
   "cell_type": "code",
   "execution_count": 4,
   "metadata": {},
   "outputs": [],
   "source": [
    "g = QuuxGenerator()"
   ]
  },
  {
   "cell_type": "code",
   "execution_count": 5,
   "metadata": {},
   "outputs": [
    {
     "name": "stdout",
     "output_type": "stream",
     "text": [
      "Field names: ['dd', 'bb', 'cc']\n"
     ]
    }
   ],
   "source": [
    "print(f\"Field names: {g.field_names}\")"
   ]
  },
  {
   "cell_type": "code",
   "execution_count": 6,
   "metadata": {},
   "outputs": [
    {
     "name": "stdout",
     "output_type": "stream",
     "text": [
      "aa: <Integer (id=a2a0efd329f6) [owned by: <class '__main__.QuuxGenerator'>] >\n",
      "bb: <HashDigest (id=28924f0d61a2) [owned by: <class '__main__.QuuxGenerator'>] >\n",
      "cc: <FakerGenerator (id=b366403df40a) [owned by: <class '__main__.QuuxGenerator'>] >\n",
      "dd: <Integer (id=b63460631b15) [owned by: <class '__main__.QuuxGenerator'>] >\n",
      "\n"
     ]
    }
   ],
   "source": [
    "# NBVAL_IGNORE_OUTPUT\n",
    "print(g.ns_gen_templates.to_str())"
   ]
  },
  {
   "cell_type": "code",
   "execution_count": 7,
   "metadata": {},
   "outputs": [
    {
     "name": "stdout",
     "output_type": "stream",
     "text": [
      "aa: <Integer (id=afba70b4aca7) [owned by: <QuuxGenerator (id=e2cb35a7f2f6)>] >\n",
      "bb: <HashDigest (id=6a505912cd55) [owned by: <QuuxGenerator (id=e2cb35a7f2f6)>] >\n",
      "cc: <FakerGenerator (id=9cad091ea9c3) [owned by: <QuuxGenerator (id=e2cb35a7f2f6)>] >\n",
      "dd: <Integer (id=14a22d3b41c0) [owned by: <QuuxGenerator (id=e2cb35a7f2f6)>] >\n",
      "\n"
     ]
    }
   ],
   "source": [
    "# NBVAL_IGNORE_OUTPUT\n",
    "print(g.ns_gens.to_str())"
   ]
  },
  {
   "cell_type": "code",
   "execution_count": 8,
   "metadata": {},
   "outputs": [
    {
     "name": "stdout",
     "output_type": "stream",
     "text": [
      "Generated sequence:\n",
      "\n",
      "Quux(dd=186, bb='C851F707', cc='Michelle Foster DDS')\n",
      "Quux(dd=133, bb='2553FCD0', cc='Sandra Galvan')\n",
      "Quux(dd=185, bb='CFF9005D', cc='Kristen Aguilar')\n",
      "Quux(dd=107, bb='E9D2528C', cc='Sarah Moore')\n",
      "Quux(dd=107, bb='EAB4D953', cc='Gary Bond')\n"
     ]
    }
   ],
   "source": [
    "print_generated_sequence(g, num=5, sep='\\n', seed=12345)"
   ]
  },
  {
   "cell_type": "markdown",
   "metadata": {},
   "source": [
    "## Simple dependency between field generators"
   ]
  },
  {
   "cell_type": "code",
   "execution_count": 9,
   "metadata": {},
   "outputs": [],
   "source": [
    "chars = ['a', 'b', 'c', 'd', 'e', 'f', 'g']"
   ]
  },
  {
   "cell_type": "code",
   "execution_count": 10,
   "metadata": {},
   "outputs": [],
   "source": [
    "n_vals = Integer(1, 5)\n",
    "g = SelectMultiple(chars, num=n_vals)"
   ]
  },
  {
   "cell_type": "code",
   "execution_count": 11,
   "metadata": {},
   "outputs": [
    {
     "name": "stdout",
     "output_type": "stream",
     "text": [
      "Generated sequence:\n",
      "\n",
      "['a', 'c', 'e', 'b']\n",
      "['c', 'd', 'b', 'g', 'e']\n",
      "['f', 'e', 'g']\n",
      "['e', 'b', 'a']\n",
      "['f', 'c']\n",
      "['e', 'd', 'g']\n",
      "['c']\n",
      "['g', 'c', 'e', 'b', 'f']\n",
      "['f', 'b', 'c']\n",
      "['e', 'b', 'c', 'a']\n"
     ]
    }
   ],
   "source": [
    "n_vals.reset(seed=11111)\n",
    "g.reset(seed=99999)\n",
    "\n",
    "print_generated_sequence(g, num=10, sep='\\n')"
   ]
  },
  {
   "cell_type": "code",
   "execution_count": 12,
   "metadata": {},
   "outputs": [],
   "source": [
    "class QuuxGenerator(CustomGenerator):\n",
    "    n_vals = Integer(1, 5)\n",
    "    vals = SelectMultiple(chars, num=n_vals)"
   ]
  },
  {
   "cell_type": "code",
   "execution_count": 13,
   "metadata": {},
   "outputs": [],
   "source": [
    "g = QuuxGenerator()"
   ]
  },
  {
   "cell_type": "code",
   "execution_count": 14,
   "metadata": {},
   "outputs": [
    {
     "name": "stdout",
     "output_type": "stream",
     "text": [
      "Generated sequence:\n",
      "\n",
      "Quux(n_vals=2, vals=['g', 'f'])\n",
      "Quux(n_vals=3, vals=['e', 'd', 'f'])\n",
      "Quux(n_vals=1, vals=['b'])\n",
      "Quux(n_vals=2, vals=['e', 'c'])\n",
      "Quux(n_vals=5, vals=['g', 'f', 'e', 'b', 'c'])\n",
      "Quux(n_vals=4, vals=['a', 'd', 'b', 'f'])\n",
      "Quux(n_vals=5, vals=['g', 'c', 'b', 'f', 'e'])\n",
      "Quux(n_vals=4, vals=['g', 'f', 'b', 'c'])\n",
      "Quux(n_vals=5, vals=['a', 'e', 'b', 'd', 'g'])\n",
      "Quux(n_vals=3, vals=['c', 'd', 'e'])\n"
     ]
    }
   ],
   "source": [
    "print_generated_sequence(g, num=10, sep='\\n', seed=12345)"
   ]
  },
  {
   "cell_type": "markdown",
   "metadata": {},
   "source": [
    "## Complex dependency between field generators"
   ]
  },
  {
   "cell_type": "code",
   "execution_count": 15,
   "metadata": {},
   "outputs": [],
   "source": [
    "mapping = {\n",
    "    'A': ['a', 'aa', 'aaa', 'aaaa', 'aaaaa'],\n",
    "    'B': ['b', 'bb', 'bbb', 'bbbb', 'bbbbb'],\n",
    "    'C': ['c', 'cc', 'ccc', 'cccc', 'ccccc'],\n",
    "    'D': ['d', 'dd', 'ddd', 'dddd', 'ddddd'],\n",
    "    'E': ['e', 'ee', 'eee', 'eeee', 'eeeee'],\n",
    "    'F': ['f', 'ff', 'fff', 'ffff', 'fffff'],\n",
    "    'G': ['g', 'gg', 'ggg', 'gggg', 'ggggg'],\n",
    "}"
   ]
  },
  {
   "cell_type": "markdown",
   "metadata": {},
   "source": [
    "Custom generators can have complex dependencies between their field generators. For example, in `Quux1Generator` below the field generator `bb` depends on `ll` (and thus indirectly also on `aa`) and `nn`."
   ]
  },
  {
   "cell_type": "code",
   "execution_count": 16,
   "metadata": {},
   "outputs": [],
   "source": [
    "class Quux1Generator(CustomGenerator):\n",
    "    aa = SelectOne(['A', 'B', 'C', 'D', 'E', 'F', 'G'])\n",
    "    ll = Lookup(key=aa, mapping=mapping)\n",
    "    nn = Integer(1, 5)\n",
    "    bb = SelectMultiple(ll, num=nn)"
   ]
  },
  {
   "cell_type": "code",
   "execution_count": 17,
   "metadata": {},
   "outputs": [],
   "source": [
    "g1 = Quux1Generator()"
   ]
  },
  {
   "cell_type": "code",
   "execution_count": 18,
   "metadata": {},
   "outputs": [
    {
     "name": "stdout",
     "output_type": "stream",
     "text": [
      "Generated sequence:\n",
      "\n",
      "Quux1(aa='F', ll=['f', 'ff', 'fff', 'ffff', 'fffff'], nn=3, bb=['ff', 'fffff', 'f'])\n",
      "Quux1(aa='B', ll=['b', 'bb', 'bbb', 'bbbb', 'bbbbb'], nn=5, bb=['bbbb', 'bbb', 'bb', 'b', 'bbbbb'])\n",
      "Quux1(aa='D', ll=['d', 'dd', 'ddd', 'dddd', 'ddddd'], nn=1, bb=['dd'])\n",
      "Quux1(aa='C', ll=['c', 'cc', 'ccc', 'cccc', 'ccccc'], nn=3, bb=['ccccc', 'c', 'ccc'])\n",
      "Quux1(aa='A', ll=['a', 'aa', 'aaa', 'aaaa', 'aaaaa'], nn=4, bb=['aaaa', 'aaa', 'a', 'aa'])\n"
     ]
    }
   ],
   "source": [
    "print_generated_sequence(g1, num=5, sep='\\n', seed=99999)"
   ]
  },
  {
   "cell_type": "markdown",
   "metadata": {},
   "source": [
    "We can get the same output for `bb` without explicitly needing to define the input generators."
   ]
  },
  {
   "cell_type": "code",
   "execution_count": 19,
   "metadata": {},
   "outputs": [],
   "source": [
    "class Quux2Generator(CustomGenerator):\n",
    "    bb = SelectMultiple(Lookup(SelectOne(['A', 'B', 'C', 'D', 'E', 'F', 'G']), mapping), num=Integer(1, 5))"
   ]
  },
  {
   "cell_type": "code",
   "execution_count": 20,
   "metadata": {},
   "outputs": [],
   "source": [
    "g2 = Quux2Generator()"
   ]
  },
  {
   "cell_type": "code",
   "execution_count": 21,
   "metadata": {},
   "outputs": [
    {
     "name": "stdout",
     "output_type": "stream",
     "text": [
      "Generated sequence:\n",
      "\n",
      "Quux2(bb=['ff', 'fffff', 'f'])\n",
      "Quux2(bb=['bbbb', 'bbb', 'bb', 'b', 'bbbbb'])\n",
      "Quux2(bb=['dd'])\n",
      "Quux2(bb=['ccccc', 'c', 'ccc'])\n",
      "Quux2(bb=['aaaa', 'aaa', 'a', 'aa'])\n"
     ]
    }
   ],
   "source": [
    "print_generated_sequence(g2, num=5, sep='\\n', seed=99999)"
   ]
  },
  {
   "cell_type": "markdown",
   "metadata": {},
   "source": [
    "Let's check that both `g1` and `g2` really produce the same elements in column `bb`."
   ]
  },
  {
   "cell_type": "code",
   "execution_count": 22,
   "metadata": {},
   "outputs": [],
   "source": [
    "df1 = g1.generate(num=20, seed=99999).to_df()\n",
    "df2 = g2.generate(num=20, seed=99999).to_df()\n",
    "\n",
    "assert_series_equal(df1[\"bb\"], df2[\"bb\"])"
   ]
  },
  {
   "cell_type": "markdown",
   "metadata": {},
   "source": [
    "## Field generators defined in the `__init__()` method"
   ]
  },
  {
   "cell_type": "markdown",
   "metadata": {},
   "source": [
    "It is possible to define field generators in the `__init__()` method of a custom generator. Note that you can use the `__fields__` attribute to easily define the order in which fields should be output in generated items."
   ]
  },
  {
   "cell_type": "code",
   "execution_count": 23,
   "metadata": {},
   "outputs": [],
   "source": [
    "class QuuxGenerator(CustomGenerator):\n",
    "    __fields__ = ['aa', 'bb', 'cc']  # define the order of fields in generated items\n",
    "\n",
    "    cc = HashDigest(length=8)\n",
    "    aa = Integer(100, 200)\n",
    "    \n",
    "    def __init__(self, method):\n",
    "        self.bb = FakerGenerator(method=method)"
   ]
  },
  {
   "cell_type": "code",
   "execution_count": 24,
   "metadata": {},
   "outputs": [],
   "source": [
    "g = QuuxGenerator(method=\"first_name\")"
   ]
  },
  {
   "cell_type": "code",
   "execution_count": 25,
   "metadata": {},
   "outputs": [
    {
     "name": "stdout",
     "output_type": "stream",
     "text": [
      "Generated sequence:\n",
      "\n",
      "Quux(aa=132, bb='Victoria', cc='09A38AEF')\n",
      "Quux(aa=143, bb='Jasmine', cc='A2E2CCB2')\n",
      "Quux(aa=147, bb='Randall', cc='A4C7842C')\n",
      "Quux(aa=194, bb='Taylor', cc='DAC06047')\n",
      "Quux(aa=174, bb='Abigail', cc='D9307442')\n",
      "Quux(aa=129, bb='Maria', cc='D048295E')\n",
      "Quux(aa=167, bb='Sarah', cc='C016EB9F')\n",
      "Quux(aa=102, bb='Mikayla', cc='03298115')\n",
      "Quux(aa=172, bb='Angela', cc='AA05D88E')\n",
      "Quux(aa=107, bb='Brandi', cc='8A6D4201')\n"
     ]
    }
   ],
   "source": [
    "print_generated_sequence(g, num=10, seed=12345, sep='\\n')"
   ]
  },
  {
   "cell_type": "code",
   "execution_count": null,
   "metadata": {},
   "outputs": [],
   "source": []
  }
 ],
 "metadata": {
  "kernelspec": {
   "display_name": "Python 3",
   "language": "python",
   "name": "python3"
  },
  "language_info": {
   "codemirror_mode": {
    "name": "ipython",
    "version": 3
   },
   "file_extension": ".py",
   "mimetype": "text/x-python",
   "name": "python",
   "nbconvert_exporter": "python",
   "pygments_lexer": "ipython3",
   "version": "3.7.0"
  }
 },
 "nbformat": 4,
 "nbformat_minor": 2
}
